{
 "cells": [
  {
   "cell_type": "markdown",
   "metadata": {},
   "source": [
    "# 单条信息传播的测量与机器学习框架\n",
    "\n",
    "分析某个话题的信息扩散主要有两种方式。第一种方式是描述包括某个主题下所有信息的扩散情况，比如说“韩国部署萨德”这种政治性事件，一般在微博系统中该主题包含几十甚至成百上千条（原创）微博，既难以收集完成所有的数据，也难以对其进行量化，分析起来比较困难。另外一种方式是仅仅分析和描述一条信息完整的扩散过程，得到按照时间次序每一个转发者的信息，以及转发者相互之间的信息转发情况，进而可以构建单条信息的扩散树。比如，通过发帖者、回帖者相互之间的对话我们可以构建跟帖网络，通过分析每一个转发的信息来源，我们可以得到一个完整的信息转发网络。\n",
    "\n",
    "在本文中我们主要针对第二种分析信息扩散的方式，即描述单条信息扩散的特征。信息扩散的特征可以从多个维度进行测量，最简单的就是信息扩散的规模，而最主要的是对于信息扩散网络的描述（如广度、深度、级联率），此外还可以从时空角度来测量单条信息的信息扩散，比如信息扩散的时间分布特征（速度、爆发、持续性）、空间分布特征。另外，可以结合信息扩散者的社会网络信息来描述信息扩散的特征，比如计算每个转发者的信息扩散阈值等。\n",
    "\n",
    "除了对单条信息的诸多方面进行描述，我们也可以分析影响前面信息传播的各种因素。这种分析既可以是采用比较简单的方式，如观察信息扩散的规模与某项统计特征事件是否存在相关关系。也可以采用比较复杂的方式，如我们构建一个机器学习的框架，通过数据预处理、特征工程、特征选择、构建分类器等诸多步骤来定量化分析不同因素对于单条信息传播的影响。"
   ]
  },
  {
   "cell_type": "markdown",
   "metadata": {},
   "source": [
    "# 1 数据说明\n",
    "\n",
    "如果要对微博传播进行量化，首先要做的一项工作就是获得大规模有代表性的实证数据。在本文中，我们使用卧龙大数据发起的一个微博传播竞赛的数据，详见[微博传播竞赛](http://www.pkbigdata.com/common/cmpt/%E5%BE%AE%E5%8D%9A%E7%83%AD%E5%BA%A6%E9%A2%84%E6%B5%8B_%E7%AB%9E%E8%B5%9B%E4%BF%A1%E6%81%AF.html)\n",
    "。在该数据集中，他们抓取了大概约3万条“源微博”数据，这些“源微博”被转发共计超过1784万次，涉及到约800万位用户，用户之间的关注关系超过7亿条。 \n",
    "可供训练学习的数据包括：一批源微博的转发数据，包括被转发的用户，产生转发行为的用户，微博的内容、发布时间；用户与用户之间的关注关系。 测试集的数据：一批刚刚开始传播的微博转发数据及每条微博（包括转发微博）的内容。参赛者需要学习训练集，然后预测测试集中的微博的传播规模和深度。\n",
    "\n",
    "近些年，一些研究表明，一条微博发出以后，只需要观察其在之后一小段时间内的转发情况，它的传播规模便可以被预测。但是不同类型的微博会有不同的传播方式，比如明星晒一张生活状态就能得到众多粉丝的热捧，具有较大的传播广度，但是往往在传播深度上稍显不足；相比之下，一些被广泛讨论的新闻类微博往往具有较深的传播深度。也有统计结果显示，一些谣言往往会得到大规模的传播，辟谣类的消息反而得不到广泛关注。不仅如此，我们在热门微博中能看到不少正能量的信息，同时也能看到一些话题被持正反两种不同意见的人掀起讨论热潮。\n",
    "\n",
    "简而言之，微博初期的传播速度、用户关系、信息类型、内容情感等特征都是影响微博传播规模和深度的重要影响因素。 为预测微博的传播规模，我们收集了大约1-3万条微博及其它们的转发微博，希望参赛者能够结合微博用户的关注关系、微博的内容类型和情感分析以及初期的传播模式，来预测微博的传播规模(传播规模定义：源微博一共有多少人转发)和传播深度（传播深度定义：源微博到其他转发微博的最长距离）。参赛者需要建立模型来模拟微博在社交网络中的传播过程；然后将模型应用于“测试集的微博”，以预测它们转发量以及转发深度的增长。\n"
   ]
  },
  {
   "cell_type": "markdown",
   "metadata": {},
   "source": [
    "# 数据下载地址\n",
    "初赛：[https://pan.baidu.com/s/1dELaBJz](https://pan.baidu.com/s/1dELaBJz)\n",
    "提取密码：samn"
   ]
  },
  {
   "cell_type": "markdown",
   "metadata": {},
   "source": [
    "# 所有代码的运行环境\n",
    "需要依赖：Python2.7，pandas，xgboost，graphlab，treelib，jieba，gensim，scikit-learn，networkx"
   ]
  },
  {
   "cell_type": "markdown",
   "metadata": {},
   "source": [
    "# 2 数据预处理"
   ]
  },
  {
   "cell_type": "markdown",
   "metadata": {},
   "source": [
    "## 2.1 构建数据处理的初始化环境"
   ]
  },
  {
   "cell_type": "code",
   "execution_count": 1,
   "metadata": {
    "collapsed": false
   },
   "outputs": [],
   "source": [
    "#导入各种要使用的模块\n",
    "import pandas as pd\n",
    "import numpy as np\n",
    "import graphlab as gl\n",
    "from treelib import Tree\n",
    "import cPickle as pickle\n",
    "import networkx as nx"
   ]
  },
  {
   "cell_type": "code",
   "execution_count": 2,
   "metadata": {
    "collapsed": false
   },
   "outputs": [
    {
     "name": "stderr",
     "output_type": "stream",
     "text": [
      "2017-09-22 16:40:39,262 [INFO] graphlab.cython.cy_server, 176: GraphLab Create v1.9 started. Logging: /tmp/graphlab_server_1506069638.log\n"
     ]
    },
    {
     "name": "stdout",
     "output_type": "stream",
     "text": [
      "This non-commercial license of GraphLab Create for academic use is assigned to xiaokeeie@gmail.com and will expire on October 16, 2017.\n",
      "Populating the interactive namespace from numpy and matplotlib\n"
     ]
    },
    {
     "name": "stderr",
     "output_type": "stream",
     "text": [
      "//anaconda/lib/python2.7/site-packages/matplotlib/font_manager.py:273: UserWarning: Matplotlib is building the font cache using fc-list. This may take a moment.\n",
      "  warnings.warn('Matplotlib is building the font cache using fc-list. This may take a moment.')\n"
     ]
    }
   ],
   "source": [
    "#构建画图环境\n",
    "%pylab inline"
   ]
  },
  {
   "cell_type": "markdown",
   "metadata": {},
   "source": [
    "## 2.2 整理数据格式"
   ]
  },
  {
   "cell_type": "code",
   "execution_count": null,
   "metadata": {
    "collapsed": true
   },
   "outputs": [],
   "source": [
    "#因为pandas读入这个数据有问题，所以得先使用graphlab处理一下该数据\n",
    "#采用graphlab框架读入trainRepost.txt数据\n",
    "#trainRepost=gl.SFrame.read_csv('trainRepost.txt',sep = '\\x01',header =False)\n",
    "#trainRepost.save('trainRepost_origin.csv', format='csv')  #可提供trainRepost_origin.csv数据"
   ]
  },
  {
   "cell_type": "code",
   "execution_count": null,
   "metadata": {
    "collapsed": true
   },
   "outputs": [],
   "source": [
    "#采用graphlab框架读入并保存WeiboProfile_train数据\n",
    "#Weibo_train=gl.SFrame.read_csv('WeiboProfile.train',sep = '\\x01',header =False)\n",
    "#Weibo_train.save('WeiboProfile_train.csv', format='csv') #可提供WeiboProfile_train.csv数据"
   ]
  },
  {
   "cell_type": "markdown",
   "metadata": {},
   "source": [
    "# 3 关注关系特征的构建"
   ]
  },
  {
   "cell_type": "markdown",
   "metadata": {},
   "source": [
    "## 3.1 关注关系数据格式的说明\n",
    "相关用户的关注关系，文件名：userRelations.zip \n",
    "\n",
    "字段格式为：用户id1 id1关注的用户id列表     \n",
    "例如：id1 id2\\001id3\\001id4 \n",
    "\n",
    "样例：小张关注了小王、小李和小赵，小王关注了小李和小赵，则数据中表示为：     \n",
    "小张id 小王id\\001小李id\\001小赵id     \n",
    "小王id 小李id\\001小赵id \n",
    "\n",
    "注意：每行表示一个用户关注的微博用户列表，id1和id2之间空格分隔，用以区分用户和关注列表。分隔符为\\001，若用python处理，可以试试\\x001"
   ]
  },
  {
   "cell_type": "markdown",
   "metadata": {},
   "source": [
    "## 3.2 关注关系中需要构建的结构特征\n",
    "\n",
    "### 3.2.1 发微博节点在关注关系中的结构特征\n",
    "\n",
    "- 发微博节点的出度：out_degree1\n",
    "- 发微博节点的入度：in_degree1\n",
    "- 发微博节点在无向网络中的度：all_degree1\n",
    "- 发微博节点的双向朋友数量：bi_degree1\n",
    "- 发微博节点的pagerank值：pagerank1"
   ]
  },
  {
   "cell_type": "markdown",
   "metadata": {},
   "source": [
    "### 3.2.2 发微博节点和转发微博所有节点在关注关系中的结构特征\n",
    "\n",
    "发微博节点和所有60分钟内转发微博节点的\n",
    "\n",
    "- 出度之和：sum_out_degree1\n",
    "- 入度之和：sum_in_degree1\n",
    "- 在无向网络中的度之和：sum_all_degree1\n",
    "- 双向朋友数量之和：sum_bi_degree1\n",
    "- pagerank值的之和：sum_pagerank1\n",
    "\n",
    "假设节点数量为$n$,连边的数量为$m$,则网络密度的计算公式为$density=\\frac{2m}{n(n-1)}$。\n",
    "\n",
    "发微博节点和所有60分钟内转发微博节点的：\n",
    "\n",
    "- 出度链接密度：n1_out_density\n",
    "- 入度链接密度：n1_in_density\n",
    "- 无向网络中的链接密度：n1_all_density\n",
    "- 双向朋友数量：n1_bi_density\n"
   ]
  },
  {
   "cell_type": "markdown",
   "metadata": {},
   "source": [
    "## 3.3 关注关系数据中结构特征构建的详细过程"
   ]
  },
  {
   "cell_type": "code",
   "execution_count": 70,
   "metadata": {
    "collapsed": false
   },
   "outputs": [
    {
     "data": {
      "text/html": [
       "<pre>Finished parsing file /Users/xiaokeeie/all_datasets/weibojingsai/user_relations.csv</pre>"
      ],
      "text/plain": [
       "Finished parsing file /Users/xiaokeeie/all_datasets/weibojingsai/user_relations.csv"
      ]
     },
     "metadata": {},
     "output_type": "display_data"
    },
    {
     "data": {
      "text/html": [
       "<pre>Parsing completed. Parsed 100 lines in 0.68662 secs.</pre>"
      ],
      "text/plain": [
       "Parsing completed. Parsed 100 lines in 0.68662 secs."
      ]
     },
     "metadata": {},
     "output_type": "display_data"
    },
    {
     "data": {
      "text/html": [
       "<pre>Read 3292401 lines. Lines per second: 2.5191e+06</pre>"
      ],
      "text/plain": [
       "Read 3292401 lines. Lines per second: 2.5191e+06"
      ]
     },
     "metadata": {},
     "output_type": "display_data"
    },
    {
     "data": {
      "text/html": [
       "<pre>Read 32926868 lines. Lines per second: 5.15561e+06</pre>"
      ],
      "text/plain": [
       "Read 32926868 lines. Lines per second: 5.15561e+06"
      ]
     },
     "metadata": {},
     "output_type": "display_data"
    },
    {
     "data": {
      "text/html": [
       "<pre>Read 62559313 lines. Lines per second: 5.42472e+06</pre>"
      ],
      "text/plain": [
       "Read 62559313 lines. Lines per second: 5.42472e+06"
      ]
     },
     "metadata": {},
     "output_type": "display_data"
    },
    {
     "data": {
      "text/html": [
       "<pre>Read 92192352 lines. Lines per second: 5.49769e+06</pre>"
      ],
      "text/plain": [
       "Read 92192352 lines. Lines per second: 5.49769e+06"
      ]
     },
     "metadata": {},
     "output_type": "display_data"
    },
    {
     "data": {
      "text/html": [
       "<pre>Read 121825867 lines. Lines per second: 5.53307e+06</pre>"
      ],
      "text/plain": [
       "Read 121825867 lines. Lines per second: 5.53307e+06"
      ]
     },
     "metadata": {},
     "output_type": "display_data"
    },
    {
     "data": {
      "text/html": [
       "<pre>Read 151460112 lines. Lines per second: 5.54553e+06</pre>"
      ],
      "text/plain": [
       "Read 151460112 lines. Lines per second: 5.54553e+06"
      ]
     },
     "metadata": {},
     "output_type": "display_data"
    },
    {
     "data": {
      "text/html": [
       "<pre>Read 181094373 lines. Lines per second: 5.53728e+06</pre>"
      ],
      "text/plain": [
       "Read 181094373 lines. Lines per second: 5.53728e+06"
      ]
     },
     "metadata": {},
     "output_type": "display_data"
    },
    {
     "data": {
      "text/html": [
       "<pre>Read 210727585 lines. Lines per second: 5.53106e+06</pre>"
      ],
      "text/plain": [
       "Read 210727585 lines. Lines per second: 5.53106e+06"
      ]
     },
     "metadata": {},
     "output_type": "display_data"
    },
    {
     "data": {
      "text/html": [
       "<pre>Read 240360662 lines. Lines per second: 5.53544e+06</pre>"
      ],
      "text/plain": [
       "Read 240360662 lines. Lines per second: 5.53544e+06"
      ]
     },
     "metadata": {},
     "output_type": "display_data"
    },
    {
     "data": {
      "text/html": [
       "<pre>Read 269993111 lines. Lines per second: 5.52587e+06</pre>"
      ],
      "text/plain": [
       "Read 269993111 lines. Lines per second: 5.52587e+06"
      ]
     },
     "metadata": {},
     "output_type": "display_data"
    },
    {
     "data": {
      "text/html": [
       "<pre>Read 276579161 lines. Lines per second: 4.94043e+06</pre>"
      ],
      "text/plain": [
       "Read 276579161 lines. Lines per second: 4.94043e+06"
      ]
     },
     "metadata": {},
     "output_type": "display_data"
    },
    {
     "data": {
      "text/html": [
       "<pre>Read 306210568 lines. Lines per second: 4.99286e+06</pre>"
      ],
      "text/plain": [
       "Read 306210568 lines. Lines per second: 4.99286e+06"
      ]
     },
     "metadata": {},
     "output_type": "display_data"
    },
    {
     "data": {
      "text/html": [
       "<pre>Read 335843660 lines. Lines per second: 5.02661e+06</pre>"
      ],
      "text/plain": [
       "Read 335843660 lines. Lines per second: 5.02661e+06"
      ]
     },
     "metadata": {},
     "output_type": "display_data"
    },
    {
     "data": {
      "text/html": [
       "<pre>Read 365476045 lines. Lines per second: 5.05459e+06</pre>"
      ],
      "text/plain": [
       "Read 365476045 lines. Lines per second: 5.05459e+06"
      ]
     },
     "metadata": {},
     "output_type": "display_data"
    },
    {
     "data": {
      "text/html": [
       "<pre>Read 395110659 lines. Lines per second: 5.08297e+06</pre>"
      ],
      "text/plain": [
       "Read 395110659 lines. Lines per second: 5.08297e+06"
      ]
     },
     "metadata": {},
     "output_type": "display_data"
    },
    {
     "data": {
      "text/html": [
       "<pre>Read 424744392 lines. Lines per second: 5.10668e+06</pre>"
      ],
      "text/plain": [
       "Read 424744392 lines. Lines per second: 5.10668e+06"
      ]
     },
     "metadata": {},
     "output_type": "display_data"
    },
    {
     "data": {
      "text/html": [
       "<pre>Read 454377988 lines. Lines per second: 5.12695e+06</pre>"
      ],
      "text/plain": [
       "Read 454377988 lines. Lines per second: 5.12695e+06"
      ]
     },
     "metadata": {},
     "output_type": "display_data"
    },
    {
     "data": {
      "text/html": [
       "<pre>Read 484011962 lines. Lines per second: 5.14222e+06</pre>"
      ],
      "text/plain": [
       "Read 484011962 lines. Lines per second: 5.14222e+06"
      ]
     },
     "metadata": {},
     "output_type": "display_data"
    },
    {
     "data": {
      "text/html": [
       "<pre>Read 513644672 lines. Lines per second: 5.15465e+06</pre>"
      ],
      "text/plain": [
       "Read 513644672 lines. Lines per second: 5.15465e+06"
      ]
     },
     "metadata": {},
     "output_type": "display_data"
    },
    {
     "data": {
      "text/html": [
       "<pre>Read 543278332 lines. Lines per second: 5.17365e+06</pre>"
      ],
      "text/plain": [
       "Read 543278332 lines. Lines per second: 5.17365e+06"
      ]
     },
     "metadata": {},
     "output_type": "display_data"
    },
    {
     "data": {
      "text/html": [
       "<pre>Read 572910959 lines. Lines per second: 5.18954e+06</pre>"
      ],
      "text/plain": [
       "Read 572910959 lines. Lines per second: 5.18954e+06"
      ]
     },
     "metadata": {},
     "output_type": "display_data"
    },
    {
     "data": {
      "text/html": [
       "<pre>Read 602542363 lines. Lines per second: 5.20091e+06</pre>"
      ],
      "text/plain": [
       "Read 602542363 lines. Lines per second: 5.20091e+06"
      ]
     },
     "metadata": {},
     "output_type": "display_data"
    },
    {
     "data": {
      "text/html": [
       "<pre>Read 628880794 lines. Lines per second: 5.20702e+06</pre>"
      ],
      "text/plain": [
       "Read 628880794 lines. Lines per second: 5.20702e+06"
      ]
     },
     "metadata": {},
     "output_type": "display_data"
    },
    {
     "data": {
      "text/html": [
       "<pre>Read 658513175 lines. Lines per second: 5.20999e+06</pre>"
      ],
      "text/plain": [
       "Read 658513175 lines. Lines per second: 5.20999e+06"
      ]
     },
     "metadata": {},
     "output_type": "display_data"
    },
    {
     "data": {
      "text/html": [
       "<pre>Read 688145063 lines. Lines per second: 5.22054e+06</pre>"
      ],
      "text/plain": [
       "Read 688145063 lines. Lines per second: 5.22054e+06"
      ]
     },
     "metadata": {},
     "output_type": "display_data"
    },
    {
     "data": {
      "text/html": [
       "<pre>Finished parsing file /Users/xiaokeeie/all_datasets/weibojingsai/user_relations.csv</pre>"
      ],
      "text/plain": [
       "Finished parsing file /Users/xiaokeeie/all_datasets/weibojingsai/user_relations.csv"
      ]
     },
     "metadata": {},
     "output_type": "display_data"
    },
    {
     "data": {
      "text/html": [
       "<pre>Parsing completed. Parsed 700482587 lines in 133.776 secs.</pre>"
      ],
      "text/plain": [
       "Parsing completed. Parsed 700482587 lines in 133.776 secs."
      ]
     },
     "metadata": {},
     "output_type": "display_data"
    },
    {
     "name": "stdout",
     "output_type": "stream",
     "text": [
      "------------------------------------------------------\n",
      "Inferred types from first 100 line(s) of file as \n",
      "column_type_hints=[int,int]\n",
      "If parsing fails due to incorrect types, you can correct\n",
      "the inferred type list above and pass it to read_csv in\n",
      "the column_type_hints argument\n",
      "------------------------------------------------------\n",
      "+---------+---------+\n",
      "|   uid1  |   uid2  |\n",
      "+---------+---------+\n",
      "| 4534517 | 6571120 |\n",
      "| 4534517 | 2453117 |\n",
      "| 4534517 | 6105970 |\n",
      "| 4534517 | 2666130 |\n",
      "| 4534517 | 8207859 |\n",
      "| 4534517 | 1843342 |\n",
      "| 4534517 | 6342579 |\n",
      "| 4534517 | 7610017 |\n",
      "| 4534517 | 8237366 |\n",
      "| 4534517 | 8236591 |\n",
      "+---------+---------+\n",
      "[10 rows x 2 columns]\n",
      "\n"
     ]
    }
   ],
   "source": [
    "## 导入微博关注关系数据集\n",
    "##guanzhu_links=gl.SFrame.read_csv('relations.csv')                         #导入全部用户之间的链接关系，可提供该数据\n",
    "#guanzhu_links=gl.SFrame.read_csv('user_relations.csv', nrows=10000)        #导入少量用户之间的链接关系\n",
    "guanzhu_links=guanzhu_links.dropna()                                        #删除链接关系中的缺失值\n",
    "print guanzhu_links.head(10)"
   ]
  },
  {
   "cell_type": "code",
   "execution_count": 71,
   "metadata": {
    "collapsed": false
   },
   "outputs": [
    {
     "name": "stdout",
     "output_type": "stream",
     "text": [
      "{'num_edges': 700434403, 'num_vertices': 7977942}\n"
     ]
    }
   ],
   "source": [
    "## 使用SGraph来生成微博用户之间的关系网络G1\n",
    "G1=gl.SGraph().add_edges(guanzhu_links, src_field = 'uid1', dst_field = 'uid2')\n",
    "print G1.summary()                                            #做一个简单的信息汇总"
   ]
  },
  {
   "cell_type": "code",
   "execution_count": 6,
   "metadata": {
    "collapsed": false
   },
   "outputs": [],
   "source": [
    "#G1.save('G1')                                              #可以直接保存该网络的数据，可提供该数据G1\n",
    "G1= gl.load_sgraph('G1')                                    #也可以将该网络读入到内存空间"
   ]
  },
  {
   "cell_type": "code",
   "execution_count": 7,
   "metadata": {
    "collapsed": false
   },
   "outputs": [
    {
     "data": {
      "text/html": [
       "<div style=\"max-height:1000px;max-width:1500px;overflow:auto;\"><table frame=\"box\" rules=\"cols\">\n",
       "    <tr>\n",
       "        <th style=\"padding-left: 1em; padding-right: 1em; text-align: center\">id</th>\n",
       "    </tr>\n",
       "    <tr>\n",
       "        <td style=\"padding-left: 1em; padding-right: 1em; text-align: center; vertical-align: top\">87442</td>\n",
       "    </tr>\n",
       "    <tr>\n",
       "        <td style=\"padding-left: 1em; padding-right: 1em; text-align: center; vertical-align: top\">87619</td>\n",
       "    </tr>\n",
       "    <tr>\n",
       "        <td style=\"padding-left: 1em; padding-right: 1em; text-align: center; vertical-align: top\">88814</td>\n",
       "    </tr>\n",
       "    <tr>\n",
       "        <td style=\"padding-left: 1em; padding-right: 1em; text-align: center; vertical-align: top\">89844</td>\n",
       "    </tr>\n",
       "    <tr>\n",
       "        <td style=\"padding-left: 1em; padding-right: 1em; text-align: center; vertical-align: top\">90916</td>\n",
       "    </tr>\n",
       "    <tr>\n",
       "        <td style=\"padding-left: 1em; padding-right: 1em; text-align: center; vertical-align: top\">91044</td>\n",
       "    </tr>\n",
       "    <tr>\n",
       "        <td style=\"padding-left: 1em; padding-right: 1em; text-align: center; vertical-align: top\">91220</td>\n",
       "    </tr>\n",
       "    <tr>\n",
       "        <td style=\"padding-left: 1em; padding-right: 1em; text-align: center; vertical-align: top\">91283</td>\n",
       "    </tr>\n",
       "    <tr>\n",
       "        <td style=\"padding-left: 1em; padding-right: 1em; text-align: center; vertical-align: top\">91415</td>\n",
       "    </tr>\n",
       "    <tr>\n",
       "        <td style=\"padding-left: 1em; padding-right: 1em; text-align: center; vertical-align: top\">91420</td>\n",
       "    </tr>\n",
       "</table>\n",
       "[10 rows x 1 columns]<br/>\n",
       "</div>"
      ],
      "text/plain": [
       "Columns:\n",
       "\tid\tint\n",
       "\n",
       "Rows: 10\n",
       "\n",
       "Data:\n",
       "+-------+\n",
       "|   id  |\n",
       "+-------+\n",
       "| 87442 |\n",
       "| 87619 |\n",
       "| 88814 |\n",
       "| 89844 |\n",
       "| 90916 |\n",
       "| 91044 |\n",
       "| 91220 |\n",
       "| 91283 |\n",
       "| 91415 |\n",
       "| 91420 |\n",
       "+-------+\n",
       "[10 rows x 1 columns]"
      ]
     },
     "execution_count": 7,
     "metadata": {},
     "output_type": "execute_result"
    }
   ],
   "source": [
    "users_G1 = G1.get_vertices()                                  #获取网络中所有节点的名称\n",
    "users_G1.rename({'__id':'id'})                                #将名称重新命名\n",
    "users_G1.head(10)"
   ]
  },
  {
   "cell_type": "code",
   "execution_count": null,
   "metadata": {
    "collapsed": true
   },
   "outputs": [],
   "source": [
    "#计算每一个节点的出度和入度\n",
    "user_out_friends = guanzhu_links.groupby('uid1', {'out_friends1' : gl.aggregate.CONCAT('uid2')}) #out_friends\n",
    "user_out_friends.rename({'uid1': 'id'})"
   ]
  },
  {
   "cell_type": "code",
   "execution_count": 52,
   "metadata": {
    "collapsed": false
   },
   "outputs": [
    {
     "data": {
      "text/html": [
       "<div style=\"max-height:1000px;max-width:1500px;overflow:auto;\"><table frame=\"box\" rules=\"cols\">\n",
       "    <tr>\n",
       "        <th style=\"padding-left: 1em; padding-right: 1em; text-align: center\">id</th>\n",
       "        <th style=\"padding-left: 1em; padding-right: 1em; text-align: center\">in_friends1</th>\n",
       "    </tr>\n",
       "    <tr>\n",
       "        <td style=\"padding-left: 1em; padding-right: 1em; text-align: center; vertical-align: top\">8342756</td>\n",
       "        <td style=\"padding-left: 1em; padding-right: 1em; text-align: center; vertical-align: top\">[4982260]</td>\n",
       "    </tr>\n",
       "    <tr>\n",
       "        <td style=\"padding-left: 1em; padding-right: 1em; text-align: center; vertical-align: top\">3097696</td>\n",
       "        <td style=\"padding-left: 1em; padding-right: 1em; text-align: center; vertical-align: top\">[1686731]</td>\n",
       "    </tr>\n",
       "    <tr>\n",
       "        <td style=\"padding-left: 1em; padding-right: 1em; text-align: center; vertical-align: top\">8279084</td>\n",
       "        <td style=\"padding-left: 1em; padding-right: 1em; text-align: center; vertical-align: top\">[8049434, 3968430,<br>8280045, 7563538, ...</td>\n",
       "    </tr>\n",
       "    <tr>\n",
       "        <td style=\"padding-left: 1em; padding-right: 1em; text-align: center; vertical-align: top\">7226615</td>\n",
       "        <td style=\"padding-left: 1em; padding-right: 1em; text-align: center; vertical-align: top\">[5331852, 4982260]</td>\n",
       "    </tr>\n",
       "    <tr>\n",
       "        <td style=\"padding-left: 1em; padding-right: 1em; text-align: center; vertical-align: top\">7269716</td>\n",
       "        <td style=\"padding-left: 1em; padding-right: 1em; text-align: center; vertical-align: top\">[4823800]</td>\n",
       "    </tr>\n",
       "    <tr>\n",
       "        <td style=\"padding-left: 1em; padding-right: 1em; text-align: center; vertical-align: top\">6482075</td>\n",
       "        <td style=\"padding-left: 1em; padding-right: 1em; text-align: center; vertical-align: top\">[7456076]</td>\n",
       "    </tr>\n",
       "    <tr>\n",
       "        <td style=\"padding-left: 1em; padding-right: 1em; text-align: center; vertical-align: top\">5453402</td>\n",
       "        <td style=\"padding-left: 1em; padding-right: 1em; text-align: center; vertical-align: top\">[4823800]</td>\n",
       "    </tr>\n",
       "    <tr>\n",
       "        <td style=\"padding-left: 1em; padding-right: 1em; text-align: center; vertical-align: top\">7894256</td>\n",
       "        <td style=\"padding-left: 1em; padding-right: 1em; text-align: center; vertical-align: top\">[5927121]</td>\n",
       "    </tr>\n",
       "    <tr>\n",
       "        <td style=\"padding-left: 1em; padding-right: 1em; text-align: center; vertical-align: top\">7591144</td>\n",
       "        <td style=\"padding-left: 1em; padding-right: 1em; text-align: center; vertical-align: top\">[2199577]</td>\n",
       "    </tr>\n",
       "    <tr>\n",
       "        <td style=\"padding-left: 1em; padding-right: 1em; text-align: center; vertical-align: top\">5570026</td>\n",
       "        <td style=\"padding-left: 1em; padding-right: 1em; text-align: center; vertical-align: top\">[5927121]</td>\n",
       "    </tr>\n",
       "</table>\n",
       "[6041 rows x 2 columns]<br/>Note: Only the head of the SFrame is printed.<br/>You can use print_rows(num_rows=m, num_columns=n) to print more rows and columns.\n",
       "</div>"
      ],
      "text/plain": [
       "Columns:\n",
       "\tid\tint\n",
       "\tin_friends1\tlist\n",
       "\n",
       "Rows: 6041\n",
       "\n",
       "Data:\n",
       "+---------+-------------------------------+\n",
       "|    id   |          in_friends1          |\n",
       "+---------+-------------------------------+\n",
       "| 8342756 |           [4982260]           |\n",
       "| 3097696 |           [1686731]           |\n",
       "| 8279084 | [8049434, 3968430, 8280045... |\n",
       "| 7226615 |       [5331852, 4982260]      |\n",
       "| 7269716 |           [4823800]           |\n",
       "| 6482075 |           [7456076]           |\n",
       "| 5453402 |           [4823800]           |\n",
       "| 7894256 |           [5927121]           |\n",
       "| 7591144 |           [2199577]           |\n",
       "| 5570026 |           [5927121]           |\n",
       "+---------+-------------------------------+\n",
       "[6041 rows x 2 columns]\n",
       "Note: Only the head of the SFrame is printed.\n",
       "You can use print_rows(num_rows=m, num_columns=n) to print more rows and columns."
      ]
     },
     "execution_count": 52,
     "metadata": {},
     "output_type": "execute_result"
    }
   ],
   "source": [
    "user_in_friends = guanzhu_links.groupby('uid2', {'in_friends1' : gl.aggregate.CONCAT('uid1')})   #in_friends\n",
    "user_in_friends.rename({'uid2' : 'id'})"
   ]
  },
  {
   "cell_type": "code",
   "execution_count": 59,
   "metadata": {
    "collapsed": false
   },
   "outputs": [
    {
     "data": {
      "text/html": [
       "<div style=\"max-height:1000px;max-width:1500px;overflow:auto;\"><table frame=\"box\" rules=\"cols\">\n",
       "    <tr>\n",
       "        <th style=\"padding-left: 1em; padding-right: 1em; text-align: center\">id</th>\n",
       "        <th style=\"padding-left: 1em; padding-right: 1em; text-align: center\">in_friends1</th>\n",
       "        <th style=\"padding-left: 1em; padding-right: 1em; text-align: center\">out_friends1</th>\n",
       "    </tr>\n",
       "    <tr>\n",
       "        <td style=\"padding-left: 1em; padding-right: 1em; text-align: center; vertical-align: top\">8342756</td>\n",
       "        <td style=\"padding-left: 1em; padding-right: 1em; text-align: center; vertical-align: top\">[4982260]</td>\n",
       "        <td style=\"padding-left: 1em; padding-right: 1em; text-align: center; vertical-align: top\">[]</td>\n",
       "    </tr>\n",
       "    <tr>\n",
       "        <td style=\"padding-left: 1em; padding-right: 1em; text-align: center; vertical-align: top\">3097696</td>\n",
       "        <td style=\"padding-left: 1em; padding-right: 1em; text-align: center; vertical-align: top\">[1686731]</td>\n",
       "        <td style=\"padding-left: 1em; padding-right: 1em; text-align: center; vertical-align: top\">[]</td>\n",
       "    </tr>\n",
       "    <tr>\n",
       "        <td style=\"padding-left: 1em; padding-right: 1em; text-align: center; vertical-align: top\">8279084</td>\n",
       "        <td style=\"padding-left: 1em; padding-right: 1em; text-align: center; vertical-align: top\">[8049434, 3968430,<br>8280045, 7563538, ...</td>\n",
       "        <td style=\"padding-left: 1em; padding-right: 1em; text-align: center; vertical-align: top\">[]</td>\n",
       "    </tr>\n",
       "    <tr>\n",
       "        <td style=\"padding-left: 1em; padding-right: 1em; text-align: center; vertical-align: top\">7226615</td>\n",
       "        <td style=\"padding-left: 1em; padding-right: 1em; text-align: center; vertical-align: top\">[5331852, 4982260]</td>\n",
       "        <td style=\"padding-left: 1em; padding-right: 1em; text-align: center; vertical-align: top\">[]</td>\n",
       "    </tr>\n",
       "    <tr>\n",
       "        <td style=\"padding-left: 1em; padding-right: 1em; text-align: center; vertical-align: top\">7269716</td>\n",
       "        <td style=\"padding-left: 1em; padding-right: 1em; text-align: center; vertical-align: top\">[4823800]</td>\n",
       "        <td style=\"padding-left: 1em; padding-right: 1em; text-align: center; vertical-align: top\">[]</td>\n",
       "    </tr>\n",
       "    <tr>\n",
       "        <td style=\"padding-left: 1em; padding-right: 1em; text-align: center; vertical-align: top\">6482075</td>\n",
       "        <td style=\"padding-left: 1em; padding-right: 1em; text-align: center; vertical-align: top\">[7456076]</td>\n",
       "        <td style=\"padding-left: 1em; padding-right: 1em; text-align: center; vertical-align: top\">[]</td>\n",
       "    </tr>\n",
       "    <tr>\n",
       "        <td style=\"padding-left: 1em; padding-right: 1em; text-align: center; vertical-align: top\">5453402</td>\n",
       "        <td style=\"padding-left: 1em; padding-right: 1em; text-align: center; vertical-align: top\">[4823800]</td>\n",
       "        <td style=\"padding-left: 1em; padding-right: 1em; text-align: center; vertical-align: top\">[]</td>\n",
       "    </tr>\n",
       "    <tr>\n",
       "        <td style=\"padding-left: 1em; padding-right: 1em; text-align: center; vertical-align: top\">7894256</td>\n",
       "        <td style=\"padding-left: 1em; padding-right: 1em; text-align: center; vertical-align: top\">[5927121]</td>\n",
       "        <td style=\"padding-left: 1em; padding-right: 1em; text-align: center; vertical-align: top\">[]</td>\n",
       "    </tr>\n",
       "    <tr>\n",
       "        <td style=\"padding-left: 1em; padding-right: 1em; text-align: center; vertical-align: top\">7591144</td>\n",
       "        <td style=\"padding-left: 1em; padding-right: 1em; text-align: center; vertical-align: top\">[2199577]</td>\n",
       "        <td style=\"padding-left: 1em; padding-right: 1em; text-align: center; vertical-align: top\">[]</td>\n",
       "    </tr>\n",
       "    <tr>\n",
       "        <td style=\"padding-left: 1em; padding-right: 1em; text-align: center; vertical-align: top\">5570026</td>\n",
       "        <td style=\"padding-left: 1em; padding-right: 1em; text-align: center; vertical-align: top\">[5927121]</td>\n",
       "        <td style=\"padding-left: 1em; padding-right: 1em; text-align: center; vertical-align: top\">[]</td>\n",
       "    </tr>\n",
       "</table>\n",
       "[10 rows x 3 columns]<br/>\n",
       "</div>"
      ],
      "text/plain": [
       "Columns:\n",
       "\tid\tint\n",
       "\tin_friends1\tlist\n",
       "\tout_friends1\tlist\n",
       "\n",
       "Rows: 10\n",
       "\n",
       "Data:\n",
       "+---------+-------------------------------+--------------+\n",
       "|    id   |          in_friends1          | out_friends1 |\n",
       "+---------+-------------------------------+--------------+\n",
       "| 8342756 |           [4982260]           |      []      |\n",
       "| 3097696 |           [1686731]           |      []      |\n",
       "| 8279084 | [8049434, 3968430, 8280045... |      []      |\n",
       "| 7226615 |       [5331852, 4982260]      |      []      |\n",
       "| 7269716 |           [4823800]           |      []      |\n",
       "| 6482075 |           [7456076]           |      []      |\n",
       "| 5453402 |           [4823800]           |      []      |\n",
       "| 7894256 |           [5927121]           |      []      |\n",
       "| 7591144 |           [2199577]           |      []      |\n",
       "| 5570026 |           [5927121]           |      []      |\n",
       "+---------+-------------------------------+--------------+\n",
       "[10 rows x 3 columns]"
      ]
     },
     "execution_count": 59,
     "metadata": {},
     "output_type": "execute_result"
    }
   ],
   "source": [
    "users_G1 = users_G1.join(user_in_friends, on = 'id', how = 'outer')   \n",
    "users_G1 = users_G1.join(user_out_friends, on = 'id', how = 'outer')\n",
    "\n",
    "#在下面使用空列表来代替缺失值\n",
    "users_G1 = users_G1.fillna('in_friends1', [ ])\n",
    "users_G1 = users_G1.fillna('out_friends1', [ ])\n",
    "users_G1.head(10)"
   ]
  },
  {
   "cell_type": "code",
   "execution_count": 60,
   "metadata": {
    "collapsed": false
   },
   "outputs": [
    {
     "data": {
      "text/html": [
       "<div style=\"max-height:1000px;max-width:1500px;overflow:auto;\"><table frame=\"box\" rules=\"cols\">\n",
       "    <tr>\n",
       "        <th style=\"padding-left: 1em; padding-right: 1em; text-align: center\">id</th>\n",
       "        <th style=\"padding-left: 1em; padding-right: 1em; text-align: center\">in_friends1</th>\n",
       "        <th style=\"padding-left: 1em; padding-right: 1em; text-align: center\">out_friends1</th>\n",
       "        <th style=\"padding-left: 1em; padding-right: 1em; text-align: center\">out_degree1</th>\n",
       "        <th style=\"padding-left: 1em; padding-right: 1em; text-align: center\">in_degree1</th>\n",
       "        <th style=\"padding-left: 1em; padding-right: 1em; text-align: center\">all_friends1</th>\n",
       "        <th style=\"padding-left: 1em; padding-right: 1em; text-align: center\">all_degree1</th>\n",
       "    </tr>\n",
       "    <tr>\n",
       "        <td style=\"padding-left: 1em; padding-right: 1em; text-align: center; vertical-align: top\">8342756</td>\n",
       "        <td style=\"padding-left: 1em; padding-right: 1em; text-align: center; vertical-align: top\">[4982260]</td>\n",
       "        <td style=\"padding-left: 1em; padding-right: 1em; text-align: center; vertical-align: top\">[]</td>\n",
       "        <td style=\"padding-left: 1em; padding-right: 1em; text-align: center; vertical-align: top\">0</td>\n",
       "        <td style=\"padding-left: 1em; padding-right: 1em; text-align: center; vertical-align: top\">1</td>\n",
       "        <td style=\"padding-left: 1em; padding-right: 1em; text-align: center; vertical-align: top\">[4982260.0]</td>\n",
       "        <td style=\"padding-left: 1em; padding-right: 1em; text-align: center; vertical-align: top\">1</td>\n",
       "    </tr>\n",
       "    <tr>\n",
       "        <td style=\"padding-left: 1em; padding-right: 1em; text-align: center; vertical-align: top\">3097696</td>\n",
       "        <td style=\"padding-left: 1em; padding-right: 1em; text-align: center; vertical-align: top\">[1686731]</td>\n",
       "        <td style=\"padding-left: 1em; padding-right: 1em; text-align: center; vertical-align: top\">[]</td>\n",
       "        <td style=\"padding-left: 1em; padding-right: 1em; text-align: center; vertical-align: top\">0</td>\n",
       "        <td style=\"padding-left: 1em; padding-right: 1em; text-align: center; vertical-align: top\">1</td>\n",
       "        <td style=\"padding-left: 1em; padding-right: 1em; text-align: center; vertical-align: top\">[1686731.0]</td>\n",
       "        <td style=\"padding-left: 1em; padding-right: 1em; text-align: center; vertical-align: top\">1</td>\n",
       "    </tr>\n",
       "    <tr>\n",
       "        <td style=\"padding-left: 1em; padding-right: 1em; text-align: center; vertical-align: top\">8279084</td>\n",
       "        <td style=\"padding-left: 1em; padding-right: 1em; text-align: center; vertical-align: top\">[8049434, 3968430,<br>8280045, 7563538, ...</td>\n",
       "        <td style=\"padding-left: 1em; padding-right: 1em; text-align: center; vertical-align: top\">[]</td>\n",
       "        <td style=\"padding-left: 1em; padding-right: 1em; text-align: center; vertical-align: top\">0</td>\n",
       "        <td style=\"padding-left: 1em; padding-right: 1em; text-align: center; vertical-align: top\">7</td>\n",
       "        <td style=\"padding-left: 1em; padding-right: 1em; text-align: center; vertical-align: top\">[7563538.0, 2432261.0,<br>6712486.0, 6534809.0, ...</td>\n",
       "        <td style=\"padding-left: 1em; padding-right: 1em; text-align: center; vertical-align: top\">7</td>\n",
       "    </tr>\n",
       "    <tr>\n",
       "        <td style=\"padding-left: 1em; padding-right: 1em; text-align: center; vertical-align: top\">7226615</td>\n",
       "        <td style=\"padding-left: 1em; padding-right: 1em; text-align: center; vertical-align: top\">[5331852, 4982260]</td>\n",
       "        <td style=\"padding-left: 1em; padding-right: 1em; text-align: center; vertical-align: top\">[]</td>\n",
       "        <td style=\"padding-left: 1em; padding-right: 1em; text-align: center; vertical-align: top\">0</td>\n",
       "        <td style=\"padding-left: 1em; padding-right: 1em; text-align: center; vertical-align: top\">2</td>\n",
       "        <td style=\"padding-left: 1em; padding-right: 1em; text-align: center; vertical-align: top\">[5331852.0, 4982260.0]</td>\n",
       "        <td style=\"padding-left: 1em; padding-right: 1em; text-align: center; vertical-align: top\">2</td>\n",
       "    </tr>\n",
       "    <tr>\n",
       "        <td style=\"padding-left: 1em; padding-right: 1em; text-align: center; vertical-align: top\">7269716</td>\n",
       "        <td style=\"padding-left: 1em; padding-right: 1em; text-align: center; vertical-align: top\">[4823800]</td>\n",
       "        <td style=\"padding-left: 1em; padding-right: 1em; text-align: center; vertical-align: top\">[]</td>\n",
       "        <td style=\"padding-left: 1em; padding-right: 1em; text-align: center; vertical-align: top\">0</td>\n",
       "        <td style=\"padding-left: 1em; padding-right: 1em; text-align: center; vertical-align: top\">1</td>\n",
       "        <td style=\"padding-left: 1em; padding-right: 1em; text-align: center; vertical-align: top\">[4823800.0]</td>\n",
       "        <td style=\"padding-left: 1em; padding-right: 1em; text-align: center; vertical-align: top\">1</td>\n",
       "    </tr>\n",
       "    <tr>\n",
       "        <td style=\"padding-left: 1em; padding-right: 1em; text-align: center; vertical-align: top\">6482075</td>\n",
       "        <td style=\"padding-left: 1em; padding-right: 1em; text-align: center; vertical-align: top\">[7456076]</td>\n",
       "        <td style=\"padding-left: 1em; padding-right: 1em; text-align: center; vertical-align: top\">[]</td>\n",
       "        <td style=\"padding-left: 1em; padding-right: 1em; text-align: center; vertical-align: top\">0</td>\n",
       "        <td style=\"padding-left: 1em; padding-right: 1em; text-align: center; vertical-align: top\">1</td>\n",
       "        <td style=\"padding-left: 1em; padding-right: 1em; text-align: center; vertical-align: top\">[7456076.0]</td>\n",
       "        <td style=\"padding-left: 1em; padding-right: 1em; text-align: center; vertical-align: top\">1</td>\n",
       "    </tr>\n",
       "    <tr>\n",
       "        <td style=\"padding-left: 1em; padding-right: 1em; text-align: center; vertical-align: top\">5453402</td>\n",
       "        <td style=\"padding-left: 1em; padding-right: 1em; text-align: center; vertical-align: top\">[4823800]</td>\n",
       "        <td style=\"padding-left: 1em; padding-right: 1em; text-align: center; vertical-align: top\">[]</td>\n",
       "        <td style=\"padding-left: 1em; padding-right: 1em; text-align: center; vertical-align: top\">0</td>\n",
       "        <td style=\"padding-left: 1em; padding-right: 1em; text-align: center; vertical-align: top\">1</td>\n",
       "        <td style=\"padding-left: 1em; padding-right: 1em; text-align: center; vertical-align: top\">[4823800.0]</td>\n",
       "        <td style=\"padding-left: 1em; padding-right: 1em; text-align: center; vertical-align: top\">1</td>\n",
       "    </tr>\n",
       "    <tr>\n",
       "        <td style=\"padding-left: 1em; padding-right: 1em; text-align: center; vertical-align: top\">7894256</td>\n",
       "        <td style=\"padding-left: 1em; padding-right: 1em; text-align: center; vertical-align: top\">[5927121]</td>\n",
       "        <td style=\"padding-left: 1em; padding-right: 1em; text-align: center; vertical-align: top\">[]</td>\n",
       "        <td style=\"padding-left: 1em; padding-right: 1em; text-align: center; vertical-align: top\">0</td>\n",
       "        <td style=\"padding-left: 1em; padding-right: 1em; text-align: center; vertical-align: top\">1</td>\n",
       "        <td style=\"padding-left: 1em; padding-right: 1em; text-align: center; vertical-align: top\">[5927121.0]</td>\n",
       "        <td style=\"padding-left: 1em; padding-right: 1em; text-align: center; vertical-align: top\">1</td>\n",
       "    </tr>\n",
       "    <tr>\n",
       "        <td style=\"padding-left: 1em; padding-right: 1em; text-align: center; vertical-align: top\">7591144</td>\n",
       "        <td style=\"padding-left: 1em; padding-right: 1em; text-align: center; vertical-align: top\">[2199577]</td>\n",
       "        <td style=\"padding-left: 1em; padding-right: 1em; text-align: center; vertical-align: top\">[]</td>\n",
       "        <td style=\"padding-left: 1em; padding-right: 1em; text-align: center; vertical-align: top\">0</td>\n",
       "        <td style=\"padding-left: 1em; padding-right: 1em; text-align: center; vertical-align: top\">1</td>\n",
       "        <td style=\"padding-left: 1em; padding-right: 1em; text-align: center; vertical-align: top\">[2199577.0]</td>\n",
       "        <td style=\"padding-left: 1em; padding-right: 1em; text-align: center; vertical-align: top\">1</td>\n",
       "    </tr>\n",
       "    <tr>\n",
       "        <td style=\"padding-left: 1em; padding-right: 1em; text-align: center; vertical-align: top\">5570026</td>\n",
       "        <td style=\"padding-left: 1em; padding-right: 1em; text-align: center; vertical-align: top\">[5927121]</td>\n",
       "        <td style=\"padding-left: 1em; padding-right: 1em; text-align: center; vertical-align: top\">[]</td>\n",
       "        <td style=\"padding-left: 1em; padding-right: 1em; text-align: center; vertical-align: top\">0</td>\n",
       "        <td style=\"padding-left: 1em; padding-right: 1em; text-align: center; vertical-align: top\">1</td>\n",
       "        <td style=\"padding-left: 1em; padding-right: 1em; text-align: center; vertical-align: top\">[5927121.0]</td>\n",
       "        <td style=\"padding-left: 1em; padding-right: 1em; text-align: center; vertical-align: top\">1</td>\n",
       "    </tr>\n",
       "</table>\n",
       "<table frame=\"box\" rules=\"cols\">\n",
       "    <tr>\n",
       "        <th style=\"padding-left: 1em; padding-right: 1em; text-align: center\">bi_friends1</th>\n",
       "        <th style=\"padding-left: 1em; padding-right: 1em; text-align: center\">bi_degree1</th>\n",
       "    </tr>\n",
       "    <tr>\n",
       "        <td style=\"padding-left: 1em; padding-right: 1em; text-align: center; vertical-align: top\">[]</td>\n",
       "        <td style=\"padding-left: 1em; padding-right: 1em; text-align: center; vertical-align: top\">0</td>\n",
       "    </tr>\n",
       "    <tr>\n",
       "        <td style=\"padding-left: 1em; padding-right: 1em; text-align: center; vertical-align: top\">[]</td>\n",
       "        <td style=\"padding-left: 1em; padding-right: 1em; text-align: center; vertical-align: top\">0</td>\n",
       "    </tr>\n",
       "    <tr>\n",
       "        <td style=\"padding-left: 1em; padding-right: 1em; text-align: center; vertical-align: top\">[]</td>\n",
       "        <td style=\"padding-left: 1em; padding-right: 1em; text-align: center; vertical-align: top\">0</td>\n",
       "    </tr>\n",
       "    <tr>\n",
       "        <td style=\"padding-left: 1em; padding-right: 1em; text-align: center; vertical-align: top\">[]</td>\n",
       "        <td style=\"padding-left: 1em; padding-right: 1em; text-align: center; vertical-align: top\">0</td>\n",
       "    </tr>\n",
       "    <tr>\n",
       "        <td style=\"padding-left: 1em; padding-right: 1em; text-align: center; vertical-align: top\">[]</td>\n",
       "        <td style=\"padding-left: 1em; padding-right: 1em; text-align: center; vertical-align: top\">0</td>\n",
       "    </tr>\n",
       "    <tr>\n",
       "        <td style=\"padding-left: 1em; padding-right: 1em; text-align: center; vertical-align: top\">[]</td>\n",
       "        <td style=\"padding-left: 1em; padding-right: 1em; text-align: center; vertical-align: top\">0</td>\n",
       "    </tr>\n",
       "    <tr>\n",
       "        <td style=\"padding-left: 1em; padding-right: 1em; text-align: center; vertical-align: top\">[]</td>\n",
       "        <td style=\"padding-left: 1em; padding-right: 1em; text-align: center; vertical-align: top\">0</td>\n",
       "    </tr>\n",
       "    <tr>\n",
       "        <td style=\"padding-left: 1em; padding-right: 1em; text-align: center; vertical-align: top\">[]</td>\n",
       "        <td style=\"padding-left: 1em; padding-right: 1em; text-align: center; vertical-align: top\">0</td>\n",
       "    </tr>\n",
       "    <tr>\n",
       "        <td style=\"padding-left: 1em; padding-right: 1em; text-align: center; vertical-align: top\">[]</td>\n",
       "        <td style=\"padding-left: 1em; padding-right: 1em; text-align: center; vertical-align: top\">0</td>\n",
       "    </tr>\n",
       "    <tr>\n",
       "        <td style=\"padding-left: 1em; padding-right: 1em; text-align: center; vertical-align: top\">[]</td>\n",
       "        <td style=\"padding-left: 1em; padding-right: 1em; text-align: center; vertical-align: top\">0</td>\n",
       "    </tr>\n",
       "</table>\n",
       "[10 rows x 9 columns]<br/>\n",
       "</div>"
      ],
      "text/plain": [
       "Columns:\n",
       "\tid\tint\n",
       "\tin_friends1\tlist\n",
       "\tout_friends1\tlist\n",
       "\tout_degree1\tint\n",
       "\tin_degree1\tint\n",
       "\tall_friends1\tarray\n",
       "\tall_degree1\tint\n",
       "\tbi_friends1\tlist\n",
       "\tbi_degree1\tint\n",
       "\n",
       "Rows: 10\n",
       "\n",
       "Data:\n",
       "+---------+-------------------------------+--------------+-------------+------------+\n",
       "|    id   |          in_friends1          | out_friends1 | out_degree1 | in_degree1 |\n",
       "+---------+-------------------------------+--------------+-------------+------------+\n",
       "| 8342756 |           [4982260]           |      []      |      0      |     1      |\n",
       "| 3097696 |           [1686731]           |      []      |      0      |     1      |\n",
       "| 8279084 | [8049434, 3968430, 8280045... |      []      |      0      |     7      |\n",
       "| 7226615 |       [5331852, 4982260]      |      []      |      0      |     2      |\n",
       "| 7269716 |           [4823800]           |      []      |      0      |     1      |\n",
       "| 6482075 |           [7456076]           |      []      |      0      |     1      |\n",
       "| 5453402 |           [4823800]           |      []      |      0      |     1      |\n",
       "| 7894256 |           [5927121]           |      []      |      0      |     1      |\n",
       "| 7591144 |           [2199577]           |      []      |      0      |     1      |\n",
       "| 5570026 |           [5927121]           |      []      |      0      |     1      |\n",
       "+---------+-------------------------------+--------------+-------------+------------+\n",
       "+-------------------------------+-------------+-------------+------------+\n",
       "|          all_friends1         | all_degree1 | bi_friends1 | bi_degree1 |\n",
       "+-------------------------------+-------------+-------------+------------+\n",
       "|          [4982260.0]          |      1      |      []     |     0      |\n",
       "|          [1686731.0]          |      1      |      []     |     0      |\n",
       "| [7563538.0, 2432261.0, 671... |      7      |      []     |     0      |\n",
       "|     [5331852.0, 4982260.0]    |      2      |      []     |     0      |\n",
       "|          [4823800.0]          |      1      |      []     |     0      |\n",
       "|          [7456076.0]          |      1      |      []     |     0      |\n",
       "|          [4823800.0]          |      1      |      []     |     0      |\n",
       "|          [5927121.0]          |      1      |      []     |     0      |\n",
       "|          [2199577.0]          |      1      |      []     |     0      |\n",
       "|          [5927121.0]          |      1      |      []     |     0      |\n",
       "+-------------------------------+-------------+-------------+------------+\n",
       "[10 rows x 9 columns]"
      ]
     },
     "execution_count": 60,
     "metadata": {},
     "output_type": "execute_result"
    }
   ],
   "source": [
    "#out_degree - number of users each vertex is following \n",
    "users_G1['out_degree1'] = users_G1[\"out_friends1\"].apply(lambda l: len(l) ) \n",
    "\n",
    "#in_degree - number of users following each vertex \n",
    "users_G1['in_degree1'] = users_G1[\"in_friends1\"].apply(lambda l: len(l) ) \n",
    "\n",
    "#all_degree - number of uniuqe users that following or are followed by each user \n",
    "users_G1['all_friends1'] = users_G1[['in_friends1', 'out_friends1']].apply(lambda r: list(set(r['in_friends1']) | set(r['out_friends1']))) \n",
    "users_G1['all_degree1'] = users_G1[\"all_friends1\"].apply(lambda l: len(l) ) \n",
    "\n",
    "#bi_degree - number of uniuqe users that are both following and followed by each user \n",
    "users_G1['bi_friends1'] = users_G1[['in_friends1', 'out_friends1']].apply(lambda r: list(set(r['in_friends1']) & set(r['out_friends1']))) \n",
    "users_G1['bi_degree1'] = users_G1[\"bi_friends1\"].apply(lambda l: len(l) ) \n",
    "\n",
    "users_G1.head(10)"
   ]
  },
  {
   "cell_type": "code",
   "execution_count": 63,
   "metadata": {
    "collapsed": false
   },
   "outputs": [
    {
     "data": {
      "text/html": [
       "<div style=\"max-height:1000px;max-width:1500px;overflow:auto;\"><table frame=\"box\" rules=\"cols\">\n",
       "    <tr>\n",
       "        <th style=\"padding-left: 1em; padding-right: 1em; text-align: center\">id</th>\n",
       "        <th style=\"padding-left: 1em; padding-right: 1em; text-align: center\">out_degree1</th>\n",
       "        <th style=\"padding-left: 1em; padding-right: 1em; text-align: center\">in_degree1</th>\n",
       "        <th style=\"padding-left: 1em; padding-right: 1em; text-align: center\">all_degree1</th>\n",
       "        <th style=\"padding-left: 1em; padding-right: 1em; text-align: center\">bi_degree1</th>\n",
       "        <th style=\"padding-left: 1em; padding-right: 1em; text-align: center\">pagerank2</th>\n",
       "    </tr>\n",
       "    <tr>\n",
       "        <td style=\"padding-left: 1em; padding-right: 1em; text-align: center; vertical-align: top\">8342756</td>\n",
       "        <td style=\"padding-left: 1em; padding-right: 1em; text-align: center; vertical-align: top\">0</td>\n",
       "        <td style=\"padding-left: 1em; padding-right: 1em; text-align: center; vertical-align: top\">1</td>\n",
       "        <td style=\"padding-left: 1em; padding-right: 1em; text-align: center; vertical-align: top\">1</td>\n",
       "        <td style=\"padding-left: 1em; padding-right: 1em; text-align: center; vertical-align: top\">0</td>\n",
       "        <td style=\"padding-left: 1em; padding-right: 1em; text-align: center; vertical-align: top\">0.150745614035</td>\n",
       "    </tr>\n",
       "    <tr>\n",
       "        <td style=\"padding-left: 1em; padding-right: 1em; text-align: center; vertical-align: top\">3097696</td>\n",
       "        <td style=\"padding-left: 1em; padding-right: 1em; text-align: center; vertical-align: top\">0</td>\n",
       "        <td style=\"padding-left: 1em; padding-right: 1em; text-align: center; vertical-align: top\">1</td>\n",
       "        <td style=\"padding-left: 1em; padding-right: 1em; text-align: center; vertical-align: top\">1</td>\n",
       "        <td style=\"padding-left: 1em; padding-right: 1em; text-align: center; vertical-align: top\">0</td>\n",
       "        <td style=\"padding-left: 1em; padding-right: 1em; text-align: center; vertical-align: top\">0.15</td>\n",
       "    </tr>\n",
       "    <tr>\n",
       "        <td style=\"padding-left: 1em; padding-right: 1em; text-align: center; vertical-align: top\">8279084</td>\n",
       "        <td style=\"padding-left: 1em; padding-right: 1em; text-align: center; vertical-align: top\">0</td>\n",
       "        <td style=\"padding-left: 1em; padding-right: 1em; text-align: center; vertical-align: top\">7</td>\n",
       "        <td style=\"padding-left: 1em; padding-right: 1em; text-align: center; vertical-align: top\">7</td>\n",
       "        <td style=\"padding-left: 1em; padding-right: 1em; text-align: center; vertical-align: top\">0</td>\n",
       "        <td style=\"padding-left: 1em; padding-right: 1em; text-align: center; vertical-align: top\">0.15</td>\n",
       "    </tr>\n",
       "    <tr>\n",
       "        <td style=\"padding-left: 1em; padding-right: 1em; text-align: center; vertical-align: top\">7226615</td>\n",
       "        <td style=\"padding-left: 1em; padding-right: 1em; text-align: center; vertical-align: top\">0</td>\n",
       "        <td style=\"padding-left: 1em; padding-right: 1em; text-align: center; vertical-align: top\">2</td>\n",
       "        <td style=\"padding-left: 1em; padding-right: 1em; text-align: center; vertical-align: top\">2</td>\n",
       "        <td style=\"padding-left: 1em; padding-right: 1em; text-align: center; vertical-align: top\">0</td>\n",
       "        <td style=\"padding-left: 1em; padding-right: 1em; text-align: center; vertical-align: top\">0.151613924051</td>\n",
       "    </tr>\n",
       "    <tr>\n",
       "        <td style=\"padding-left: 1em; padding-right: 1em; text-align: center; vertical-align: top\">7269716</td>\n",
       "        <td style=\"padding-left: 1em; padding-right: 1em; text-align: center; vertical-align: top\">0</td>\n",
       "        <td style=\"padding-left: 1em; padding-right: 1em; text-align: center; vertical-align: top\">1</td>\n",
       "        <td style=\"padding-left: 1em; padding-right: 1em; text-align: center; vertical-align: top\">1</td>\n",
       "        <td style=\"padding-left: 1em; padding-right: 1em; text-align: center; vertical-align: top\">0</td>\n",
       "        <td style=\"padding-left: 1em; padding-right: 1em; text-align: center; vertical-align: top\">0.155658507161</td>\n",
       "    </tr>\n",
       "    <tr>\n",
       "        <td style=\"padding-left: 1em; padding-right: 1em; text-align: center; vertical-align: top\">6482075</td>\n",
       "        <td style=\"padding-left: 1em; padding-right: 1em; text-align: center; vertical-align: top\">0</td>\n",
       "        <td style=\"padding-left: 1em; padding-right: 1em; text-align: center; vertical-align: top\">1</td>\n",
       "        <td style=\"padding-left: 1em; padding-right: 1em; text-align: center; vertical-align: top\">1</td>\n",
       "        <td style=\"padding-left: 1em; padding-right: 1em; text-align: center; vertical-align: top\">0</td>\n",
       "        <td style=\"padding-left: 1em; padding-right: 1em; text-align: center; vertical-align: top\">0.153384779453</td>\n",
       "    </tr>\n",
       "    <tr>\n",
       "        <td style=\"padding-left: 1em; padding-right: 1em; text-align: center; vertical-align: top\">5453402</td>\n",
       "        <td style=\"padding-left: 1em; padding-right: 1em; text-align: center; vertical-align: top\">0</td>\n",
       "        <td style=\"padding-left: 1em; padding-right: 1em; text-align: center; vertical-align: top\">1</td>\n",
       "        <td style=\"padding-left: 1em; padding-right: 1em; text-align: center; vertical-align: top\">1</td>\n",
       "        <td style=\"padding-left: 1em; padding-right: 1em; text-align: center; vertical-align: top\">0</td>\n",
       "        <td style=\"padding-left: 1em; padding-right: 1em; text-align: center; vertical-align: top\">0.150689189189</td>\n",
       "    </tr>\n",
       "    <tr>\n",
       "        <td style=\"padding-left: 1em; padding-right: 1em; text-align: center; vertical-align: top\">7894256</td>\n",
       "        <td style=\"padding-left: 1em; padding-right: 1em; text-align: center; vertical-align: top\">0</td>\n",
       "        <td style=\"padding-left: 1em; padding-right: 1em; text-align: center; vertical-align: top\">1</td>\n",
       "        <td style=\"padding-left: 1em; padding-right: 1em; text-align: center; vertical-align: top\">1</td>\n",
       "        <td style=\"padding-left: 1em; padding-right: 1em; text-align: center; vertical-align: top\">0</td>\n",
       "        <td style=\"padding-left: 1em; padding-right: 1em; text-align: center; vertical-align: top\">0.150435153584</td>\n",
       "    </tr>\n",
       "    <tr>\n",
       "        <td style=\"padding-left: 1em; padding-right: 1em; text-align: center; vertical-align: top\">7591144</td>\n",
       "        <td style=\"padding-left: 1em; padding-right: 1em; text-align: center; vertical-align: top\">0</td>\n",
       "        <td style=\"padding-left: 1em; padding-right: 1em; text-align: center; vertical-align: top\">1</td>\n",
       "        <td style=\"padding-left: 1em; padding-right: 1em; text-align: center; vertical-align: top\">1</td>\n",
       "        <td style=\"padding-left: 1em; padding-right: 1em; text-align: center; vertical-align: top\">0</td>\n",
       "        <td style=\"padding-left: 1em; padding-right: 1em; text-align: center; vertical-align: top\">0.15131443299</td>\n",
       "    </tr>\n",
       "    <tr>\n",
       "        <td style=\"padding-left: 1em; padding-right: 1em; text-align: center; vertical-align: top\">5570026</td>\n",
       "        <td style=\"padding-left: 1em; padding-right: 1em; text-align: center; vertical-align: top\">0</td>\n",
       "        <td style=\"padding-left: 1em; padding-right: 1em; text-align: center; vertical-align: top\">1</td>\n",
       "        <td style=\"padding-left: 1em; padding-right: 1em; text-align: center; vertical-align: top\">1</td>\n",
       "        <td style=\"padding-left: 1em; padding-right: 1em; text-align: center; vertical-align: top\">0</td>\n",
       "        <td style=\"padding-left: 1em; padding-right: 1em; text-align: center; vertical-align: top\">0.15108974359</td>\n",
       "    </tr>\n",
       "</table>\n",
       "[10 rows x 6 columns]<br/>\n",
       "</div>"
      ],
      "text/plain": [
       "Columns:\n",
       "\tid\tint\n",
       "\tout_degree1\tint\n",
       "\tin_degree1\tint\n",
       "\tall_degree1\tint\n",
       "\tbi_degree1\tint\n",
       "\tpagerank2\tfloat\n",
       "\n",
       "Rows: 10\n",
       "\n",
       "Data:\n",
       "+---------+-------------+------------+-------------+------------+----------------+\n",
       "|    id   | out_degree1 | in_degree1 | all_degree1 | bi_degree1 |   pagerank2    |\n",
       "+---------+-------------+------------+-------------+------------+----------------+\n",
       "| 8342756 |      0      |     1      |      1      |     0      | 0.150745614035 |\n",
       "| 3097696 |      0      |     1      |      1      |     0      |      0.15      |\n",
       "| 8279084 |      0      |     7      |      7      |     0      |      0.15      |\n",
       "| 7226615 |      0      |     2      |      2      |     0      | 0.151613924051 |\n",
       "| 7269716 |      0      |     1      |      1      |     0      | 0.155658507161 |\n",
       "| 6482075 |      0      |     1      |      1      |     0      | 0.153384779453 |\n",
       "| 5453402 |      0      |     1      |      1      |     0      | 0.150689189189 |\n",
       "| 7894256 |      0      |     1      |      1      |     0      | 0.150435153584 |\n",
       "| 7591144 |      0      |     1      |      1      |     0      | 0.15131443299  |\n",
       "| 5570026 |      0      |     1      |      1      |     0      | 0.15108974359  |\n",
       "+---------+-------------+------------+-------------+------------+----------------+\n",
       "[10 rows x 6 columns]"
      ]
     },
     "execution_count": 63,
     "metadata": {},
     "output_type": "execute_result"
    }
   ],
   "source": [
    "del users_G1['in_friends1']\n",
    "del users_G1['out_friends1']\n",
    "del users_G1['all_friends1']\n",
    "del users_G1['bi_friends1']\n",
    "users_G1.head(10)"
   ]
  },
  {
   "cell_type": "code",
   "execution_count": 68,
   "metadata": {
    "collapsed": false
   },
   "outputs": [
    {
     "data": {
      "text/html": [
       "<pre>Counting out degree</pre>"
      ],
      "text/plain": [
       "Counting out degree"
      ]
     },
     "metadata": {},
     "output_type": "display_data"
    },
    {
     "data": {
      "text/html": [
       "<pre>Done counting out degree</pre>"
      ],
      "text/plain": [
       "Done counting out degree"
      ]
     },
     "metadata": {},
     "output_type": "display_data"
    },
    {
     "data": {
      "text/html": [
       "<pre>+-----------+-----------------------+</pre>"
      ],
      "text/plain": [
       "+-----------+-----------------------+"
      ]
     },
     "metadata": {},
     "output_type": "display_data"
    },
    {
     "data": {
      "text/html": [
       "<pre>| Iteration | L1 change in pagerank |</pre>"
      ],
      "text/plain": [
       "| Iteration | L1 change in pagerank |"
      ]
     },
     "metadata": {},
     "output_type": "display_data"
    },
    {
     "data": {
      "text/html": [
       "<pre>+-----------+-----------------------+</pre>"
      ],
      "text/plain": [
       "+-----------+-----------------------+"
      ]
     },
     "metadata": {},
     "output_type": "display_data"
    },
    {
     "data": {
      "text/html": [
       "<pre>| 1         | 5134.85               |</pre>"
      ],
      "text/plain": [
       "| 1         | 5134.85               |"
      ]
     },
     "metadata": {},
     "output_type": "display_data"
    },
    {
     "data": {
      "text/html": [
       "<pre>| 2         | 85.9775               |</pre>"
      ],
      "text/plain": [
       "| 2         | 85.9775               |"
      ]
     },
     "metadata": {},
     "output_type": "display_data"
    },
    {
     "data": {
      "text/html": [
       "<pre>| 3         | 0                     |</pre>"
      ],
      "text/plain": [
       "| 3         | 0                     |"
      ]
     },
     "metadata": {},
     "output_type": "display_data"
    },
    {
     "data": {
      "text/html": [
       "<pre>+-----------+-----------------------+</pre>"
      ],
      "text/plain": [
       "+-----------+-----------------------+"
      ]
     },
     "metadata": {},
     "output_type": "display_data"
    },
    {
     "data": {
      "text/html": [
       "<div style=\"max-height:1000px;max-width:1500px;overflow:auto;\"><table frame=\"box\" rules=\"cols\">\n",
       "    <tr>\n",
       "        <th style=\"padding-left: 1em; padding-right: 1em; text-align: center\">tweet_user</th>\n",
       "        <th style=\"padding-left: 1em; padding-right: 1em; text-align: center\">out_degree1</th>\n",
       "        <th style=\"padding-left: 1em; padding-right: 1em; text-align: center\">in_degree1</th>\n",
       "        <th style=\"padding-left: 1em; padding-right: 1em; text-align: center\">all_degree1</th>\n",
       "        <th style=\"padding-left: 1em; padding-right: 1em; text-align: center\">bi_degree1</th>\n",
       "        <th style=\"padding-left: 1em; padding-right: 1em; text-align: center\">pagerank1</th>\n",
       "    </tr>\n",
       "    <tr>\n",
       "        <td style=\"padding-left: 1em; padding-right: 1em; text-align: center; vertical-align: top\">8342756</td>\n",
       "        <td style=\"padding-left: 1em; padding-right: 1em; text-align: center; vertical-align: top\">0</td>\n",
       "        <td style=\"padding-left: 1em; padding-right: 1em; text-align: center; vertical-align: top\">1</td>\n",
       "        <td style=\"padding-left: 1em; padding-right: 1em; text-align: center; vertical-align: top\">1</td>\n",
       "        <td style=\"padding-left: 1em; padding-right: 1em; text-align: center; vertical-align: top\">0</td>\n",
       "        <td style=\"padding-left: 1em; padding-right: 1em; text-align: center; vertical-align: top\">0.150745614035</td>\n",
       "    </tr>\n",
       "    <tr>\n",
       "        <td style=\"padding-left: 1em; padding-right: 1em; text-align: center; vertical-align: top\">3097696</td>\n",
       "        <td style=\"padding-left: 1em; padding-right: 1em; text-align: center; vertical-align: top\">0</td>\n",
       "        <td style=\"padding-left: 1em; padding-right: 1em; text-align: center; vertical-align: top\">1</td>\n",
       "        <td style=\"padding-left: 1em; padding-right: 1em; text-align: center; vertical-align: top\">1</td>\n",
       "        <td style=\"padding-left: 1em; padding-right: 1em; text-align: center; vertical-align: top\">0</td>\n",
       "        <td style=\"padding-left: 1em; padding-right: 1em; text-align: center; vertical-align: top\">0.15</td>\n",
       "    </tr>\n",
       "    <tr>\n",
       "        <td style=\"padding-left: 1em; padding-right: 1em; text-align: center; vertical-align: top\">8279084</td>\n",
       "        <td style=\"padding-left: 1em; padding-right: 1em; text-align: center; vertical-align: top\">0</td>\n",
       "        <td style=\"padding-left: 1em; padding-right: 1em; text-align: center; vertical-align: top\">7</td>\n",
       "        <td style=\"padding-left: 1em; padding-right: 1em; text-align: center; vertical-align: top\">7</td>\n",
       "        <td style=\"padding-left: 1em; padding-right: 1em; text-align: center; vertical-align: top\">0</td>\n",
       "        <td style=\"padding-left: 1em; padding-right: 1em; text-align: center; vertical-align: top\">0.15</td>\n",
       "    </tr>\n",
       "    <tr>\n",
       "        <td style=\"padding-left: 1em; padding-right: 1em; text-align: center; vertical-align: top\">7226615</td>\n",
       "        <td style=\"padding-left: 1em; padding-right: 1em; text-align: center; vertical-align: top\">0</td>\n",
       "        <td style=\"padding-left: 1em; padding-right: 1em; text-align: center; vertical-align: top\">2</td>\n",
       "        <td style=\"padding-left: 1em; padding-right: 1em; text-align: center; vertical-align: top\">2</td>\n",
       "        <td style=\"padding-left: 1em; padding-right: 1em; text-align: center; vertical-align: top\">0</td>\n",
       "        <td style=\"padding-left: 1em; padding-right: 1em; text-align: center; vertical-align: top\">0.151613924051</td>\n",
       "    </tr>\n",
       "    <tr>\n",
       "        <td style=\"padding-left: 1em; padding-right: 1em; text-align: center; vertical-align: top\">7269716</td>\n",
       "        <td style=\"padding-left: 1em; padding-right: 1em; text-align: center; vertical-align: top\">0</td>\n",
       "        <td style=\"padding-left: 1em; padding-right: 1em; text-align: center; vertical-align: top\">1</td>\n",
       "        <td style=\"padding-left: 1em; padding-right: 1em; text-align: center; vertical-align: top\">1</td>\n",
       "        <td style=\"padding-left: 1em; padding-right: 1em; text-align: center; vertical-align: top\">0</td>\n",
       "        <td style=\"padding-left: 1em; padding-right: 1em; text-align: center; vertical-align: top\">0.155658507161</td>\n",
       "    </tr>\n",
       "    <tr>\n",
       "        <td style=\"padding-left: 1em; padding-right: 1em; text-align: center; vertical-align: top\">6482075</td>\n",
       "        <td style=\"padding-left: 1em; padding-right: 1em; text-align: center; vertical-align: top\">0</td>\n",
       "        <td style=\"padding-left: 1em; padding-right: 1em; text-align: center; vertical-align: top\">1</td>\n",
       "        <td style=\"padding-left: 1em; padding-right: 1em; text-align: center; vertical-align: top\">1</td>\n",
       "        <td style=\"padding-left: 1em; padding-right: 1em; text-align: center; vertical-align: top\">0</td>\n",
       "        <td style=\"padding-left: 1em; padding-right: 1em; text-align: center; vertical-align: top\">0.153384779453</td>\n",
       "    </tr>\n",
       "    <tr>\n",
       "        <td style=\"padding-left: 1em; padding-right: 1em; text-align: center; vertical-align: top\">5453402</td>\n",
       "        <td style=\"padding-left: 1em; padding-right: 1em; text-align: center; vertical-align: top\">0</td>\n",
       "        <td style=\"padding-left: 1em; padding-right: 1em; text-align: center; vertical-align: top\">1</td>\n",
       "        <td style=\"padding-left: 1em; padding-right: 1em; text-align: center; vertical-align: top\">1</td>\n",
       "        <td style=\"padding-left: 1em; padding-right: 1em; text-align: center; vertical-align: top\">0</td>\n",
       "        <td style=\"padding-left: 1em; padding-right: 1em; text-align: center; vertical-align: top\">0.150689189189</td>\n",
       "    </tr>\n",
       "    <tr>\n",
       "        <td style=\"padding-left: 1em; padding-right: 1em; text-align: center; vertical-align: top\">7894256</td>\n",
       "        <td style=\"padding-left: 1em; padding-right: 1em; text-align: center; vertical-align: top\">0</td>\n",
       "        <td style=\"padding-left: 1em; padding-right: 1em; text-align: center; vertical-align: top\">1</td>\n",
       "        <td style=\"padding-left: 1em; padding-right: 1em; text-align: center; vertical-align: top\">1</td>\n",
       "        <td style=\"padding-left: 1em; padding-right: 1em; text-align: center; vertical-align: top\">0</td>\n",
       "        <td style=\"padding-left: 1em; padding-right: 1em; text-align: center; vertical-align: top\">0.150435153584</td>\n",
       "    </tr>\n",
       "    <tr>\n",
       "        <td style=\"padding-left: 1em; padding-right: 1em; text-align: center; vertical-align: top\">7591144</td>\n",
       "        <td style=\"padding-left: 1em; padding-right: 1em; text-align: center; vertical-align: top\">0</td>\n",
       "        <td style=\"padding-left: 1em; padding-right: 1em; text-align: center; vertical-align: top\">1</td>\n",
       "        <td style=\"padding-left: 1em; padding-right: 1em; text-align: center; vertical-align: top\">1</td>\n",
       "        <td style=\"padding-left: 1em; padding-right: 1em; text-align: center; vertical-align: top\">0</td>\n",
       "        <td style=\"padding-left: 1em; padding-right: 1em; text-align: center; vertical-align: top\">0.15131443299</td>\n",
       "    </tr>\n",
       "    <tr>\n",
       "        <td style=\"padding-left: 1em; padding-right: 1em; text-align: center; vertical-align: top\">5570026</td>\n",
       "        <td style=\"padding-left: 1em; padding-right: 1em; text-align: center; vertical-align: top\">0</td>\n",
       "        <td style=\"padding-left: 1em; padding-right: 1em; text-align: center; vertical-align: top\">1</td>\n",
       "        <td style=\"padding-left: 1em; padding-right: 1em; text-align: center; vertical-align: top\">1</td>\n",
       "        <td style=\"padding-left: 1em; padding-right: 1em; text-align: center; vertical-align: top\">0</td>\n",
       "        <td style=\"padding-left: 1em; padding-right: 1em; text-align: center; vertical-align: top\">0.15108974359</td>\n",
       "    </tr>\n",
       "</table>\n",
       "[10 rows x 6 columns]<br/>\n",
       "</div>"
      ],
      "text/plain": [
       "Columns:\n",
       "\ttweet_user\tint\n",
       "\tout_degree1\tint\n",
       "\tin_degree1\tint\n",
       "\tall_degree1\tint\n",
       "\tbi_degree1\tint\n",
       "\tpagerank1\tfloat\n",
       "\n",
       "Rows: 10\n",
       "\n",
       "Data:\n",
       "+------------+-------------+------------+-------------+------------+\n",
       "| tweet_user | out_degree1 | in_degree1 | all_degree1 | bi_degree1 |\n",
       "+------------+-------------+------------+-------------+------------+\n",
       "|  8342756   |      0      |     1      |      1      |     0      |\n",
       "|  3097696   |      0      |     1      |      1      |     0      |\n",
       "|  8279084   |      0      |     7      |      7      |     0      |\n",
       "|  7226615   |      0      |     2      |      2      |     0      |\n",
       "|  7269716   |      0      |     1      |      1      |     0      |\n",
       "|  6482075   |      0      |     1      |      1      |     0      |\n",
       "|  5453402   |      0      |     1      |      1      |     0      |\n",
       "|  7894256   |      0      |     1      |      1      |     0      |\n",
       "|  7591144   |      0      |     1      |      1      |     0      |\n",
       "|  5570026   |      0      |     1      |      1      |     0      |\n",
       "+------------+-------------+------------+-------------+------------+\n",
       "+----------------+\n",
       "|   pagerank1    |\n",
       "+----------------+\n",
       "| 0.150745614035 |\n",
       "|      0.15      |\n",
       "|      0.15      |\n",
       "| 0.151613924051 |\n",
       "| 0.155658507161 |\n",
       "| 0.153384779453 |\n",
       "| 0.150689189189 |\n",
       "| 0.150435153584 |\n",
       "| 0.15131443299  |\n",
       "| 0.15108974359  |\n",
       "+----------------+\n",
       "[10 rows x 6 columns]"
      ]
     },
     "execution_count": 68,
     "metadata": {},
     "output_type": "execute_result"
    }
   ],
   "source": [
    "## 计算出每一个节点的pagerank值\n",
    "pr1 = gl.pagerank.create(G1)\n",
    "users_G1['pagerank1'] = pr1['graph'].vertices['pagerank'] #add the new pagerank field to the original graph g2\n",
    "users_G1.head(10)"
   ]
  },
  {
   "cell_type": "code",
   "execution_count": 37,
   "metadata": {
    "collapsed": false
   },
   "outputs": [
    {
     "data": {
      "text/html": [
       "<pre>Finished parsing file /Users/xiaokeeie/all_datasets/weibojingsai/users_G1.csv</pre>"
      ],
      "text/plain": [
       "Finished parsing file /Users/xiaokeeie/all_datasets/weibojingsai/users_G1.csv"
      ]
     },
     "metadata": {},
     "output_type": "display_data"
    },
    {
     "data": {
      "text/html": [
       "<pre>Parsing completed. Parsed 100 lines in 0.784528 secs.</pre>"
      ],
      "text/plain": [
       "Parsing completed. Parsed 100 lines in 0.784528 secs."
      ]
     },
     "metadata": {},
     "output_type": "display_data"
    },
    {
     "data": {
      "text/html": [
       "<pre>Read 1942009 lines. Lines per second: 1.09944e+06</pre>"
      ],
      "text/plain": [
       "Read 1942009 lines. Lines per second: 1.09944e+06"
      ]
     },
     "metadata": {},
     "output_type": "display_data"
    },
    {
     "data": {
      "text/html": [
       "<pre>Finished parsing file /Users/xiaokeeie/all_datasets/weibojingsai/users_G1.csv</pre>"
      ],
      "text/plain": [
       "Finished parsing file /Users/xiaokeeie/all_datasets/weibojingsai/users_G1.csv"
      ]
     },
     "metadata": {},
     "output_type": "display_data"
    },
    {
     "data": {
      "text/html": [
       "<pre>Parsing completed. Parsed 7977942 lines in 4.24228 secs.</pre>"
      ],
      "text/plain": [
       "Parsing completed. Parsed 7977942 lines in 4.24228 secs."
      ]
     },
     "metadata": {},
     "output_type": "display_data"
    },
    {
     "name": "stdout",
     "output_type": "stream",
     "text": [
      "------------------------------------------------------\n",
      "Inferred types from first 100 line(s) of file as \n",
      "column_type_hints=[int,float,int,int,int,int]\n",
      "If parsing fails due to incorrect types, you can correct\n",
      "the inferred type list above and pass it to read_csv in\n",
      "the column_type_hints argument\n",
      "------------------------------------------------------\n"
     ]
    },
    {
     "data": {
      "text/html": [
       "<div style=\"max-height:1000px;max-width:1500px;overflow:auto;\"><table frame=\"box\" rules=\"cols\">\n",
       "    <tr>\n",
       "        <th style=\"padding-left: 1em; padding-right: 1em; text-align: center\">tweet_user</th>\n",
       "        <th style=\"padding-left: 1em; padding-right: 1em; text-align: center\">pagerank1</th>\n",
       "        <th style=\"padding-left: 1em; padding-right: 1em; text-align: center\">out_degree1</th>\n",
       "        <th style=\"padding-left: 1em; padding-right: 1em; text-align: center\">in_degree1</th>\n",
       "        <th style=\"padding-left: 1em; padding-right: 1em; text-align: center\">all_degree1</th>\n",
       "        <th style=\"padding-left: 1em; padding-right: 1em; text-align: center\">bi_degree1</th>\n",
       "    </tr>\n",
       "    <tr>\n",
       "        <td style=\"padding-left: 1em; padding-right: 1em; text-align: center; vertical-align: top\">87442</td>\n",
       "        <td style=\"padding-left: 1em; padding-right: 1em; text-align: center; vertical-align: top\">0.150963</td>\n",
       "        <td style=\"padding-left: 1em; padding-right: 1em; text-align: center; vertical-align: top\">0</td>\n",
       "        <td style=\"padding-left: 1em; padding-right: 1em; text-align: center; vertical-align: top\">1</td>\n",
       "        <td style=\"padding-left: 1em; padding-right: 1em; text-align: center; vertical-align: top\">1</td>\n",
       "        <td style=\"padding-left: 1em; padding-right: 1em; text-align: center; vertical-align: top\">0</td>\n",
       "    </tr>\n",
       "    <tr>\n",
       "        <td style=\"padding-left: 1em; padding-right: 1em; text-align: center; vertical-align: top\">87619</td>\n",
       "        <td style=\"padding-left: 1em; padding-right: 1em; text-align: center; vertical-align: top\">0.152167</td>\n",
       "        <td style=\"padding-left: 1em; padding-right: 1em; text-align: center; vertical-align: top\">0</td>\n",
       "        <td style=\"padding-left: 1em; padding-right: 1em; text-align: center; vertical-align: top\">1</td>\n",
       "        <td style=\"padding-left: 1em; padding-right: 1em; text-align: center; vertical-align: top\">1</td>\n",
       "        <td style=\"padding-left: 1em; padding-right: 1em; text-align: center; vertical-align: top\">0</td>\n",
       "    </tr>\n",
       "    <tr>\n",
       "        <td style=\"padding-left: 1em; padding-right: 1em; text-align: center; vertical-align: top\">88814</td>\n",
       "        <td style=\"padding-left: 1em; padding-right: 1em; text-align: center; vertical-align: top\">0.151342</td>\n",
       "        <td style=\"padding-left: 1em; padding-right: 1em; text-align: center; vertical-align: top\">0</td>\n",
       "        <td style=\"padding-left: 1em; padding-right: 1em; text-align: center; vertical-align: top\">1</td>\n",
       "        <td style=\"padding-left: 1em; padding-right: 1em; text-align: center; vertical-align: top\">1</td>\n",
       "        <td style=\"padding-left: 1em; padding-right: 1em; text-align: center; vertical-align: top\">0</td>\n",
       "    </tr>\n",
       "    <tr>\n",
       "        <td style=\"padding-left: 1em; padding-right: 1em; text-align: center; vertical-align: top\">89844</td>\n",
       "        <td style=\"padding-left: 1em; padding-right: 1em; text-align: center; vertical-align: top\">0.151342</td>\n",
       "        <td style=\"padding-left: 1em; padding-right: 1em; text-align: center; vertical-align: top\">0</td>\n",
       "        <td style=\"padding-left: 1em; padding-right: 1em; text-align: center; vertical-align: top\">1</td>\n",
       "        <td style=\"padding-left: 1em; padding-right: 1em; text-align: center; vertical-align: top\">1</td>\n",
       "        <td style=\"padding-left: 1em; padding-right: 1em; text-align: center; vertical-align: top\">0</td>\n",
       "    </tr>\n",
       "    <tr>\n",
       "        <td style=\"padding-left: 1em; padding-right: 1em; text-align: center; vertical-align: top\">90916</td>\n",
       "        <td style=\"padding-left: 1em; padding-right: 1em; text-align: center; vertical-align: top\">0.153678</td>\n",
       "        <td style=\"padding-left: 1em; padding-right: 1em; text-align: center; vertical-align: top\">0</td>\n",
       "        <td style=\"padding-left: 1em; padding-right: 1em; text-align: center; vertical-align: top\">1</td>\n",
       "        <td style=\"padding-left: 1em; padding-right: 1em; text-align: center; vertical-align: top\">1</td>\n",
       "        <td style=\"padding-left: 1em; padding-right: 1em; text-align: center; vertical-align: top\">0</td>\n",
       "    </tr>\n",
       "    <tr>\n",
       "        <td style=\"padding-left: 1em; padding-right: 1em; text-align: center; vertical-align: top\">91044</td>\n",
       "        <td style=\"padding-left: 1em; padding-right: 1em; text-align: center; vertical-align: top\">0.151316</td>\n",
       "        <td style=\"padding-left: 1em; padding-right: 1em; text-align: center; vertical-align: top\">0</td>\n",
       "        <td style=\"padding-left: 1em; padding-right: 1em; text-align: center; vertical-align: top\">1</td>\n",
       "        <td style=\"padding-left: 1em; padding-right: 1em; text-align: center; vertical-align: top\">1</td>\n",
       "        <td style=\"padding-left: 1em; padding-right: 1em; text-align: center; vertical-align: top\">0</td>\n",
       "    </tr>\n",
       "    <tr>\n",
       "        <td style=\"padding-left: 1em; padding-right: 1em; text-align: center; vertical-align: top\">91220</td>\n",
       "        <td style=\"padding-left: 1em; padding-right: 1em; text-align: center; vertical-align: top\">0.154487</td>\n",
       "        <td style=\"padding-left: 1em; padding-right: 1em; text-align: center; vertical-align: top\">0</td>\n",
       "        <td style=\"padding-left: 1em; padding-right: 1em; text-align: center; vertical-align: top\">2</td>\n",
       "        <td style=\"padding-left: 1em; padding-right: 1em; text-align: center; vertical-align: top\">2</td>\n",
       "        <td style=\"padding-left: 1em; padding-right: 1em; text-align: center; vertical-align: top\">0</td>\n",
       "    </tr>\n",
       "    <tr>\n",
       "        <td style=\"padding-left: 1em; padding-right: 1em; text-align: center; vertical-align: top\">91283</td>\n",
       "        <td style=\"padding-left: 1em; padding-right: 1em; text-align: center; vertical-align: top\">0.152531</td>\n",
       "        <td style=\"padding-left: 1em; padding-right: 1em; text-align: center; vertical-align: top\">0</td>\n",
       "        <td style=\"padding-left: 1em; padding-right: 1em; text-align: center; vertical-align: top\">1</td>\n",
       "        <td style=\"padding-left: 1em; padding-right: 1em; text-align: center; vertical-align: top\">1</td>\n",
       "        <td style=\"padding-left: 1em; padding-right: 1em; text-align: center; vertical-align: top\">0</td>\n",
       "    </tr>\n",
       "    <tr>\n",
       "        <td style=\"padding-left: 1em; padding-right: 1em; text-align: center; vertical-align: top\">91415</td>\n",
       "        <td style=\"padding-left: 1em; padding-right: 1em; text-align: center; vertical-align: top\">0.153186</td>\n",
       "        <td style=\"padding-left: 1em; padding-right: 1em; text-align: center; vertical-align: top\">0</td>\n",
       "        <td style=\"padding-left: 1em; padding-right: 1em; text-align: center; vertical-align: top\">1</td>\n",
       "        <td style=\"padding-left: 1em; padding-right: 1em; text-align: center; vertical-align: top\">1</td>\n",
       "        <td style=\"padding-left: 1em; padding-right: 1em; text-align: center; vertical-align: top\">0</td>\n",
       "    </tr>\n",
       "    <tr>\n",
       "        <td style=\"padding-left: 1em; padding-right: 1em; text-align: center; vertical-align: top\">91420</td>\n",
       "        <td style=\"padding-left: 1em; padding-right: 1em; text-align: center; vertical-align: top\">0.153889</td>\n",
       "        <td style=\"padding-left: 1em; padding-right: 1em; text-align: center; vertical-align: top\">0</td>\n",
       "        <td style=\"padding-left: 1em; padding-right: 1em; text-align: center; vertical-align: top\">2</td>\n",
       "        <td style=\"padding-left: 1em; padding-right: 1em; text-align: center; vertical-align: top\">2</td>\n",
       "        <td style=\"padding-left: 1em; padding-right: 1em; text-align: center; vertical-align: top\">0</td>\n",
       "    </tr>\n",
       "</table>\n",
       "[10 rows x 6 columns]<br/>\n",
       "</div>"
      ],
      "text/plain": [
       "Columns:\n",
       "\ttweet_user\tint\n",
       "\tpagerank1\tfloat\n",
       "\tout_degree1\tint\n",
       "\tin_degree1\tint\n",
       "\tall_degree1\tint\n",
       "\tbi_degree1\tint\n",
       "\n",
       "Rows: 10\n",
       "\n",
       "Data:\n",
       "+------------+-----------+-------------+------------+-------------+------------+\n",
       "| tweet_user | pagerank1 | out_degree1 | in_degree1 | all_degree1 | bi_degree1 |\n",
       "+------------+-----------+-------------+------------+-------------+------------+\n",
       "|   87442    |  0.150963 |      0      |     1      |      1      |     0      |\n",
       "|   87619    |  0.152167 |      0      |     1      |      1      |     0      |\n",
       "|   88814    |  0.151342 |      0      |     1      |      1      |     0      |\n",
       "|   89844    |  0.151342 |      0      |     1      |      1      |     0      |\n",
       "|   90916    |  0.153678 |      0      |     1      |      1      |     0      |\n",
       "|   91044    |  0.151316 |      0      |     1      |      1      |     0      |\n",
       "|   91220    |  0.154487 |      0      |     2      |      2      |     0      |\n",
       "|   91283    |  0.152531 |      0      |     1      |      1      |     0      |\n",
       "|   91415    |  0.153186 |      0      |     1      |      1      |     0      |\n",
       "|   91420    |  0.153889 |      0      |     2      |      2      |     0      |\n",
       "+------------+-----------+-------------+------------+-------------+------------+\n",
       "[10 rows x 6 columns]"
      ]
     },
     "execution_count": 37,
     "metadata": {},
     "output_type": "execute_result"
    }
   ],
   "source": [
    "#将其保存为csv文件以便今后使用\n",
    "#users_G1.rename({'id': 'tweet_user'})                      #更改为tweet_user以便进行数据连接\n",
    "#users_G1.save('users_G1.csv', format='csv')                #可提供该数据users_G1，通过服务器计算的，所以列名字稍有差异\n",
    "\n",
    "\n",
    "#使用graphlab重新将数据载入到内存空间中\n",
    "users_G1=gl.SFrame.read_csv('users_G1.csv')\n",
    "users_G1.head(10)"
   ]
  },
  {
   "cell_type": "code",
   "execution_count": 6,
   "metadata": {
    "collapsed": false
   },
   "outputs": [
    {
     "data": {
      "image/png": "[encoded data removed]",
      "text/plain": [
       "<matplotlib.figure.Figure at 0x11534e090>"
      ]
     },
     "metadata": {},
     "output_type": "display_data"
    }
   ],
   "source": [
    "fig = gcf() \n",
    "fig.set_size_inches(18, 12)\n",
    "\n",
    "subplot(2,2,1)\n",
    "out_degree=users_G1['out_degree1']\n",
    "hist(out_degree,range(1,500))\n",
    "xlabel('out_degree')\n",
    "\n",
    "subplot(2,2,2)\n",
    "in_degree=users_G1['in_degree1']\n",
    "hist(in_degree,range(1,100))\n",
    "xlabel('in_degree')\n",
    "\n",
    "subplot(2,2,3)\n",
    "all_degree=users_G1['all_degree1']\n",
    "hist(all_degree,range(1,500))\n",
    "xlabel('all_degree')\n",
    "\n",
    "subplot(2,2,4)\n",
    "bi_degree=users_G1['bi_degree1']\n",
    "hist(bi_degree,range(1,100))\n",
    "xlabel('bi_degree')\n",
    "\n",
    "savefig(\"network1_degree.pdf\")"
   ]
  },
  {
   "cell_type": "code",
   "execution_count": 56,
   "metadata": {
    "collapsed": false
   },
   "outputs": [
    {
     "data": {
      "text/plain": [
       "<matplotlib.text.Text at 0x11ce73ad0>"
      ]
     },
     "execution_count": 56,
     "metadata": {},
     "output_type": "execute_result"
    },
    {
     "data": {
      "image/png": "[encoded data removed]",
      "text/plain": [
       "<matplotlib.figure.Figure at 0x11ec90a50>"
      ]
     },
     "metadata": {},
     "output_type": "display_data"
    }
   ],
   "source": [
    "fig = gcf() \n",
    "fig.set_size_inches(12, 9)\n",
    "in_degree=users_G1['in_degree1']\n",
    "in_degree_hist=hist(in_degree,range(1,100))\n",
    "xbin=list(in_degree_hist[1])\n",
    "del xbin[-1]\n",
    "ybin=list(in_degree_hist[0])\n",
    "loglog(xbin,ybin,'ro-')\n",
    "xlabel('in_degree')\n",
    "savefig(\"in_degree.pdf\")"
   ]
  },
  {
   "cell_type": "markdown",
   "metadata": {},
   "source": [
    "# 4 微博转发结构和时间特征的构建"
   ]
  },
  {
   "cell_type": "markdown",
   "metadata": {},
   "source": [
    "## 4.1 原始数据格式的说明\n",
    "用户微博的转发数据，文件名为trainRepost.txt \n",
    "\n",
    "字段格式为：微博id\\001被转发用户id\\001转发用户id\\001转发时间与源微博发表时间的间隔\\001微博内容  \n",
    "样例：小赵在早上7点15分10秒发了一条微博“早上好”，假设记id为weibo1；  \n",
    "然后按时间先后，过了10s，小王转发了此微博；  \n",
    "此后又过了20s，小李也转发了；  \n",
    "再过去30s，小张从小王那里转发了此微博。  \n",
    "\n",
    "微博上的记录如下：     \n",
    "小赵：早上好     \n",
    "小王：早//@小赵：早上好     \n",
    "小李：早安//@小赵：早上好     \n",
    "小张：转发微博//@小王：早//@小赵：早上好       \n",
    "那么微博转发数据中的记录如下：     \n",
    "weibo1\\001小赵id\\001小王id\\00110\\001早    \n",
    "weibo1\\001小赵id\\001小李id\\00130\\001早安     \n",
    "weibo1\\001小王id\\001小张id\\00160\\001    \n",
    "说明：每行用“回车符”分隔，一行内各字段用“\\001”分隔。若转发内容为“转发微博”，我们则省略显示此字段。"
   ]
  },
  {
   "cell_type": "markdown",
   "metadata": {},
   "source": [
    "## 4.2 转发关系中需要构建的传播特征\n",
    "\n",
    "### 4.2.1 转发网络中的结构特征\n",
    "- 节点的出度：out_degree2\n",
    "- 节点的入度：in_degree2\n",
    "- 节点在无向网络中的度：all_degree2\n",
    "- 节点的双向朋友数量：bi_degree2\n",
    "- 节点的pagerank值：pagerank2\n",
    "\n",
    "### 4.2.2 转发网络中的时间特征\n",
    "- 1-60分钟时间内转发的规模：WeiboID,scaleT1,scaleT1…,scaleT60\n",
    "- 1-60分钟时间内转发的深度：WeiboID,depthT1,depthT1…,depthT60\n",
    "- 60分钟内的变异系数：差分时间序列的标准差/差分时间序列的均值\n",
    "- 60分钟内的峰值比率：差分时间序列的最大转发量/总转发量\n",
    "- 75分钟起每个15分钟一次的总转发规模：WeiboID (Time Unit: Minutes),scaleT75,scaleT90…,scaleT4380\n",
    "- 75分钟起每个15分钟一次的总转发规模：WeiboID (Time Unit: Minutes),depthT75,depthT90…,depthT4380 "
   ]
  },
  {
   "cell_type": "markdown",
   "metadata": {},
   "source": [
    "## 4.3 对数据进行读取、设置列名、排序等预处理"
   ]
  },
  {
   "cell_type": "markdown",
   "metadata": {},
   "source": [
    "### 4.3.1 读取文件trainRepost，设置列名，按照微博号排序"
   ]
  },
  {
   "cell_type": "code",
   "execution_count": 152,
   "metadata": {
    "collapsed": false
   },
   "outputs": [
    {
     "data": {
      "text/html": [
       "<div>\n",
       "<table border=\"1\" class=\"dataframe\">\n",
       "  <thead>\n",
       "    <tr style=\"text-align: right;\">\n",
       "      <th></th>\n",
       "      <th>weibo_id</th>\n",
       "      <th>tweet_user</th>\n",
       "      <th>retweet_user</th>\n",
       "      <th>spread_time</th>\n",
       "      <th>content</th>\n",
       "    </tr>\n",
       "  </thead>\n",
       "  <tbody>\n",
       "    <tr>\n",
       "      <th>0</th>\n",
       "      <td>3903741306239294</td>\n",
       "      <td>2848188</td>\n",
       "      <td>8381213</td>\n",
       "      <td>58674</td>\n",
       "      <td>NaN</td>\n",
       "    </tr>\n",
       "    <tr>\n",
       "      <th>1</th>\n",
       "      <td>3972184907435086</td>\n",
       "      <td>5368578</td>\n",
       "      <td>8381203</td>\n",
       "      <td>53713</td>\n",
       "      <td>NaN</td>\n",
       "    </tr>\n",
       "    <tr>\n",
       "      <th>2</th>\n",
       "      <td>3903069714925188</td>\n",
       "      <td>6854938</td>\n",
       "      <td>8381203</td>\n",
       "      <td>7828688</td>\n",
       "      <td>NaN</td>\n",
       "    </tr>\n",
       "    <tr>\n",
       "      <th>3</th>\n",
       "      <td>3934248572099610</td>\n",
       "      <td>4130595</td>\n",
       "      <td>8381203</td>\n",
       "      <td>299103</td>\n",
       "      <td>NaN</td>\n",
       "    </tr>\n",
       "    <tr>\n",
       "      <th>4</th>\n",
       "      <td>3945441579517170</td>\n",
       "      <td>7853791</td>\n",
       "      <td>8381203</td>\n",
       "      <td>11929</td>\n",
       "      <td>@空仕安forever @余瑞廉2013 @吴成军1982</td>\n",
       "    </tr>\n",
       "    <tr>\n",
       "      <th>5</th>\n",
       "      <td>3920377703250479</td>\n",
       "      <td>2699651</td>\n",
       "      <td>8381203</td>\n",
       "      <td>3820213</td>\n",
       "      <td>NaN</td>\n",
       "    </tr>\n",
       "    <tr>\n",
       "      <th>6</th>\n",
       "      <td>3934928376650489</td>\n",
       "      <td>6666106</td>\n",
       "      <td>8381203</td>\n",
       "      <td>137272</td>\n",
       "      <td>NaN</td>\n",
       "    </tr>\n",
       "    <tr>\n",
       "      <th>7</th>\n",
       "      <td>3929327043353030</td>\n",
       "      <td>1639686</td>\n",
       "      <td>8381203</td>\n",
       "      <td>1645635</td>\n",
       "      <td>NaN</td>\n",
       "    </tr>\n",
       "    <tr>\n",
       "      <th>8</th>\n",
       "      <td>3811632822151194</td>\n",
       "      <td>5860754</td>\n",
       "      <td>8381203</td>\n",
       "      <td>29320554</td>\n",
       "      <td>NaN</td>\n",
       "    </tr>\n",
       "    <tr>\n",
       "      <th>9</th>\n",
       "      <td>3907606521769298</td>\n",
       "      <td>6560549</td>\n",
       "      <td>8381203</td>\n",
       "      <td>8714507</td>\n",
       "      <td>NaN</td>\n",
       "    </tr>\n",
       "  </tbody>\n",
       "</table>\n",
       "</div>"
      ],
      "text/plain": [
       "           weibo_id  tweet_user  retweet_user  spread_time  \\\n",
       "0  3903741306239294     2848188       8381213        58674   \n",
       "1  3972184907435086     5368578       8381203        53713   \n",
       "2  3903069714925188     6854938       8381203      7828688   \n",
       "3  3934248572099610     4130595       8381203       299103   \n",
       "4  3945441579517170     7853791       8381203        11929   \n",
       "5  3920377703250479     2699651       8381203      3820213   \n",
       "6  3934928376650489     6666106       8381203       137272   \n",
       "7  3929327043353030     1639686       8381203      1645635   \n",
       "8  3811632822151194     5860754       8381203     29320554   \n",
       "9  3907606521769298     6560549       8381203      8714507   \n",
       "\n",
       "                         content  \n",
       "0                            NaN  \n",
       "1                            NaN  \n",
       "2                            NaN  \n",
       "3                            NaN  \n",
       "4  @空仕安forever @余瑞廉2013 @吴成军1982  \n",
       "5                            NaN  \n",
       "6                            NaN  \n",
       "7                            NaN  \n",
       "8                            NaN  \n",
       "9                            NaN  "
      ]
     },
     "execution_count": 152,
     "metadata": {},
     "output_type": "execute_result"
    }
   ],
   "source": [
    "#为每一列起一个名字，方便今后的操作\n",
    "column_names=['weibo_id','tweet_user','retweet_user','spread_time','content']\n",
    "\n",
    "#采用pandas框架读入数据\n",
    "trainRepost=pd.read_csv('trainRepost_origin.csv',header=0,names=column_names)\n",
    "\n",
    "#未排序前的数据\n",
    "trainRepost.head(10)"
   ]
  },
  {
   "cell_type": "code",
   "execution_count": 131,
   "metadata": {
    "collapsed": false
   },
   "outputs": [
    {
     "data": {
      "text/plain": [
       "15975388"
      ]
     },
     "execution_count": 131,
     "metadata": {},
     "output_type": "execute_result"
    }
   ],
   "source": [
    "#查看一下数据长度，看看读取过程是否有问题，正确长度应该为15975388\n",
    "len(trainRepost)"
   ]
  },
  {
   "cell_type": "code",
   "execution_count": 138,
   "metadata": {
    "collapsed": false
   },
   "outputs": [
    {
     "data": {
      "text/html": [
       "<div>\n",
       "<table border=\"1\" class=\"dataframe\">\n",
       "  <thead>\n",
       "    <tr style=\"text-align: right;\">\n",
       "      <th></th>\n",
       "      <th>weibo_id</th>\n",
       "      <th>tweet_user</th>\n",
       "      <th>retweet_user</th>\n",
       "      <th>spread_time</th>\n",
       "      <th>content</th>\n",
       "    </tr>\n",
       "  </thead>\n",
       "  <tbody>\n",
       "    <tr>\n",
       "      <th>7329356</th>\n",
       "      <td>3793991852126437</td>\n",
       "      <td>8216045</td>\n",
       "      <td>3558011</td>\n",
       "      <td>114</td>\n",
       "      <td>NaN</td>\n",
       "    </tr>\n",
       "    <tr>\n",
       "      <th>13823173</th>\n",
       "      <td>3793991852126437</td>\n",
       "      <td>8216045</td>\n",
       "      <td>3063794</td>\n",
       "      <td>210</td>\n",
       "      <td>很好看，@赵雅芝 新年快乐@陳法蓉 新年快乐，2015祝你幸福，尽快</td>\n",
       "    </tr>\n",
       "    <tr>\n",
       "      <th>5502957</th>\n",
       "      <td>3793991852126437</td>\n",
       "      <td>8216045</td>\n",
       "      <td>4785212</td>\n",
       "      <td>450</td>\n",
       "      <td>新年快樂[鼓掌]</td>\n",
       "    </tr>\n",
       "    <tr>\n",
       "      <th>13728515</th>\n",
       "      <td>3793991852126437</td>\n",
       "      <td>8216045</td>\n",
       "      <td>3546267</td>\n",
       "      <td>587</td>\n",
       "      <td>NaN</td>\n",
       "    </tr>\n",
       "    <tr>\n",
       "      <th>9638528</th>\n",
       "      <td>3793991852126437</td>\n",
       "      <td>8216045</td>\n",
       "      <td>8297102</td>\n",
       "      <td>656</td>\n",
       "      <td>[爱你][爱你]</td>\n",
       "    </tr>\n",
       "    <tr>\n",
       "      <th>331786</th>\n",
       "      <td>3793991852126437</td>\n",
       "      <td>8216045</td>\n",
       "      <td>6726058</td>\n",
       "      <td>689</td>\n",
       "      <td>NaN</td>\n",
       "    </tr>\n",
       "    <tr>\n",
       "      <th>8715405</th>\n",
       "      <td>3793991852126437</td>\n",
       "      <td>8216045</td>\n",
       "      <td>4748782</td>\n",
       "      <td>693</td>\n",
       "      <td>NaN</td>\n",
       "    </tr>\n",
       "    <tr>\n",
       "      <th>11690426</th>\n",
       "      <td>3793991852126437</td>\n",
       "      <td>8216045</td>\n",
       "      <td>5803291</td>\n",
       "      <td>785</td>\n",
       "      <td>NaN</td>\n",
       "    </tr>\n",
       "    <tr>\n",
       "      <th>1971640</th>\n",
       "      <td>3793991852126437</td>\n",
       "      <td>8216045</td>\n",
       "      <td>6606949</td>\n",
       "      <td>824</td>\n",
       "      <td>要不要這麼好[花心][花心]2015。幸福的開始</td>\n",
       "    </tr>\n",
       "    <tr>\n",
       "      <th>9027973</th>\n",
       "      <td>3793991852126437</td>\n",
       "      <td>8216045</td>\n",
       "      <td>3207988</td>\n",
       "      <td>944</td>\n",
       "      <td>芝姐美美哒😍</td>\n",
       "    </tr>\n",
       "  </tbody>\n",
       "</table>\n",
       "</div>"
      ],
      "text/plain": [
       "                  weibo_id  tweet_user  retweet_user  spread_time  \\\n",
       "7329356   3793991852126437     8216045       3558011          114   \n",
       "13823173  3793991852126437     8216045       3063794          210   \n",
       "5502957   3793991852126437     8216045       4785212          450   \n",
       "13728515  3793991852126437     8216045       3546267          587   \n",
       "9638528   3793991852126437     8216045       8297102          656   \n",
       "331786    3793991852126437     8216045       6726058          689   \n",
       "8715405   3793991852126437     8216045       4748782          693   \n",
       "11690426  3793991852126437     8216045       5803291          785   \n",
       "1971640   3793991852126437     8216045       6606949          824   \n",
       "9027973   3793991852126437     8216045       3207988          944   \n",
       "\n",
       "                                     content  \n",
       "7329356                                  NaN  \n",
       "13823173  很好看，@赵雅芝 新年快乐@陳法蓉 新年快乐，2015祝你幸福，尽快  \n",
       "5502957                             新年快樂[鼓掌]  \n",
       "13728515                                 NaN  \n",
       "9638528                             [爱你][爱你]  \n",
       "331786                                   NaN  \n",
       "8715405                                  NaN  \n",
       "11690426                                 NaN  \n",
       "1971640             要不要這麼好[花心][花心]2015。幸福的開始  \n",
       "9027973                              芝姐美美哒😍  "
      ]
     },
     "execution_count": 138,
     "metadata": {},
     "output_type": "execute_result"
    }
   ],
   "source": [
    "#按照微博webo_id,转发时间spread_time, 被转发用户tweet_user，转发用户retweet_user排序，升序排列\n",
    "#排序后对于创建树形结构是非常有利的\n",
    "trainRepost.sort_values(by=['weibo_id','spread_time','tweet_user','retweet_user'],ascending=[True,True,True,True])\n",
    "\n",
    "#排序后的数据\n",
    "trainRepost.head(10)"
   ]
  },
  {
   "cell_type": "code",
   "execution_count": 57,
   "metadata": {
    "collapsed": true
   },
   "outputs": [],
   "source": [
    "#将其保存为csv文件以便今后使用\n",
    "#trainRepost.to_csv('trainRepost_sort.csv',index=False) #可提供trainRepost_sort.csv数据\n",
    "\n",
    "#重新将数据载入到内存空间中\n",
    "trainRepost=pd.read_csv('trainRepost_sort.csv')"
   ]
  },
  {
   "cell_type": "code",
   "execution_count": 59,
   "metadata": {
    "collapsed": false,
    "scrolled": true
   },
   "outputs": [
    {
     "data": {
      "image/png": "[encoded data removed]",
      "text/plain": [
       "<matplotlib.figure.Figure at 0x1190b2810>"
      ]
     },
     "metadata": {},
     "output_type": "display_data"
    }
   ],
   "source": [
    "#对传播时间作一个简要的分析\n",
    "fig = gcf() \n",
    "fig.set_size_inches(15, 9)\n",
    "spread_time=trainRepost['spread_time']/60.0\n",
    "hist(spread_time,np.arange(0,1200,15))\n",
    "xlabel('Minute')\n",
    "savefig(\"spread_result.pdf\")\n",
    "#由上图可以看出，大量的转发是在前100分钟内完成的，因此前一个小时的转发信息是有可能预测后面的转发情况。"
   ]
  },
  {
   "cell_type": "markdown",
   "metadata": {},
   "source": [
    "## 4.4 转发关系数据中结构特征构建的详细过程"
   ]
  },
  {
   "cell_type": "code",
   "execution_count": 27,
   "metadata": {
    "collapsed": false
   },
   "outputs": [
    {
     "data": {
      "text/html": [
       "<pre>Finished parsing file /Users/xiaokeeie/all_datasets/weibojingsai/zhuanfa_links.csv</pre>"
      ],
      "text/plain": [
       "Finished parsing file /Users/xiaokeeie/all_datasets/weibojingsai/zhuanfa_links.csv"
      ]
     },
     "metadata": {},
     "output_type": "display_data"
    },
    {
     "data": {
      "text/html": [
       "<pre>Parsing completed. Parsed 100 lines in 0.741369 secs.</pre>"
      ],
      "text/plain": [
       "Parsing completed. Parsed 100 lines in 0.741369 secs."
      ]
     },
     "metadata": {},
     "output_type": "display_data"
    },
    {
     "data": {
      "text/html": [
       "<pre>Read 2378481 lines. Lines per second: 1.88315e+06</pre>"
      ],
      "text/plain": [
       "Read 2378481 lines. Lines per second: 1.88315e+06"
      ]
     },
     "metadata": {},
     "output_type": "display_data"
    },
    {
     "data": {
      "text/html": [
       "<pre>Finished parsing file /Users/xiaokeeie/all_datasets/weibojingsai/zhuanfa_links.csv</pre>"
      ],
      "text/plain": [
       "Finished parsing file /Users/xiaokeeie/all_datasets/weibojingsai/zhuanfa_links.csv"
      ]
     },
     "metadata": {},
     "output_type": "display_data"
    },
    {
     "data": {
      "text/html": [
       "<pre>Parsing completed. Parsed 15975387 lines in 4.33957 secs.</pre>"
      ],
      "text/plain": [
       "Parsing completed. Parsed 15975387 lines in 4.33957 secs."
      ]
     },
     "metadata": {},
     "output_type": "display_data"
    },
    {
     "name": "stdout",
     "output_type": "stream",
     "text": [
      "------------------------------------------------------\n",
      "Inferred types from first 100 line(s) of file as \n",
      "column_type_hints=[int,int,int]\n",
      "If parsing fails due to incorrect types, you can correct\n",
      "the inferred type list above and pass it to read_csv in\n",
      "the column_type_hints argument\n",
      "------------------------------------------------------\n"
     ]
    },
    {
     "data": {
      "text/html": [
       "<div style=\"max-height:1000px;max-width:1500px;overflow:auto;\"><table frame=\"box\" rules=\"cols\">\n",
       "    <tr>\n",
       "        <th style=\"padding-left: 1em; padding-right: 1em; text-align: center\">src</th>\n",
       "        <th style=\"padding-left: 1em; padding-right: 1em; text-align: center\">dst</th>\n",
       "        <th style=\"padding-left: 1em; padding-right: 1em; text-align: center\">spread_time</th>\n",
       "    </tr>\n",
       "    <tr>\n",
       "        <td style=\"padding-left: 1em; padding-right: 1em; text-align: center; vertical-align: top\">3558011</td>\n",
       "        <td style=\"padding-left: 1em; padding-right: 1em; text-align: center; vertical-align: top\">8216045</td>\n",
       "        <td style=\"padding-left: 1em; padding-right: 1em; text-align: center; vertical-align: top\">114</td>\n",
       "    </tr>\n",
       "    <tr>\n",
       "        <td style=\"padding-left: 1em; padding-right: 1em; text-align: center; vertical-align: top\">3063794</td>\n",
       "        <td style=\"padding-left: 1em; padding-right: 1em; text-align: center; vertical-align: top\">8216045</td>\n",
       "        <td style=\"padding-left: 1em; padding-right: 1em; text-align: center; vertical-align: top\">210</td>\n",
       "    </tr>\n",
       "    <tr>\n",
       "        <td style=\"padding-left: 1em; padding-right: 1em; text-align: center; vertical-align: top\">4785212</td>\n",
       "        <td style=\"padding-left: 1em; padding-right: 1em; text-align: center; vertical-align: top\">8216045</td>\n",
       "        <td style=\"padding-left: 1em; padding-right: 1em; text-align: center; vertical-align: top\">450</td>\n",
       "    </tr>\n",
       "    <tr>\n",
       "        <td style=\"padding-left: 1em; padding-right: 1em; text-align: center; vertical-align: top\">3546267</td>\n",
       "        <td style=\"padding-left: 1em; padding-right: 1em; text-align: center; vertical-align: top\">8216045</td>\n",
       "        <td style=\"padding-left: 1em; padding-right: 1em; text-align: center; vertical-align: top\">587</td>\n",
       "    </tr>\n",
       "    <tr>\n",
       "        <td style=\"padding-left: 1em; padding-right: 1em; text-align: center; vertical-align: top\">8297102</td>\n",
       "        <td style=\"padding-left: 1em; padding-right: 1em; text-align: center; vertical-align: top\">8216045</td>\n",
       "        <td style=\"padding-left: 1em; padding-right: 1em; text-align: center; vertical-align: top\">656</td>\n",
       "    </tr>\n",
       "    <tr>\n",
       "        <td style=\"padding-left: 1em; padding-right: 1em; text-align: center; vertical-align: top\">6726058</td>\n",
       "        <td style=\"padding-left: 1em; padding-right: 1em; text-align: center; vertical-align: top\">8216045</td>\n",
       "        <td style=\"padding-left: 1em; padding-right: 1em; text-align: center; vertical-align: top\">689</td>\n",
       "    </tr>\n",
       "    <tr>\n",
       "        <td style=\"padding-left: 1em; padding-right: 1em; text-align: center; vertical-align: top\">4748782</td>\n",
       "        <td style=\"padding-left: 1em; padding-right: 1em; text-align: center; vertical-align: top\">8216045</td>\n",
       "        <td style=\"padding-left: 1em; padding-right: 1em; text-align: center; vertical-align: top\">693</td>\n",
       "    </tr>\n",
       "    <tr>\n",
       "        <td style=\"padding-left: 1em; padding-right: 1em; text-align: center; vertical-align: top\">5803291</td>\n",
       "        <td style=\"padding-left: 1em; padding-right: 1em; text-align: center; vertical-align: top\">8216045</td>\n",
       "        <td style=\"padding-left: 1em; padding-right: 1em; text-align: center; vertical-align: top\">785</td>\n",
       "    </tr>\n",
       "    <tr>\n",
       "        <td style=\"padding-left: 1em; padding-right: 1em; text-align: center; vertical-align: top\">6606949</td>\n",
       "        <td style=\"padding-left: 1em; padding-right: 1em; text-align: center; vertical-align: top\">8216045</td>\n",
       "        <td style=\"padding-left: 1em; padding-right: 1em; text-align: center; vertical-align: top\">824</td>\n",
       "    </tr>\n",
       "    <tr>\n",
       "        <td style=\"padding-left: 1em; padding-right: 1em; text-align: center; vertical-align: top\">3207988</td>\n",
       "        <td style=\"padding-left: 1em; padding-right: 1em; text-align: center; vertical-align: top\">8216045</td>\n",
       "        <td style=\"padding-left: 1em; padding-right: 1em; text-align: center; vertical-align: top\">944</td>\n",
       "    </tr>\n",
       "</table>\n",
       "[10 rows x 3 columns]<br/>\n",
       "</div>"
      ],
      "text/plain": [
       "Columns:\n",
       "\tsrc\tint\n",
       "\tdst\tint\n",
       "\tspread_time\tint\n",
       "\n",
       "Rows: 10\n",
       "\n",
       "Data:\n",
       "+---------+---------+-------------+\n",
       "|   src   |   dst   | spread_time |\n",
       "+---------+---------+-------------+\n",
       "| 3558011 | 8216045 |     114     |\n",
       "| 3063794 | 8216045 |     210     |\n",
       "| 4785212 | 8216045 |     450     |\n",
       "| 3546267 | 8216045 |     587     |\n",
       "| 8297102 | 8216045 |     656     |\n",
       "| 6726058 | 8216045 |     689     |\n",
       "| 4748782 | 8216045 |     693     |\n",
       "| 5803291 | 8216045 |     785     |\n",
       "| 6606949 | 8216045 |     824     |\n",
       "| 3207988 | 8216045 |     944     |\n",
       "+---------+---------+-------------+\n",
       "[10 rows x 3 columns]"
      ]
     },
     "execution_count": 27,
     "metadata": {},
     "output_type": "execute_result"
    }
   ],
   "source": [
    "#zhuanfa_links=trainRepost[['retweet_user','tweet_user','spread_time']]\n",
    "#zhuanfa_links=zhuanfa_links.dropna()                                               #删除链接关系中的缺失值\n",
    "#zhuanfa_links.columns = ['src', 'dst','spread_time']\n",
    "\n",
    "#将其保存为csv文件以便今后使用\n",
    "#zhuanfa_links.to_csv('zhuanfa_links.csv',index=False)                             #可提供zhuanfa_links.csv数据\n",
    "\n",
    "#使用graphlab重新将数据载入到内存空间中\n",
    "zhuanfa_links=gl.SFrame.read_csv('zhuanfa_links.csv')\n",
    "zhuanfa_links.head(10)"
   ]
  },
  {
   "cell_type": "code",
   "execution_count": 28,
   "metadata": {
    "collapsed": false
   },
   "outputs": [
    {
     "name": "stdout",
     "output_type": "stream",
     "text": [
      "{'num_edges': 15975387, 'num_vertices': 7445377}\n"
     ]
    }
   ],
   "source": [
    "## 使用SGraph来生成微博用户之间的关系网络G2\n",
    "G2=gl.SGraph().add_edges(zhuanfa_links, src_field = 'src', dst_field = 'dst')\n",
    "print G2.summary()  "
   ]
  },
  {
   "cell_type": "code",
   "execution_count": 9,
   "metadata": {
    "collapsed": true
   },
   "outputs": [],
   "source": [
    "#G2.save('G2')                                                #可以直接保存该网络的数据，可提供转发网络G2的数据\n",
    "G2= gl.load_sgraph('G2')                                      #将该网络读入到内存空间"
   ]
  },
  {
   "cell_type": "code",
   "execution_count": 29,
   "metadata": {
    "collapsed": false
   },
   "outputs": [
    {
     "data": {
      "text/html": [
       "<div style=\"max-height:1000px;max-width:1500px;overflow:auto;\"><table frame=\"box\" rules=\"cols\">\n",
       "    <tr>\n",
       "        <th style=\"padding-left: 1em; padding-right: 1em; text-align: center\">id</th>\n",
       "    </tr>\n",
       "    <tr>\n",
       "        <td style=\"padding-left: 1em; padding-right: 1em; text-align: center; vertical-align: top\">5</td>\n",
       "    </tr>\n",
       "    <tr>\n",
       "        <td style=\"padding-left: 1em; padding-right: 1em; text-align: center; vertical-align: top\">7</td>\n",
       "    </tr>\n",
       "    <tr>\n",
       "        <td style=\"padding-left: 1em; padding-right: 1em; text-align: center; vertical-align: top\">8</td>\n",
       "    </tr>\n",
       "    <tr>\n",
       "        <td style=\"padding-left: 1em; padding-right: 1em; text-align: center; vertical-align: top\">10</td>\n",
       "    </tr>\n",
       "    <tr>\n",
       "        <td style=\"padding-left: 1em; padding-right: 1em; text-align: center; vertical-align: top\">27</td>\n",
       "    </tr>\n",
       "    <tr>\n",
       "        <td style=\"padding-left: 1em; padding-right: 1em; text-align: center; vertical-align: top\">29</td>\n",
       "    </tr>\n",
       "    <tr>\n",
       "        <td style=\"padding-left: 1em; padding-right: 1em; text-align: center; vertical-align: top\">33</td>\n",
       "    </tr>\n",
       "    <tr>\n",
       "        <td style=\"padding-left: 1em; padding-right: 1em; text-align: center; vertical-align: top\">47</td>\n",
       "    </tr>\n",
       "    <tr>\n",
       "        <td style=\"padding-left: 1em; padding-right: 1em; text-align: center; vertical-align: top\">52</td>\n",
       "    </tr>\n",
       "    <tr>\n",
       "        <td style=\"padding-left: 1em; padding-right: 1em; text-align: center; vertical-align: top\">73</td>\n",
       "    </tr>\n",
       "</table>\n",
       "[10 rows x 1 columns]<br/>\n",
       "</div>"
      ],
      "text/plain": [
       "Columns:\n",
       "\tid\tint\n",
       "\n",
       "Rows: 10\n",
       "\n",
       "Data:\n",
       "+----+\n",
       "| id |\n",
       "+----+\n",
       "| 5  |\n",
       "| 7  |\n",
       "| 8  |\n",
       "| 10 |\n",
       "| 27 |\n",
       "| 29 |\n",
       "| 33 |\n",
       "| 47 |\n",
       "| 52 |\n",
       "| 73 |\n",
       "+----+\n",
       "[10 rows x 1 columns]"
      ]
     },
     "execution_count": 29,
     "metadata": {},
     "output_type": "execute_result"
    }
   ],
   "source": [
    "users_G2 = G2.get_vertices()                                  #获取网络中所有节点的名称\n",
    "users_G2.rename({'__id':'id'})                                #将名称重新命名\n",
    "users_G2.head(10)"
   ]
  },
  {
   "cell_type": "code",
   "execution_count": 30,
   "metadata": {
    "collapsed": false
   },
   "outputs": [
    {
     "data": {
      "text/html": [
       "<div style=\"max-height:1000px;max-width:1500px;overflow:auto;\"><table frame=\"box\" rules=\"cols\">\n",
       "    <tr>\n",
       "        <th style=\"padding-left: 1em; padding-right: 1em; text-align: center\">id</th>\n",
       "        <th style=\"padding-left: 1em; padding-right: 1em; text-align: center\">out_friends2</th>\n",
       "    </tr>\n",
       "    <tr>\n",
       "        <td style=\"padding-left: 1em; padding-right: 1em; text-align: center; vertical-align: top\">4865614</td>\n",
       "        <td style=\"padding-left: 1em; padding-right: 1em; text-align: center; vertical-align: top\">[7659055]</td>\n",
       "    </tr>\n",
       "    <tr>\n",
       "        <td style=\"padding-left: 1em; padding-right: 1em; text-align: center; vertical-align: top\">6120761</td>\n",
       "        <td style=\"padding-left: 1em; padding-right: 1em; text-align: center; vertical-align: top\">[5933434]</td>\n",
       "    </tr>\n",
       "    <tr>\n",
       "        <td style=\"padding-left: 1em; padding-right: 1em; text-align: center; vertical-align: top\">6102746</td>\n",
       "        <td style=\"padding-left: 1em; padding-right: 1em; text-align: center; vertical-align: top\">[5844971]</td>\n",
       "    </tr>\n",
       "    <tr>\n",
       "        <td style=\"padding-left: 1em; padding-right: 1em; text-align: center; vertical-align: top\">2658191</td>\n",
       "        <td style=\"padding-left: 1em; padding-right: 1em; text-align: center; vertical-align: top\">[4079144]</td>\n",
       "    </tr>\n",
       "    <tr>\n",
       "        <td style=\"padding-left: 1em; padding-right: 1em; text-align: center; vertical-align: top\">7839285</td>\n",
       "        <td style=\"padding-left: 1em; padding-right: 1em; text-align: center; vertical-align: top\">[7666083]</td>\n",
       "    </tr>\n",
       "    <tr>\n",
       "        <td style=\"padding-left: 1em; padding-right: 1em; text-align: center; vertical-align: top\">1261821</td>\n",
       "        <td style=\"padding-left: 1em; padding-right: 1em; text-align: center; vertical-align: top\">[8202919, 8202919]</td>\n",
       "    </tr>\n",
       "    <tr>\n",
       "        <td style=\"padding-left: 1em; padding-right: 1em; text-align: center; vertical-align: top\">504649</td>\n",
       "        <td style=\"padding-left: 1em; padding-right: 1em; text-align: center; vertical-align: top\">[7377993, 5511390]</td>\n",
       "    </tr>\n",
       "    <tr>\n",
       "        <td style=\"padding-left: 1em; padding-right: 1em; text-align: center; vertical-align: top\">7392217</td>\n",
       "        <td style=\"padding-left: 1em; padding-right: 1em; text-align: center; vertical-align: top\">[8253334]</td>\n",
       "    </tr>\n",
       "    <tr>\n",
       "        <td style=\"padding-left: 1em; padding-right: 1em; text-align: center; vertical-align: top\">1185276</td>\n",
       "        <td style=\"padding-left: 1em; padding-right: 1em; text-align: center; vertical-align: top\">[7899465]</td>\n",
       "    </tr>\n",
       "    <tr>\n",
       "        <td style=\"padding-left: 1em; padding-right: 1em; text-align: center; vertical-align: top\">1968541</td>\n",
       "        <td style=\"padding-left: 1em; padding-right: 1em; text-align: center; vertical-align: top\">[4516159]</td>\n",
       "    </tr>\n",
       "</table>\n",
       "[10 rows x 2 columns]<br/>\n",
       "</div>"
      ],
      "text/plain": [
       "Columns:\n",
       "\tid\tint\n",
       "\tout_friends2\tlist\n",
       "\n",
       "Rows: 10\n",
       "\n",
       "Data:\n",
       "+---------+--------------------+\n",
       "|    id   |    out_friends2    |\n",
       "+---------+--------------------+\n",
       "| 4865614 |     [7659055]      |\n",
       "| 6120761 |     [5933434]      |\n",
       "| 6102746 |     [5844971]      |\n",
       "| 2658191 |     [4079144]      |\n",
       "| 7839285 |     [7666083]      |\n",
       "| 1261821 | [8202919, 8202919] |\n",
       "|  504649 | [7377993, 5511390] |\n",
       "| 7392217 |     [8253334]      |\n",
       "| 1185276 |     [7899465]      |\n",
       "| 1968541 |     [4516159]      |\n",
       "+---------+--------------------+\n",
       "[10 rows x 2 columns]"
      ]
     },
     "execution_count": 30,
     "metadata": {},
     "output_type": "execute_result"
    }
   ],
   "source": [
    "#计算每个节点在转发网络中的出度节点集合\n",
    "out_friends_sf = zhuanfa_links.groupby(\"src\", {\"out_friends2\": gl.aggregate.CONCAT(\"dst\")})\n",
    "out_friends_sf.rename({\"src\": \"id\"})\n",
    "out_friends_sf.head(10)"
   ]
  },
  {
   "cell_type": "code",
   "execution_count": 31,
   "metadata": {
    "collapsed": false
   },
   "outputs": [
    {
     "data": {
      "text/html": [
       "<div style=\"max-height:1000px;max-width:1500px;overflow:auto;\"><table frame=\"box\" rules=\"cols\">\n",
       "    <tr>\n",
       "        <th style=\"padding-left: 1em; padding-right: 1em; text-align: center\">id</th>\n",
       "        <th style=\"padding-left: 1em; padding-right: 1em; text-align: center\">in_friends2</th>\n",
       "    </tr>\n",
       "    <tr>\n",
       "        <td style=\"padding-left: 1em; padding-right: 1em; text-align: center; vertical-align: top\">6693645</td>\n",
       "        <td style=\"padding-left: 1em; padding-right: 1em; text-align: center; vertical-align: top\">[6594948]</td>\n",
       "    </tr>\n",
       "    <tr>\n",
       "        <td style=\"padding-left: 1em; padding-right: 1em; text-align: center; vertical-align: top\">7506315</td>\n",
       "        <td style=\"padding-left: 1em; padding-right: 1em; text-align: center; vertical-align: top\">[5584488]</td>\n",
       "    </tr>\n",
       "    <tr>\n",
       "        <td style=\"padding-left: 1em; padding-right: 1em; text-align: center; vertical-align: top\">6310057</td>\n",
       "        <td style=\"padding-left: 1em; padding-right: 1em; text-align: center; vertical-align: top\">[7904313]</td>\n",
       "    </tr>\n",
       "    <tr>\n",
       "        <td style=\"padding-left: 1em; padding-right: 1em; text-align: center; vertical-align: top\">7691878</td>\n",
       "        <td style=\"padding-left: 1em; padding-right: 1em; text-align: center; vertical-align: top\">[5525981, 5525981]</td>\n",
       "    </tr>\n",
       "    <tr>\n",
       "        <td style=\"padding-left: 1em; padding-right: 1em; text-align: center; vertical-align: top\">6400323</td>\n",
       "        <td style=\"padding-left: 1em; padding-right: 1em; text-align: center; vertical-align: top\">[6400323]</td>\n",
       "    </tr>\n",
       "    <tr>\n",
       "        <td style=\"padding-left: 1em; padding-right: 1em; text-align: center; vertical-align: top\">7622051</td>\n",
       "        <td style=\"padding-left: 1em; padding-right: 1em; text-align: center; vertical-align: top\">[7522772, 7988546,<br>7526782, 7854825, ...</td>\n",
       "    </tr>\n",
       "    <tr>\n",
       "        <td style=\"padding-left: 1em; padding-right: 1em; text-align: center; vertical-align: top\">6723084</td>\n",
       "        <td style=\"padding-left: 1em; padding-right: 1em; text-align: center; vertical-align: top\">[4077516]</td>\n",
       "    </tr>\n",
       "    <tr>\n",
       "        <td style=\"padding-left: 1em; padding-right: 1em; text-align: center; vertical-align: top\">4644262</td>\n",
       "        <td style=\"padding-left: 1em; padding-right: 1em; text-align: center; vertical-align: top\">[4292987]</td>\n",
       "    </tr>\n",
       "    <tr>\n",
       "        <td style=\"padding-left: 1em; padding-right: 1em; text-align: center; vertical-align: top\">6983937</td>\n",
       "        <td style=\"padding-left: 1em; padding-right: 1em; text-align: center; vertical-align: top\">[635740, 6243433,<br>4304196] ...</td>\n",
       "    </tr>\n",
       "    <tr>\n",
       "        <td style=\"padding-left: 1em; padding-right: 1em; text-align: center; vertical-align: top\">6011377</td>\n",
       "        <td style=\"padding-left: 1em; padding-right: 1em; text-align: center; vertical-align: top\">[5774459, 6431916]</td>\n",
       "    </tr>\n",
       "</table>\n",
       "[10 rows x 2 columns]<br/>\n",
       "</div>"
      ],
      "text/plain": [
       "Columns:\n",
       "\tid\tint\n",
       "\tin_friends2\tlist\n",
       "\n",
       "Rows: 10\n",
       "\n",
       "Data:\n",
       "+---------+-------------------------------+\n",
       "|    id   |          in_friends2          |\n",
       "+---------+-------------------------------+\n",
       "| 6693645 |           [6594948]           |\n",
       "| 7506315 |           [5584488]           |\n",
       "| 6310057 |           [7904313]           |\n",
       "| 7691878 |       [5525981, 5525981]      |\n",
       "| 6400323 |           [6400323]           |\n",
       "| 7622051 | [7522772, 7988546, 7526782... |\n",
       "| 6723084 |           [4077516]           |\n",
       "| 4644262 |           [4292987]           |\n",
       "| 6983937 |   [635740, 6243433, 4304196]  |\n",
       "| 6011377 |       [5774459, 6431916]      |\n",
       "+---------+-------------------------------+\n",
       "[10 rows x 2 columns]"
      ]
     },
     "execution_count": 31,
     "metadata": {},
     "output_type": "execute_result"
    }
   ],
   "source": [
    "#计算每个节点在转发网络中的入度节点集合\n",
    "in_friends_sf = zhuanfa_links.groupby(\"dst\", {\"in_friends2\": gl.aggregate.CONCAT(\"src\")})\n",
    "in_friends_sf.rename({\"dst\": \"id\"})\n",
    "in_friends_sf.head(10)"
   ]
  },
  {
   "cell_type": "code",
   "execution_count": 32,
   "metadata": {
    "collapsed": false
   },
   "outputs": [
    {
     "data": {
      "text/html": [
       "<div style=\"max-height:1000px;max-width:1500px;overflow:auto;\"><table frame=\"box\" rules=\"cols\">\n",
       "    <tr>\n",
       "        <th style=\"padding-left: 1em; padding-right: 1em; text-align: center\">id</th>\n",
       "        <th style=\"padding-left: 1em; padding-right: 1em; text-align: center\">in_friends2</th>\n",
       "        <th style=\"padding-left: 1em; padding-right: 1em; text-align: center\">out_friends2</th>\n",
       "    </tr>\n",
       "    <tr>\n",
       "        <td style=\"padding-left: 1em; padding-right: 1em; text-align: center; vertical-align: top\">5</td>\n",
       "        <td style=\"padding-left: 1em; padding-right: 1em; text-align: center; vertical-align: top\">[]</td>\n",
       "        <td style=\"padding-left: 1em; padding-right: 1em; text-align: center; vertical-align: top\">[468821]</td>\n",
       "    </tr>\n",
       "    <tr>\n",
       "        <td style=\"padding-left: 1em; padding-right: 1em; text-align: center; vertical-align: top\">7</td>\n",
       "        <td style=\"padding-left: 1em; padding-right: 1em; text-align: center; vertical-align: top\">[]</td>\n",
       "        <td style=\"padding-left: 1em; padding-right: 1em; text-align: center; vertical-align: top\">[7434393]</td>\n",
       "    </tr>\n",
       "    <tr>\n",
       "        <td style=\"padding-left: 1em; padding-right: 1em; text-align: center; vertical-align: top\">8</td>\n",
       "        <td style=\"padding-left: 1em; padding-right: 1em; text-align: center; vertical-align: top\">[]</td>\n",
       "        <td style=\"padding-left: 1em; padding-right: 1em; text-align: center; vertical-align: top\">[109619]</td>\n",
       "    </tr>\n",
       "    <tr>\n",
       "        <td style=\"padding-left: 1em; padding-right: 1em; text-align: center; vertical-align: top\">10</td>\n",
       "        <td style=\"padding-left: 1em; padding-right: 1em; text-align: center; vertical-align: top\">[]</td>\n",
       "        <td style=\"padding-left: 1em; padding-right: 1em; text-align: center; vertical-align: top\">[5496360]</td>\n",
       "    </tr>\n",
       "    <tr>\n",
       "        <td style=\"padding-left: 1em; padding-right: 1em; text-align: center; vertical-align: top\">27</td>\n",
       "        <td style=\"padding-left: 1em; padding-right: 1em; text-align: center; vertical-align: top\">[]</td>\n",
       "        <td style=\"padding-left: 1em; padding-right: 1em; text-align: center; vertical-align: top\">[8276870]</td>\n",
       "    </tr>\n",
       "    <tr>\n",
       "        <td style=\"padding-left: 1em; padding-right: 1em; text-align: center; vertical-align: top\">29</td>\n",
       "        <td style=\"padding-left: 1em; padding-right: 1em; text-align: center; vertical-align: top\">[]</td>\n",
       "        <td style=\"padding-left: 1em; padding-right: 1em; text-align: center; vertical-align: top\">[5222540]</td>\n",
       "    </tr>\n",
       "    <tr>\n",
       "        <td style=\"padding-left: 1em; padding-right: 1em; text-align: center; vertical-align: top\">33</td>\n",
       "        <td style=\"padding-left: 1em; padding-right: 1em; text-align: center; vertical-align: top\">[]</td>\n",
       "        <td style=\"padding-left: 1em; padding-right: 1em; text-align: center; vertical-align: top\">[1068229]</td>\n",
       "    </tr>\n",
       "    <tr>\n",
       "        <td style=\"padding-left: 1em; padding-right: 1em; text-align: center; vertical-align: top\">47</td>\n",
       "        <td style=\"padding-left: 1em; padding-right: 1em; text-align: center; vertical-align: top\">[]</td>\n",
       "        <td style=\"padding-left: 1em; padding-right: 1em; text-align: center; vertical-align: top\">[5687616]</td>\n",
       "    </tr>\n",
       "    <tr>\n",
       "        <td style=\"padding-left: 1em; padding-right: 1em; text-align: center; vertical-align: top\">52</td>\n",
       "        <td style=\"padding-left: 1em; padding-right: 1em; text-align: center; vertical-align: top\">[]</td>\n",
       "        <td style=\"padding-left: 1em; padding-right: 1em; text-align: center; vertical-align: top\">[468821]</td>\n",
       "    </tr>\n",
       "    <tr>\n",
       "        <td style=\"padding-left: 1em; padding-right: 1em; text-align: center; vertical-align: top\">73</td>\n",
       "        <td style=\"padding-left: 1em; padding-right: 1em; text-align: center; vertical-align: top\">[]</td>\n",
       "        <td style=\"padding-left: 1em; padding-right: 1em; text-align: center; vertical-align: top\">[7017144]</td>\n",
       "    </tr>\n",
       "</table>\n",
       "[10 rows x 3 columns]<br/>\n",
       "</div>"
      ],
      "text/plain": [
       "Columns:\n",
       "\tid\tint\n",
       "\tin_friends2\tlist\n",
       "\tout_friends2\tlist\n",
       "\n",
       "Rows: 10\n",
       "\n",
       "Data:\n",
       "+----+-------------+--------------+\n",
       "| id | in_friends2 | out_friends2 |\n",
       "+----+-------------+--------------+\n",
       "| 5  |      []     |   [468821]   |\n",
       "| 7  |      []     |  [7434393]   |\n",
       "| 8  |      []     |   [109619]   |\n",
       "| 10 |      []     |  [5496360]   |\n",
       "| 27 |      []     |  [8276870]   |\n",
       "| 29 |      []     |  [5222540]   |\n",
       "| 33 |      []     |  [1068229]   |\n",
       "| 47 |      []     |  [5687616]   |\n",
       "| 52 |      []     |   [468821]   |\n",
       "| 73 |      []     |  [7017144]   |\n",
       "+----+-------------+--------------+\n",
       "[10 rows x 3 columns]"
      ]
     },
     "execution_count": 32,
     "metadata": {},
     "output_type": "execute_result"
    }
   ],
   "source": [
    "#使用节点的ID将上述数据合并到一起\n",
    "users_G2 = users_G2.join(in_friends_sf, on=\"id\", how=\"outer\")\n",
    "users_G2 = users_G2.join(out_friends_sf, on=\"id\", how=\"outer\")\n",
    "\n",
    "#we replace missing values with empty lists\n",
    "users_G2 = users_G2.fillna('in_friends2',[])\n",
    "users_G2 = users_G2.fillna('out_friends2',[])\n",
    "users_G2.head(10)"
   ]
  },
  {
   "cell_type": "code",
   "execution_count": 33,
   "metadata": {
    "collapsed": false
   },
   "outputs": [
    {
     "data": {
      "text/html": [
       "<div style=\"max-height:1000px;max-width:1500px;overflow:auto;\"><table frame=\"box\" rules=\"cols\">\n",
       "    <tr>\n",
       "        <th style=\"padding-left: 1em; padding-right: 1em; text-align: center\">id</th>\n",
       "        <th style=\"padding-left: 1em; padding-right: 1em; text-align: center\">in_friends2</th>\n",
       "        <th style=\"padding-left: 1em; padding-right: 1em; text-align: center\">out_friends2</th>\n",
       "        <th style=\"padding-left: 1em; padding-right: 1em; text-align: center\">out_degree2</th>\n",
       "        <th style=\"padding-left: 1em; padding-right: 1em; text-align: center\">in_degree2</th>\n",
       "        <th style=\"padding-left: 1em; padding-right: 1em; text-align: center\">all_friends2</th>\n",
       "        <th style=\"padding-left: 1em; padding-right: 1em; text-align: center\">all_degree2</th>\n",
       "        <th style=\"padding-left: 1em; padding-right: 1em; text-align: center\">bi_friends2</th>\n",
       "        <th style=\"padding-left: 1em; padding-right: 1em; text-align: center\">bi_degree2</th>\n",
       "    </tr>\n",
       "    <tr>\n",
       "        <td style=\"padding-left: 1em; padding-right: 1em; text-align: center; vertical-align: top\">5</td>\n",
       "        <td style=\"padding-left: 1em; padding-right: 1em; text-align: center; vertical-align: top\">[]</td>\n",
       "        <td style=\"padding-left: 1em; padding-right: 1em; text-align: center; vertical-align: top\">[468821]</td>\n",
       "        <td style=\"padding-left: 1em; padding-right: 1em; text-align: center; vertical-align: top\">1</td>\n",
       "        <td style=\"padding-left: 1em; padding-right: 1em; text-align: center; vertical-align: top\">0</td>\n",
       "        <td style=\"padding-left: 1em; padding-right: 1em; text-align: center; vertical-align: top\">[468821.0]</td>\n",
       "        <td style=\"padding-left: 1em; padding-right: 1em; text-align: center; vertical-align: top\">1</td>\n",
       "        <td style=\"padding-left: 1em; padding-right: 1em; text-align: center; vertical-align: top\">[]</td>\n",
       "        <td style=\"padding-left: 1em; padding-right: 1em; text-align: center; vertical-align: top\">0</td>\n",
       "    </tr>\n",
       "    <tr>\n",
       "        <td style=\"padding-left: 1em; padding-right: 1em; text-align: center; vertical-align: top\">7</td>\n",
       "        <td style=\"padding-left: 1em; padding-right: 1em; text-align: center; vertical-align: top\">[]</td>\n",
       "        <td style=\"padding-left: 1em; padding-right: 1em; text-align: center; vertical-align: top\">[7434393]</td>\n",
       "        <td style=\"padding-left: 1em; padding-right: 1em; text-align: center; vertical-align: top\">1</td>\n",
       "        <td style=\"padding-left: 1em; padding-right: 1em; text-align: center; vertical-align: top\">0</td>\n",
       "        <td style=\"padding-left: 1em; padding-right: 1em; text-align: center; vertical-align: top\">[7434393.0]</td>\n",
       "        <td style=\"padding-left: 1em; padding-right: 1em; text-align: center; vertical-align: top\">1</td>\n",
       "        <td style=\"padding-left: 1em; padding-right: 1em; text-align: center; vertical-align: top\">[]</td>\n",
       "        <td style=\"padding-left: 1em; padding-right: 1em; text-align: center; vertical-align: top\">0</td>\n",
       "    </tr>\n",
       "    <tr>\n",
       "        <td style=\"padding-left: 1em; padding-right: 1em; text-align: center; vertical-align: top\">8</td>\n",
       "        <td style=\"padding-left: 1em; padding-right: 1em; text-align: center; vertical-align: top\">[]</td>\n",
       "        <td style=\"padding-left: 1em; padding-right: 1em; text-align: center; vertical-align: top\">[109619]</td>\n",
       "        <td style=\"padding-left: 1em; padding-right: 1em; text-align: center; vertical-align: top\">1</td>\n",
       "        <td style=\"padding-left: 1em; padding-right: 1em; text-align: center; vertical-align: top\">0</td>\n",
       "        <td style=\"padding-left: 1em; padding-right: 1em; text-align: center; vertical-align: top\">[109619.0]</td>\n",
       "        <td style=\"padding-left: 1em; padding-right: 1em; text-align: center; vertical-align: top\">1</td>\n",
       "        <td style=\"padding-left: 1em; padding-right: 1em; text-align: center; vertical-align: top\">[]</td>\n",
       "        <td style=\"padding-left: 1em; padding-right: 1em; text-align: center; vertical-align: top\">0</td>\n",
       "    </tr>\n",
       "    <tr>\n",
       "        <td style=\"padding-left: 1em; padding-right: 1em; text-align: center; vertical-align: top\">10</td>\n",
       "        <td style=\"padding-left: 1em; padding-right: 1em; text-align: center; vertical-align: top\">[]</td>\n",
       "        <td style=\"padding-left: 1em; padding-right: 1em; text-align: center; vertical-align: top\">[5496360]</td>\n",
       "        <td style=\"padding-left: 1em; padding-right: 1em; text-align: center; vertical-align: top\">1</td>\n",
       "        <td style=\"padding-left: 1em; padding-right: 1em; text-align: center; vertical-align: top\">0</td>\n",
       "        <td style=\"padding-left: 1em; padding-right: 1em; text-align: center; vertical-align: top\">[5496360.0]</td>\n",
       "        <td style=\"padding-left: 1em; padding-right: 1em; text-align: center; vertical-align: top\">1</td>\n",
       "        <td style=\"padding-left: 1em; padding-right: 1em; text-align: center; vertical-align: top\">[]</td>\n",
       "        <td style=\"padding-left: 1em; padding-right: 1em; text-align: center; vertical-align: top\">0</td>\n",
       "    </tr>\n",
       "    <tr>\n",
       "        <td style=\"padding-left: 1em; padding-right: 1em; text-align: center; vertical-align: top\">27</td>\n",
       "        <td style=\"padding-left: 1em; padding-right: 1em; text-align: center; vertical-align: top\">[]</td>\n",
       "        <td style=\"padding-left: 1em; padding-right: 1em; text-align: center; vertical-align: top\">[8276870]</td>\n",
       "        <td style=\"padding-left: 1em; padding-right: 1em; text-align: center; vertical-align: top\">1</td>\n",
       "        <td style=\"padding-left: 1em; padding-right: 1em; text-align: center; vertical-align: top\">0</td>\n",
       "        <td style=\"padding-left: 1em; padding-right: 1em; text-align: center; vertical-align: top\">[8276870.0]</td>\n",
       "        <td style=\"padding-left: 1em; padding-right: 1em; text-align: center; vertical-align: top\">1</td>\n",
       "        <td style=\"padding-left: 1em; padding-right: 1em; text-align: center; vertical-align: top\">[]</td>\n",
       "        <td style=\"padding-left: 1em; padding-right: 1em; text-align: center; vertical-align: top\">0</td>\n",
       "    </tr>\n",
       "    <tr>\n",
       "        <td style=\"padding-left: 1em; padding-right: 1em; text-align: center; vertical-align: top\">29</td>\n",
       "        <td style=\"padding-left: 1em; padding-right: 1em; text-align: center; vertical-align: top\">[]</td>\n",
       "        <td style=\"padding-left: 1em; padding-right: 1em; text-align: center; vertical-align: top\">[5222540]</td>\n",
       "        <td style=\"padding-left: 1em; padding-right: 1em; text-align: center; vertical-align: top\">1</td>\n",
       "        <td style=\"padding-left: 1em; padding-right: 1em; text-align: center; vertical-align: top\">0</td>\n",
       "        <td style=\"padding-left: 1em; padding-right: 1em; text-align: center; vertical-align: top\">[5222540.0]</td>\n",
       "        <td style=\"padding-left: 1em; padding-right: 1em; text-align: center; vertical-align: top\">1</td>\n",
       "        <td style=\"padding-left: 1em; padding-right: 1em; text-align: center; vertical-align: top\">[]</td>\n",
       "        <td style=\"padding-left: 1em; padding-right: 1em; text-align: center; vertical-align: top\">0</td>\n",
       "    </tr>\n",
       "    <tr>\n",
       "        <td style=\"padding-left: 1em; padding-right: 1em; text-align: center; vertical-align: top\">33</td>\n",
       "        <td style=\"padding-left: 1em; padding-right: 1em; text-align: center; vertical-align: top\">[]</td>\n",
       "        <td style=\"padding-left: 1em; padding-right: 1em; text-align: center; vertical-align: top\">[1068229]</td>\n",
       "        <td style=\"padding-left: 1em; padding-right: 1em; text-align: center; vertical-align: top\">1</td>\n",
       "        <td style=\"padding-left: 1em; padding-right: 1em; text-align: center; vertical-align: top\">0</td>\n",
       "        <td style=\"padding-left: 1em; padding-right: 1em; text-align: center; vertical-align: top\">[1068229.0]</td>\n",
       "        <td style=\"padding-left: 1em; padding-right: 1em; text-align: center; vertical-align: top\">1</td>\n",
       "        <td style=\"padding-left: 1em; padding-right: 1em; text-align: center; vertical-align: top\">[]</td>\n",
       "        <td style=\"padding-left: 1em; padding-right: 1em; text-align: center; vertical-align: top\">0</td>\n",
       "    </tr>\n",
       "    <tr>\n",
       "        <td style=\"padding-left: 1em; padding-right: 1em; text-align: center; vertical-align: top\">47</td>\n",
       "        <td style=\"padding-left: 1em; padding-right: 1em; text-align: center; vertical-align: top\">[]</td>\n",
       "        <td style=\"padding-left: 1em; padding-right: 1em; text-align: center; vertical-align: top\">[5687616]</td>\n",
       "        <td style=\"padding-left: 1em; padding-right: 1em; text-align: center; vertical-align: top\">1</td>\n",
       "        <td style=\"padding-left: 1em; padding-right: 1em; text-align: center; vertical-align: top\">0</td>\n",
       "        <td style=\"padding-left: 1em; padding-right: 1em; text-align: center; vertical-align: top\">[5687616.0]</td>\n",
       "        <td style=\"padding-left: 1em; padding-right: 1em; text-align: center; vertical-align: top\">1</td>\n",
       "        <td style=\"padding-left: 1em; padding-right: 1em; text-align: center; vertical-align: top\">[]</td>\n",
       "        <td style=\"padding-left: 1em; padding-right: 1em; text-align: center; vertical-align: top\">0</td>\n",
       "    </tr>\n",
       "    <tr>\n",
       "        <td style=\"padding-left: 1em; padding-right: 1em; text-align: center; vertical-align: top\">52</td>\n",
       "        <td style=\"padding-left: 1em; padding-right: 1em; text-align: center; vertical-align: top\">[]</td>\n",
       "        <td style=\"padding-left: 1em; padding-right: 1em; text-align: center; vertical-align: top\">[468821]</td>\n",
       "        <td style=\"padding-left: 1em; padding-right: 1em; text-align: center; vertical-align: top\">1</td>\n",
       "        <td style=\"padding-left: 1em; padding-right: 1em; text-align: center; vertical-align: top\">0</td>\n",
       "        <td style=\"padding-left: 1em; padding-right: 1em; text-align: center; vertical-align: top\">[468821.0]</td>\n",
       "        <td style=\"padding-left: 1em; padding-right: 1em; text-align: center; vertical-align: top\">1</td>\n",
       "        <td style=\"padding-left: 1em; padding-right: 1em; text-align: center; vertical-align: top\">[]</td>\n",
       "        <td style=\"padding-left: 1em; padding-right: 1em; text-align: center; vertical-align: top\">0</td>\n",
       "    </tr>\n",
       "    <tr>\n",
       "        <td style=\"padding-left: 1em; padding-right: 1em; text-align: center; vertical-align: top\">73</td>\n",
       "        <td style=\"padding-left: 1em; padding-right: 1em; text-align: center; vertical-align: top\">[]</td>\n",
       "        <td style=\"padding-left: 1em; padding-right: 1em; text-align: center; vertical-align: top\">[7017144]</td>\n",
       "        <td style=\"padding-left: 1em; padding-right: 1em; text-align: center; vertical-align: top\">1</td>\n",
       "        <td style=\"padding-left: 1em; padding-right: 1em; text-align: center; vertical-align: top\">0</td>\n",
       "        <td style=\"padding-left: 1em; padding-right: 1em; text-align: center; vertical-align: top\">[7017144.0]</td>\n",
       "        <td style=\"padding-left: 1em; padding-right: 1em; text-align: center; vertical-align: top\">1</td>\n",
       "        <td style=\"padding-left: 1em; padding-right: 1em; text-align: center; vertical-align: top\">[]</td>\n",
       "        <td style=\"padding-left: 1em; padding-right: 1em; text-align: center; vertical-align: top\">0</td>\n",
       "    </tr>\n",
       "</table>\n",
       "[10 rows x 9 columns]<br/>\n",
       "</div>"
      ],
      "text/plain": [
       "Columns:\n",
       "\tid\tint\n",
       "\tin_friends2\tlist\n",
       "\tout_friends2\tlist\n",
       "\tout_degree2\tint\n",
       "\tin_degree2\tint\n",
       "\tall_friends2\tarray\n",
       "\tall_degree2\tint\n",
       "\tbi_friends2\tlist\n",
       "\tbi_degree2\tint\n",
       "\n",
       "Rows: 10\n",
       "\n",
       "Data:\n",
       "+----+-------------+--------------+-------------+------------+--------------+-------------+\n",
       "| id | in_friends2 | out_friends2 | out_degree2 | in_degree2 | all_friends2 | all_degree2 |\n",
       "+----+-------------+--------------+-------------+------------+--------------+-------------+\n",
       "| 5  |      []     |   [468821]   |      1      |     0      |  [468821.0]  |      1      |\n",
       "| 7  |      []     |  [7434393]   |      1      |     0      | [7434393.0]  |      1      |\n",
       "| 8  |      []     |   [109619]   |      1      |     0      |  [109619.0]  |      1      |\n",
       "| 10 |      []     |  [5496360]   |      1      |     0      | [5496360.0]  |      1      |\n",
       "| 27 |      []     |  [8276870]   |      1      |     0      | [8276870.0]  |      1      |\n",
       "| 29 |      []     |  [5222540]   |      1      |     0      | [5222540.0]  |      1      |\n",
       "| 33 |      []     |  [1068229]   |      1      |     0      | [1068229.0]  |      1      |\n",
       "| 47 |      []     |  [5687616]   |      1      |     0      | [5687616.0]  |      1      |\n",
       "| 52 |      []     |   [468821]   |      1      |     0      |  [468821.0]  |      1      |\n",
       "| 73 |      []     |  [7017144]   |      1      |     0      | [7017144.0]  |      1      |\n",
       "+----+-------------+--------------+-------------+------------+--------------+-------------+\n",
       "+-------------+------------+\n",
       "| bi_friends2 | bi_degree2 |\n",
       "+-------------+------------+\n",
       "|      []     |     0      |\n",
       "|      []     |     0      |\n",
       "|      []     |     0      |\n",
       "|      []     |     0      |\n",
       "|      []     |     0      |\n",
       "|      []     |     0      |\n",
       "|      []     |     0      |\n",
       "|      []     |     0      |\n",
       "|      []     |     0      |\n",
       "|      []     |     0      |\n",
       "+-------------+------------+\n",
       "[10 rows x 9 columns]"
      ]
     },
     "execution_count": 33,
     "metadata": {},
     "output_type": "execute_result"
    }
   ],
   "source": [
    "#out_degree - number of users each vertex is following\n",
    "users_G2['out_degree2'] = users_G2[\"out_friends2\"].apply(lambda l: len(l) )\n",
    "\n",
    "#in_degree - number of users following each vertex\n",
    "users_G2['in_degree2'] = users_G2[\"in_friends2\"].apply(lambda l: len(l) )\n",
    "\n",
    "#all_degree - number of uniuqe users that following or are followed by each user\n",
    "users_G2['all_friends2'] = users_G2[['in_friends2', 'out_friends2']].apply(lambda r: list(set(r['in_friends2']) | set(r['out_friends2'])))\n",
    "users_G2['all_degree2'] = users_G2[\"all_friends2\"].apply(lambda l: len(l) )\n",
    "\n",
    "#bi_degree - number of uniuqe users that are both following and followed by each user\n",
    "users_G2['bi_friends2'] = users_G2[['in_friends2', 'out_friends2']].apply(lambda r: list(set(r['in_friends2']) & set(r['out_friends2'])))\n",
    "users_G2['bi_degree2'] = users_G2[\"bi_friends2\"].apply(lambda l: len(l) )\n",
    "\n",
    "users_G2.head(10)"
   ]
  },
  {
   "cell_type": "code",
   "execution_count": 34,
   "metadata": {
    "collapsed": false
   },
   "outputs": [
    {
     "data": {
      "text/html": [
       "<div style=\"max-height:1000px;max-width:1500px;overflow:auto;\"><table frame=\"box\" rules=\"cols\">\n",
       "    <tr>\n",
       "        <th style=\"padding-left: 1em; padding-right: 1em; text-align: center\">id</th>\n",
       "        <th style=\"padding-left: 1em; padding-right: 1em; text-align: center\">out_degree2</th>\n",
       "        <th style=\"padding-left: 1em; padding-right: 1em; text-align: center\">in_degree2</th>\n",
       "        <th style=\"padding-left: 1em; padding-right: 1em; text-align: center\">all_degree2</th>\n",
       "        <th style=\"padding-left: 1em; padding-right: 1em; text-align: center\">bi_degree2</th>\n",
       "    </tr>\n",
       "    <tr>\n",
       "        <td style=\"padding-left: 1em; padding-right: 1em; text-align: center; vertical-align: top\">5</td>\n",
       "        <td style=\"padding-left: 1em; padding-right: 1em; text-align: center; vertical-align: top\">1</td>\n",
       "        <td style=\"padding-left: 1em; padding-right: 1em; text-align: center; vertical-align: top\">0</td>\n",
       "        <td style=\"padding-left: 1em; padding-right: 1em; text-align: center; vertical-align: top\">1</td>\n",
       "        <td style=\"padding-left: 1em; padding-right: 1em; text-align: center; vertical-align: top\">0</td>\n",
       "    </tr>\n",
       "    <tr>\n",
       "        <td style=\"padding-left: 1em; padding-right: 1em; text-align: center; vertical-align: top\">7</td>\n",
       "        <td style=\"padding-left: 1em; padding-right: 1em; text-align: center; vertical-align: top\">1</td>\n",
       "        <td style=\"padding-left: 1em; padding-right: 1em; text-align: center; vertical-align: top\">0</td>\n",
       "        <td style=\"padding-left: 1em; padding-right: 1em; text-align: center; vertical-align: top\">1</td>\n",
       "        <td style=\"padding-left: 1em; padding-right: 1em; text-align: center; vertical-align: top\">0</td>\n",
       "    </tr>\n",
       "    <tr>\n",
       "        <td style=\"padding-left: 1em; padding-right: 1em; text-align: center; vertical-align: top\">8</td>\n",
       "        <td style=\"padding-left: 1em; padding-right: 1em; text-align: center; vertical-align: top\">1</td>\n",
       "        <td style=\"padding-left: 1em; padding-right: 1em; text-align: center; vertical-align: top\">0</td>\n",
       "        <td style=\"padding-left: 1em; padding-right: 1em; text-align: center; vertical-align: top\">1</td>\n",
       "        <td style=\"padding-left: 1em; padding-right: 1em; text-align: center; vertical-align: top\">0</td>\n",
       "    </tr>\n",
       "    <tr>\n",
       "        <td style=\"padding-left: 1em; padding-right: 1em; text-align: center; vertical-align: top\">10</td>\n",
       "        <td style=\"padding-left: 1em; padding-right: 1em; text-align: center; vertical-align: top\">1</td>\n",
       "        <td style=\"padding-left: 1em; padding-right: 1em; text-align: center; vertical-align: top\">0</td>\n",
       "        <td style=\"padding-left: 1em; padding-right: 1em; text-align: center; vertical-align: top\">1</td>\n",
       "        <td style=\"padding-left: 1em; padding-right: 1em; text-align: center; vertical-align: top\">0</td>\n",
       "    </tr>\n",
       "    <tr>\n",
       "        <td style=\"padding-left: 1em; padding-right: 1em; text-align: center; vertical-align: top\">27</td>\n",
       "        <td style=\"padding-left: 1em; padding-right: 1em; text-align: center; vertical-align: top\">1</td>\n",
       "        <td style=\"padding-left: 1em; padding-right: 1em; text-align: center; vertical-align: top\">0</td>\n",
       "        <td style=\"padding-left: 1em; padding-right: 1em; text-align: center; vertical-align: top\">1</td>\n",
       "        <td style=\"padding-left: 1em; padding-right: 1em; text-align: center; vertical-align: top\">0</td>\n",
       "    </tr>\n",
       "    <tr>\n",
       "        <td style=\"padding-left: 1em; padding-right: 1em; text-align: center; vertical-align: top\">29</td>\n",
       "        <td style=\"padding-left: 1em; padding-right: 1em; text-align: center; vertical-align: top\">1</td>\n",
       "        <td style=\"padding-left: 1em; padding-right: 1em; text-align: center; vertical-align: top\">0</td>\n",
       "        <td style=\"padding-left: 1em; padding-right: 1em; text-align: center; vertical-align: top\">1</td>\n",
       "        <td style=\"padding-left: 1em; padding-right: 1em; text-align: center; vertical-align: top\">0</td>\n",
       "    </tr>\n",
       "    <tr>\n",
       "        <td style=\"padding-left: 1em; padding-right: 1em; text-align: center; vertical-align: top\">33</td>\n",
       "        <td style=\"padding-left: 1em; padding-right: 1em; text-align: center; vertical-align: top\">1</td>\n",
       "        <td style=\"padding-left: 1em; padding-right: 1em; text-align: center; vertical-align: top\">0</td>\n",
       "        <td style=\"padding-left: 1em; padding-right: 1em; text-align: center; vertical-align: top\">1</td>\n",
       "        <td style=\"padding-left: 1em; padding-right: 1em; text-align: center; vertical-align: top\">0</td>\n",
       "    </tr>\n",
       "    <tr>\n",
       "        <td style=\"padding-left: 1em; padding-right: 1em; text-align: center; vertical-align: top\">47</td>\n",
       "        <td style=\"padding-left: 1em; padding-right: 1em; text-align: center; vertical-align: top\">1</td>\n",
       "        <td style=\"padding-left: 1em; padding-right: 1em; text-align: center; vertical-align: top\">0</td>\n",
       "        <td style=\"padding-left: 1em; padding-right: 1em; text-align: center; vertical-align: top\">1</td>\n",
       "        <td style=\"padding-left: 1em; padding-right: 1em; text-align: center; vertical-align: top\">0</td>\n",
       "    </tr>\n",
       "    <tr>\n",
       "        <td style=\"padding-left: 1em; padding-right: 1em; text-align: center; vertical-align: top\">52</td>\n",
       "        <td style=\"padding-left: 1em; padding-right: 1em; text-align: center; vertical-align: top\">1</td>\n",
       "        <td style=\"padding-left: 1em; padding-right: 1em; text-align: center; vertical-align: top\">0</td>\n",
       "        <td style=\"padding-left: 1em; padding-right: 1em; text-align: center; vertical-align: top\">1</td>\n",
       "        <td style=\"padding-left: 1em; padding-right: 1em; text-align: center; vertical-align: top\">0</td>\n",
       "    </tr>\n",
       "    <tr>\n",
       "        <td style=\"padding-left: 1em; padding-right: 1em; text-align: center; vertical-align: top\">73</td>\n",
       "        <td style=\"padding-left: 1em; padding-right: 1em; text-align: center; vertical-align: top\">1</td>\n",
       "        <td style=\"padding-left: 1em; padding-right: 1em; text-align: center; vertical-align: top\">0</td>\n",
       "        <td style=\"padding-left: 1em; padding-right: 1em; text-align: center; vertical-align: top\">1</td>\n",
       "        <td style=\"padding-left: 1em; padding-right: 1em; text-align: center; vertical-align: top\">0</td>\n",
       "    </tr>\n",
       "</table>\n",
       "[10 rows x 5 columns]<br/>\n",
       "</div>"
      ],
      "text/plain": [
       "Columns:\n",
       "\tid\tint\n",
       "\tout_degree2\tint\n",
       "\tin_degree2\tint\n",
       "\tall_degree2\tint\n",
       "\tbi_degree2\tint\n",
       "\n",
       "Rows: 10\n",
       "\n",
       "Data:\n",
       "+----+-------------+------------+-------------+------------+\n",
       "| id | out_degree2 | in_degree2 | all_degree2 | bi_degree2 |\n",
       "+----+-------------+------------+-------------+------------+\n",
       "| 5  |      1      |     0      |      1      |     0      |\n",
       "| 7  |      1      |     0      |      1      |     0      |\n",
       "| 8  |      1      |     0      |      1      |     0      |\n",
       "| 10 |      1      |     0      |      1      |     0      |\n",
       "| 27 |      1      |     0      |      1      |     0      |\n",
       "| 29 |      1      |     0      |      1      |     0      |\n",
       "| 33 |      1      |     0      |      1      |     0      |\n",
       "| 47 |      1      |     0      |      1      |     0      |\n",
       "| 52 |      1      |     0      |      1      |     0      |\n",
       "| 73 |      1      |     0      |      1      |     0      |\n",
       "+----+-------------+------------+-------------+------------+\n",
       "[10 rows x 5 columns]"
      ]
     },
     "execution_count": 34,
     "metadata": {},
     "output_type": "execute_result"
    }
   ],
   "source": [
    "del users_G2['in_friends2']\n",
    "del users_G2['out_friends2']\n",
    "del users_G2['all_friends2']\n",
    "del users_G2['bi_friends2']\n",
    "users_G2.head(10)"
   ]
  },
  {
   "cell_type": "code",
   "execution_count": 61,
   "metadata": {
    "collapsed": false
   },
   "outputs": [
    {
     "data": {
      "image/png": "[encoded data removed]",
      "text/plain": [
       "<matplotlib.figure.Figure at 0x1142fb6d0>"
      ]
     },
     "metadata": {},
     "output_type": "display_data"
    }
   ],
   "source": [
    "fig = gcf() \n",
    "fig.set_size_inches(18, 12)\n",
    "\n",
    "subplot(2,2,1)\n",
    "out_degree=users_G2['out_degree2']\n",
    "hist(out_degree,range(1,10))\n",
    "xlabel('out_degree')\n",
    "\n",
    "subplot(2,2,2)\n",
    "in_degree=users_G2['in_degree2']\n",
    "hist(in_degree,range(1,10))\n",
    "xlabel('in_degree')\n",
    "\n",
    "subplot(2,2,3)\n",
    "all_degree=users_G2['all_degree2']\n",
    "hist(all_degree,range(1,10))\n",
    "xlabel('all_degree')\n",
    "\n",
    "subplot(2,2,4)\n",
    "bi_degree=users_G2['bi_degree2']\n",
    "hist(bi_degree,range(1,10))\n",
    "xlabel('bi_degree')\n",
    "\n",
    "savefig(\"network2_degree.pdf\")"
   ]
  },
  {
   "cell_type": "code",
   "execution_count": 35,
   "metadata": {
    "collapsed": false
   },
   "outputs": [
    {
     "data": {
      "text/html": [
       "<pre>Counting out degree</pre>"
      ],
      "text/plain": [
       "Counting out degree"
      ]
     },
     "metadata": {},
     "output_type": "display_data"
    },
    {
     "data": {
      "text/html": [
       "<pre>Done counting out degree</pre>"
      ],
      "text/plain": [
       "Done counting out degree"
      ]
     },
     "metadata": {},
     "output_type": "display_data"
    },
    {
     "data": {
      "text/html": [
       "<pre>+-----------+-----------------------+</pre>"
      ],
      "text/plain": [
       "+-----------+-----------------------+"
      ]
     },
     "metadata": {},
     "output_type": "display_data"
    },
    {
     "data": {
      "text/html": [
       "<pre>| Iteration | L1 change in pagerank |</pre>"
      ],
      "text/plain": [
       "| Iteration | L1 change in pagerank |"
      ]
     },
     "metadata": {},
     "output_type": "display_data"
    },
    {
     "data": {
      "text/html": [
       "<pre>+-----------+-----------------------+</pre>"
      ],
      "text/plain": [
       "+-----------+-----------------------+"
      ]
     },
     "metadata": {},
     "output_type": "display_data"
    },
    {
     "data": {
      "text/html": [
       "<pre>| 1         | 1.21098e+07           |</pre>"
      ],
      "text/plain": [
       "| 1         | 1.21098e+07           |"
      ]
     },
     "metadata": {},
     "output_type": "display_data"
    },
    {
     "data": {
      "text/html": [
       "<pre>| 2         | 4.82269e+06           |</pre>"
      ],
      "text/plain": [
       "| 2         | 4.82269e+06           |"
      ]
     },
     "metadata": {},
     "output_type": "display_data"
    },
    {
     "data": {
      "text/html": [
       "<pre>| 3         | 1.80322e+06           |</pre>"
      ],
      "text/plain": [
       "| 3         | 1.80322e+06           |"
      ]
     },
     "metadata": {},
     "output_type": "display_data"
    },
    {
     "data": {
      "text/html": [
       "<pre>| 4         | 801615                |</pre>"
      ],
      "text/plain": [
       "| 4         | 801615                |"
      ]
     },
     "metadata": {},
     "output_type": "display_data"
    },
    {
     "data": {
      "text/html": [
       "<pre>| 5         | 402386                |</pre>"
      ],
      "text/plain": [
       "| 5         | 402386                |"
      ]
     },
     "metadata": {},
     "output_type": "display_data"
    },
    {
     "data": {
      "text/html": [
       "<pre>| 6         | 233994                |</pre>"
      ],
      "text/plain": [
       "| 6         | 233994                |"
      ]
     },
     "metadata": {},
     "output_type": "display_data"
    },
    {
     "data": {
      "text/html": [
       "<pre>| 7         | 149408                |</pre>"
      ],
      "text/plain": [
       "| 7         | 149408                |"
      ]
     },
     "metadata": {},
     "output_type": "display_data"
    },
    {
     "data": {
      "text/html": [
       "<pre>| 8         | 101659                |</pre>"
      ],
      "text/plain": [
       "| 8         | 101659                |"
      ]
     },
     "metadata": {},
     "output_type": "display_data"
    },
    {
     "data": {
      "text/html": [
       "<pre>| 9         | 72190.5               |</pre>"
      ],
      "text/plain": [
       "| 9         | 72190.5               |"
      ]
     },
     "metadata": {},
     "output_type": "display_data"
    },
    {
     "data": {
      "text/html": [
       "<pre>| 10        | 52508.1               |</pre>"
      ],
      "text/plain": [
       "| 10        | 52508.1               |"
      ]
     },
     "metadata": {},
     "output_type": "display_data"
    },
    {
     "data": {
      "text/html": [
       "<pre>| 11        | 38967.6               |</pre>"
      ],
      "text/plain": [
       "| 11        | 38967.6               |"
      ]
     },
     "metadata": {},
     "output_type": "display_data"
    },
    {
     "data": {
      "text/html": [
       "<pre>| 12        | 29449.8               |</pre>"
      ],
      "text/plain": [
       "| 12        | 29449.8               |"
      ]
     },
     "metadata": {},
     "output_type": "display_data"
    },
    {
     "data": {
      "text/html": [
       "<pre>| 13        | 22513.8               |</pre>"
      ],
      "text/plain": [
       "| 13        | 22513.8               |"
      ]
     },
     "metadata": {},
     "output_type": "display_data"
    },
    {
     "data": {
      "text/html": [
       "<pre>| 14        | 17451.7               |</pre>"
      ],
      "text/plain": [
       "| 14        | 17451.7               |"
      ]
     },
     "metadata": {},
     "output_type": "display_data"
    },
    {
     "data": {
      "text/html": [
       "<pre>| 15        | 13621.7               |</pre>"
      ],
      "text/plain": [
       "| 15        | 13621.7               |"
      ]
     },
     "metadata": {},
     "output_type": "display_data"
    },
    {
     "data": {
      "text/html": [
       "<pre>| 16        | 10758.7               |</pre>"
      ],
      "text/plain": [
       "| 16        | 10758.7               |"
      ]
     },
     "metadata": {},
     "output_type": "display_data"
    },
    {
     "data": {
      "text/html": [
       "<pre>| 17        | 8533.38               |</pre>"
      ],
      "text/plain": [
       "| 17        | 8533.38               |"
      ]
     },
     "metadata": {},
     "output_type": "display_data"
    },
    {
     "data": {
      "text/html": [
       "<pre>| 18        | 6837.72               |</pre>"
      ],
      "text/plain": [
       "| 18        | 6837.72               |"
      ]
     },
     "metadata": {},
     "output_type": "display_data"
    },
    {
     "data": {
      "text/html": [
       "<pre>| 19        | 5502.01               |</pre>"
      ],
      "text/plain": [
       "| 19        | 5502.01               |"
      ]
     },
     "metadata": {},
     "output_type": "display_data"
    },
    {
     "data": {
      "text/html": [
       "<pre>| 20        | 4465.61               |</pre>"
      ],
      "text/plain": [
       "| 20        | 4465.61               |"
      ]
     },
     "metadata": {},
     "output_type": "display_data"
    },
    {
     "data": {
      "text/html": [
       "<pre>+-----------+-----------------------+</pre>"
      ],
      "text/plain": [
       "+-----------+-----------------------+"
      ]
     },
     "metadata": {},
     "output_type": "display_data"
    },
    {
     "data": {
      "text/html": [
       "<div style=\"max-height:1000px;max-width:1500px;overflow:auto;\"><table frame=\"box\" rules=\"cols\">\n",
       "    <tr>\n",
       "        <th style=\"padding-left: 1em; padding-right: 1em; text-align: center\">id</th>\n",
       "        <th style=\"padding-left: 1em; padding-right: 1em; text-align: center\">out_degree2</th>\n",
       "        <th style=\"padding-left: 1em; padding-right: 1em; text-align: center\">in_degree2</th>\n",
       "        <th style=\"padding-left: 1em; padding-right: 1em; text-align: center\">all_degree2</th>\n",
       "        <th style=\"padding-left: 1em; padding-right: 1em; text-align: center\">bi_degree2</th>\n",
       "        <th style=\"padding-left: 1em; padding-right: 1em; text-align: center\">pagerank2</th>\n",
       "    </tr>\n",
       "    <tr>\n",
       "        <td style=\"padding-left: 1em; padding-right: 1em; text-align: center; vertical-align: top\">5</td>\n",
       "        <td style=\"padding-left: 1em; padding-right: 1em; text-align: center; vertical-align: top\">1</td>\n",
       "        <td style=\"padding-left: 1em; padding-right: 1em; text-align: center; vertical-align: top\">0</td>\n",
       "        <td style=\"padding-left: 1em; padding-right: 1em; text-align: center; vertical-align: top\">1</td>\n",
       "        <td style=\"padding-left: 1em; padding-right: 1em; text-align: center; vertical-align: top\">0</td>\n",
       "        <td style=\"padding-left: 1em; padding-right: 1em; text-align: center; vertical-align: top\">0.15</td>\n",
       "    </tr>\n",
       "    <tr>\n",
       "        <td style=\"padding-left: 1em; padding-right: 1em; text-align: center; vertical-align: top\">7</td>\n",
       "        <td style=\"padding-left: 1em; padding-right: 1em; text-align: center; vertical-align: top\">1</td>\n",
       "        <td style=\"padding-left: 1em; padding-right: 1em; text-align: center; vertical-align: top\">0</td>\n",
       "        <td style=\"padding-left: 1em; padding-right: 1em; text-align: center; vertical-align: top\">1</td>\n",
       "        <td style=\"padding-left: 1em; padding-right: 1em; text-align: center; vertical-align: top\">0</td>\n",
       "        <td style=\"padding-left: 1em; padding-right: 1em; text-align: center; vertical-align: top\">0.15</td>\n",
       "    </tr>\n",
       "    <tr>\n",
       "        <td style=\"padding-left: 1em; padding-right: 1em; text-align: center; vertical-align: top\">8</td>\n",
       "        <td style=\"padding-left: 1em; padding-right: 1em; text-align: center; vertical-align: top\">1</td>\n",
       "        <td style=\"padding-left: 1em; padding-right: 1em; text-align: center; vertical-align: top\">0</td>\n",
       "        <td style=\"padding-left: 1em; padding-right: 1em; text-align: center; vertical-align: top\">1</td>\n",
       "        <td style=\"padding-left: 1em; padding-right: 1em; text-align: center; vertical-align: top\">0</td>\n",
       "        <td style=\"padding-left: 1em; padding-right: 1em; text-align: center; vertical-align: top\">0.15</td>\n",
       "    </tr>\n",
       "    <tr>\n",
       "        <td style=\"padding-left: 1em; padding-right: 1em; text-align: center; vertical-align: top\">10</td>\n",
       "        <td style=\"padding-left: 1em; padding-right: 1em; text-align: center; vertical-align: top\">1</td>\n",
       "        <td style=\"padding-left: 1em; padding-right: 1em; text-align: center; vertical-align: top\">0</td>\n",
       "        <td style=\"padding-left: 1em; padding-right: 1em; text-align: center; vertical-align: top\">1</td>\n",
       "        <td style=\"padding-left: 1em; padding-right: 1em; text-align: center; vertical-align: top\">0</td>\n",
       "        <td style=\"padding-left: 1em; padding-right: 1em; text-align: center; vertical-align: top\">0.15</td>\n",
       "    </tr>\n",
       "    <tr>\n",
       "        <td style=\"padding-left: 1em; padding-right: 1em; text-align: center; vertical-align: top\">27</td>\n",
       "        <td style=\"padding-left: 1em; padding-right: 1em; text-align: center; vertical-align: top\">1</td>\n",
       "        <td style=\"padding-left: 1em; padding-right: 1em; text-align: center; vertical-align: top\">0</td>\n",
       "        <td style=\"padding-left: 1em; padding-right: 1em; text-align: center; vertical-align: top\">1</td>\n",
       "        <td style=\"padding-left: 1em; padding-right: 1em; text-align: center; vertical-align: top\">0</td>\n",
       "        <td style=\"padding-left: 1em; padding-right: 1em; text-align: center; vertical-align: top\">0.15</td>\n",
       "    </tr>\n",
       "    <tr>\n",
       "        <td style=\"padding-left: 1em; padding-right: 1em; text-align: center; vertical-align: top\">29</td>\n",
       "        <td style=\"padding-left: 1em; padding-right: 1em; text-align: center; vertical-align: top\">1</td>\n",
       "        <td style=\"padding-left: 1em; padding-right: 1em; text-align: center; vertical-align: top\">0</td>\n",
       "        <td style=\"padding-left: 1em; padding-right: 1em; text-align: center; vertical-align: top\">1</td>\n",
       "        <td style=\"padding-left: 1em; padding-right: 1em; text-align: center; vertical-align: top\">0</td>\n",
       "        <td style=\"padding-left: 1em; padding-right: 1em; text-align: center; vertical-align: top\">0.15</td>\n",
       "    </tr>\n",
       "    <tr>\n",
       "        <td style=\"padding-left: 1em; padding-right: 1em; text-align: center; vertical-align: top\">33</td>\n",
       "        <td style=\"padding-left: 1em; padding-right: 1em; text-align: center; vertical-align: top\">1</td>\n",
       "        <td style=\"padding-left: 1em; padding-right: 1em; text-align: center; vertical-align: top\">0</td>\n",
       "        <td style=\"padding-left: 1em; padding-right: 1em; text-align: center; vertical-align: top\">1</td>\n",
       "        <td style=\"padding-left: 1em; padding-right: 1em; text-align: center; vertical-align: top\">0</td>\n",
       "        <td style=\"padding-left: 1em; padding-right: 1em; text-align: center; vertical-align: top\">0.15</td>\n",
       "    </tr>\n",
       "    <tr>\n",
       "        <td style=\"padding-left: 1em; padding-right: 1em; text-align: center; vertical-align: top\">47</td>\n",
       "        <td style=\"padding-left: 1em; padding-right: 1em; text-align: center; vertical-align: top\">1</td>\n",
       "        <td style=\"padding-left: 1em; padding-right: 1em; text-align: center; vertical-align: top\">0</td>\n",
       "        <td style=\"padding-left: 1em; padding-right: 1em; text-align: center; vertical-align: top\">1</td>\n",
       "        <td style=\"padding-left: 1em; padding-right: 1em; text-align: center; vertical-align: top\">0</td>\n",
       "        <td style=\"padding-left: 1em; padding-right: 1em; text-align: center; vertical-align: top\">0.15</td>\n",
       "    </tr>\n",
       "    <tr>\n",
       "        <td style=\"padding-left: 1em; padding-right: 1em; text-align: center; vertical-align: top\">52</td>\n",
       "        <td style=\"padding-left: 1em; padding-right: 1em; text-align: center; vertical-align: top\">1</td>\n",
       "        <td style=\"padding-left: 1em; padding-right: 1em; text-align: center; vertical-align: top\">0</td>\n",
       "        <td style=\"padding-left: 1em; padding-right: 1em; text-align: center; vertical-align: top\">1</td>\n",
       "        <td style=\"padding-left: 1em; padding-right: 1em; text-align: center; vertical-align: top\">0</td>\n",
       "        <td style=\"padding-left: 1em; padding-right: 1em; text-align: center; vertical-align: top\">0.15</td>\n",
       "    </tr>\n",
       "    <tr>\n",
       "        <td style=\"padding-left: 1em; padding-right: 1em; text-align: center; vertical-align: top\">73</td>\n",
       "        <td style=\"padding-left: 1em; padding-right: 1em; text-align: center; vertical-align: top\">1</td>\n",
       "        <td style=\"padding-left: 1em; padding-right: 1em; text-align: center; vertical-align: top\">0</td>\n",
       "        <td style=\"padding-left: 1em; padding-right: 1em; text-align: center; vertical-align: top\">1</td>\n",
       "        <td style=\"padding-left: 1em; padding-right: 1em; text-align: center; vertical-align: top\">0</td>\n",
       "        <td style=\"padding-left: 1em; padding-right: 1em; text-align: center; vertical-align: top\">0.15</td>\n",
       "    </tr>\n",
       "</table>\n",
       "[10 rows x 6 columns]<br/>\n",
       "</div>"
      ],
      "text/plain": [
       "Columns:\n",
       "\tid\tint\n",
       "\tout_degree2\tint\n",
       "\tin_degree2\tint\n",
       "\tall_degree2\tint\n",
       "\tbi_degree2\tint\n",
       "\tpagerank2\tfloat\n",
       "\n",
       "Rows: 10\n",
       "\n",
       "Data:\n",
       "+----+-------------+------------+-------------+------------+-----------+\n",
       "| id | out_degree2 | in_degree2 | all_degree2 | bi_degree2 | pagerank2 |\n",
       "+----+-------------+------------+-------------+------------+-----------+\n",
       "| 5  |      1      |     0      |      1      |     0      |    0.15   |\n",
       "| 7  |      1      |     0      |      1      |     0      |    0.15   |\n",
       "| 8  |      1      |     0      |      1      |     0      |    0.15   |\n",
       "| 10 |      1      |     0      |      1      |     0      |    0.15   |\n",
       "| 27 |      1      |     0      |      1      |     0      |    0.15   |\n",
       "| 29 |      1      |     0      |      1      |     0      |    0.15   |\n",
       "| 33 |      1      |     0      |      1      |     0      |    0.15   |\n",
       "| 47 |      1      |     0      |      1      |     0      |    0.15   |\n",
       "| 52 |      1      |     0      |      1      |     0      |    0.15   |\n",
       "| 73 |      1      |     0      |      1      |     0      |    0.15   |\n",
       "+----+-------------+------------+-------------+------------+-----------+\n",
       "[10 rows x 6 columns]"
      ]
     },
     "execution_count": 35,
     "metadata": {},
     "output_type": "execute_result"
    }
   ],
   "source": [
    "## 计算出每一个节点的pagerank值\n",
    "pr2 = gl.pagerank.create(G2)\n",
    "users_G2['pagerank2'] = pr2['graph'].vertices['pagerank'] #add the new pagerank field to the original graph g2\n",
    "users_G2.head(10)"
   ]
  },
  {
   "cell_type": "code",
   "execution_count": 60,
   "metadata": {
    "collapsed": false
   },
   "outputs": [
    {
     "data": {
      "text/html": [
       "<pre>Finished parsing file /Users/xiaokeeie/all_datasets/weibojingsai/users_G2.csv</pre>"
      ],
      "text/plain": [
       "Finished parsing file /Users/xiaokeeie/all_datasets/weibojingsai/users_G2.csv"
      ]
     },
     "metadata": {},
     "output_type": "display_data"
    },
    {
     "data": {
      "text/html": [
       "<pre>Parsing completed. Parsed 100 lines in 1.1541 secs.</pre>"
      ],
      "text/plain": [
       "Parsing completed. Parsed 100 lines in 1.1541 secs."
      ]
     },
     "metadata": {},
     "output_type": "display_data"
    },
    {
     "data": {
      "text/html": [
       "<pre>Read 2485124 lines. Lines per second: 1.15835e+06</pre>"
      ],
      "text/plain": [
       "Read 2485124 lines. Lines per second: 1.15835e+06"
      ]
     },
     "metadata": {},
     "output_type": "display_data"
    },
    {
     "data": {
      "text/html": [
       "<pre>Finished parsing file /Users/xiaokeeie/all_datasets/weibojingsai/users_G2.csv</pre>"
      ],
      "text/plain": [
       "Finished parsing file /Users/xiaokeeie/all_datasets/weibojingsai/users_G2.csv"
      ]
     },
     "metadata": {},
     "output_type": "display_data"
    },
    {
     "data": {
      "text/html": [
       "<pre>Parsing completed. Parsed 7445377 lines in 3.47072 secs.</pre>"
      ],
      "text/plain": [
       "Parsing completed. Parsed 7445377 lines in 3.47072 secs."
      ]
     },
     "metadata": {},
     "output_type": "display_data"
    },
    {
     "name": "stdout",
     "output_type": "stream",
     "text": [
      "------------------------------------------------------\n",
      "Inferred types from first 100 line(s) of file as \n",
      "column_type_hints=[int,int,int,int,int,float]\n",
      "If parsing fails due to incorrect types, you can correct\n",
      "the inferred type list above and pass it to read_csv in\n",
      "the column_type_hints argument\n",
      "------------------------------------------------------\n"
     ]
    },
    {
     "data": {
      "text/html": [
       "<div style=\"max-height:1000px;max-width:1500px;overflow:auto;\"><table frame=\"box\" rules=\"cols\">\n",
       "    <tr>\n",
       "        <th style=\"padding-left: 1em; padding-right: 1em; text-align: center\">tweet_user</th>\n",
       "        <th style=\"padding-left: 1em; padding-right: 1em; text-align: center\">out_degree2</th>\n",
       "        <th style=\"padding-left: 1em; padding-right: 1em; text-align: center\">in_degree2</th>\n",
       "        <th style=\"padding-left: 1em; padding-right: 1em; text-align: center\">all_degree2</th>\n",
       "        <th style=\"padding-left: 1em; padding-right: 1em; text-align: center\">bi_degree2</th>\n",
       "        <th style=\"padding-left: 1em; padding-right: 1em; text-align: center\">pagerank2</th>\n",
       "    </tr>\n",
       "    <tr>\n",
       "        <td style=\"padding-left: 1em; padding-right: 1em; text-align: center; vertical-align: top\">5</td>\n",
       "        <td style=\"padding-left: 1em; padding-right: 1em; text-align: center; vertical-align: top\">1</td>\n",
       "        <td style=\"padding-left: 1em; padding-right: 1em; text-align: center; vertical-align: top\">0</td>\n",
       "        <td style=\"padding-left: 1em; padding-right: 1em; text-align: center; vertical-align: top\">1</td>\n",
       "        <td style=\"padding-left: 1em; padding-right: 1em; text-align: center; vertical-align: top\">0</td>\n",
       "        <td style=\"padding-left: 1em; padding-right: 1em; text-align: center; vertical-align: top\">0.15</td>\n",
       "    </tr>\n",
       "    <tr>\n",
       "        <td style=\"padding-left: 1em; padding-right: 1em; text-align: center; vertical-align: top\">7</td>\n",
       "        <td style=\"padding-left: 1em; padding-right: 1em; text-align: center; vertical-align: top\">1</td>\n",
       "        <td style=\"padding-left: 1em; padding-right: 1em; text-align: center; vertical-align: top\">0</td>\n",
       "        <td style=\"padding-left: 1em; padding-right: 1em; text-align: center; vertical-align: top\">1</td>\n",
       "        <td style=\"padding-left: 1em; padding-right: 1em; text-align: center; vertical-align: top\">0</td>\n",
       "        <td style=\"padding-left: 1em; padding-right: 1em; text-align: center; vertical-align: top\">0.15</td>\n",
       "    </tr>\n",
       "    <tr>\n",
       "        <td style=\"padding-left: 1em; padding-right: 1em; text-align: center; vertical-align: top\">8</td>\n",
       "        <td style=\"padding-left: 1em; padding-right: 1em; text-align: center; vertical-align: top\">1</td>\n",
       "        <td style=\"padding-left: 1em; padding-right: 1em; text-align: center; vertical-align: top\">0</td>\n",
       "        <td style=\"padding-left: 1em; padding-right: 1em; text-align: center; vertical-align: top\">1</td>\n",
       "        <td style=\"padding-left: 1em; padding-right: 1em; text-align: center; vertical-align: top\">0</td>\n",
       "        <td style=\"padding-left: 1em; padding-right: 1em; text-align: center; vertical-align: top\">0.15</td>\n",
       "    </tr>\n",
       "    <tr>\n",
       "        <td style=\"padding-left: 1em; padding-right: 1em; text-align: center; vertical-align: top\">10</td>\n",
       "        <td style=\"padding-left: 1em; padding-right: 1em; text-align: center; vertical-align: top\">1</td>\n",
       "        <td style=\"padding-left: 1em; padding-right: 1em; text-align: center; vertical-align: top\">0</td>\n",
       "        <td style=\"padding-left: 1em; padding-right: 1em; text-align: center; vertical-align: top\">1</td>\n",
       "        <td style=\"padding-left: 1em; padding-right: 1em; text-align: center; vertical-align: top\">0</td>\n",
       "        <td style=\"padding-left: 1em; padding-right: 1em; text-align: center; vertical-align: top\">0.15</td>\n",
       "    </tr>\n",
       "    <tr>\n",
       "        <td style=\"padding-left: 1em; padding-right: 1em; text-align: center; vertical-align: top\">27</td>\n",
       "        <td style=\"padding-left: 1em; padding-right: 1em; text-align: center; vertical-align: top\">1</td>\n",
       "        <td style=\"padding-left: 1em; padding-right: 1em; text-align: center; vertical-align: top\">0</td>\n",
       "        <td style=\"padding-left: 1em; padding-right: 1em; text-align: center; vertical-align: top\">1</td>\n",
       "        <td style=\"padding-left: 1em; padding-right: 1em; text-align: center; vertical-align: top\">0</td>\n",
       "        <td style=\"padding-left: 1em; padding-right: 1em; text-align: center; vertical-align: top\">0.15</td>\n",
       "    </tr>\n",
       "    <tr>\n",
       "        <td style=\"padding-left: 1em; padding-right: 1em; text-align: center; vertical-align: top\">29</td>\n",
       "        <td style=\"padding-left: 1em; padding-right: 1em; text-align: center; vertical-align: top\">1</td>\n",
       "        <td style=\"padding-left: 1em; padding-right: 1em; text-align: center; vertical-align: top\">0</td>\n",
       "        <td style=\"padding-left: 1em; padding-right: 1em; text-align: center; vertical-align: top\">1</td>\n",
       "        <td style=\"padding-left: 1em; padding-right: 1em; text-align: center; vertical-align: top\">0</td>\n",
       "        <td style=\"padding-left: 1em; padding-right: 1em; text-align: center; vertical-align: top\">0.15</td>\n",
       "    </tr>\n",
       "    <tr>\n",
       "        <td style=\"padding-left: 1em; padding-right: 1em; text-align: center; vertical-align: top\">33</td>\n",
       "        <td style=\"padding-left: 1em; padding-right: 1em; text-align: center; vertical-align: top\">1</td>\n",
       "        <td style=\"padding-left: 1em; padding-right: 1em; text-align: center; vertical-align: top\">0</td>\n",
       "        <td style=\"padding-left: 1em; padding-right: 1em; text-align: center; vertical-align: top\">1</td>\n",
       "        <td style=\"padding-left: 1em; padding-right: 1em; text-align: center; vertical-align: top\">0</td>\n",
       "        <td style=\"padding-left: 1em; padding-right: 1em; text-align: center; vertical-align: top\">0.15</td>\n",
       "    </tr>\n",
       "    <tr>\n",
       "        <td style=\"padding-left: 1em; padding-right: 1em; text-align: center; vertical-align: top\">47</td>\n",
       "        <td style=\"padding-left: 1em; padding-right: 1em; text-align: center; vertical-align: top\">1</td>\n",
       "        <td style=\"padding-left: 1em; padding-right: 1em; text-align: center; vertical-align: top\">0</td>\n",
       "        <td style=\"padding-left: 1em; padding-right: 1em; text-align: center; vertical-align: top\">1</td>\n",
       "        <td style=\"padding-left: 1em; padding-right: 1em; text-align: center; vertical-align: top\">0</td>\n",
       "        <td style=\"padding-left: 1em; padding-right: 1em; text-align: center; vertical-align: top\">0.15</td>\n",
       "    </tr>\n",
       "    <tr>\n",
       "        <td style=\"padding-left: 1em; padding-right: 1em; text-align: center; vertical-align: top\">52</td>\n",
       "        <td style=\"padding-left: 1em; padding-right: 1em; text-align: center; vertical-align: top\">1</td>\n",
       "        <td style=\"padding-left: 1em; padding-right: 1em; text-align: center; vertical-align: top\">0</td>\n",
       "        <td style=\"padding-left: 1em; padding-right: 1em; text-align: center; vertical-align: top\">1</td>\n",
       "        <td style=\"padding-left: 1em; padding-right: 1em; text-align: center; vertical-align: top\">0</td>\n",
       "        <td style=\"padding-left: 1em; padding-right: 1em; text-align: center; vertical-align: top\">0.15</td>\n",
       "    </tr>\n",
       "    <tr>\n",
       "        <td style=\"padding-left: 1em; padding-right: 1em; text-align: center; vertical-align: top\">73</td>\n",
       "        <td style=\"padding-left: 1em; padding-right: 1em; text-align: center; vertical-align: top\">1</td>\n",
       "        <td style=\"padding-left: 1em; padding-right: 1em; text-align: center; vertical-align: top\">0</td>\n",
       "        <td style=\"padding-left: 1em; padding-right: 1em; text-align: center; vertical-align: top\">1</td>\n",
       "        <td style=\"padding-left: 1em; padding-right: 1em; text-align: center; vertical-align: top\">0</td>\n",
       "        <td style=\"padding-left: 1em; padding-right: 1em; text-align: center; vertical-align: top\">0.15</td>\n",
       "    </tr>\n",
       "</table>\n",
       "[10 rows x 6 columns]<br/>\n",
       "</div>"
      ],
      "text/plain": [
       "Columns:\n",
       "\ttweet_user\tint\n",
       "\tout_degree2\tint\n",
       "\tin_degree2\tint\n",
       "\tall_degree2\tint\n",
       "\tbi_degree2\tint\n",
       "\tpagerank2\tfloat\n",
       "\n",
       "Rows: 10\n",
       "\n",
       "Data:\n",
       "+------------+-------------+------------+-------------+------------+-----------+\n",
       "| tweet_user | out_degree2 | in_degree2 | all_degree2 | bi_degree2 | pagerank2 |\n",
       "+------------+-------------+------------+-------------+------------+-----------+\n",
       "|     5      |      1      |     0      |      1      |     0      |    0.15   |\n",
       "|     7      |      1      |     0      |      1      |     0      |    0.15   |\n",
       "|     8      |      1      |     0      |      1      |     0      |    0.15   |\n",
       "|     10     |      1      |     0      |      1      |     0      |    0.15   |\n",
       "|     27     |      1      |     0      |      1      |     0      |    0.15   |\n",
       "|     29     |      1      |     0      |      1      |     0      |    0.15   |\n",
       "|     33     |      1      |     0      |      1      |     0      |    0.15   |\n",
       "|     47     |      1      |     0      |      1      |     0      |    0.15   |\n",
       "|     52     |      1      |     0      |      1      |     0      |    0.15   |\n",
       "|     73     |      1      |     0      |      1      |     0      |    0.15   |\n",
       "+------------+-------------+------------+-------------+------------+-----------+\n",
       "[10 rows x 6 columns]"
      ]
     },
     "execution_count": 60,
     "metadata": {},
     "output_type": "execute_result"
    }
   ],
   "source": [
    "#将其保存为csv文件以便今后使用\n",
    "#users_G2.rename({'id': 'tweet_user'})                              #更改为tweet_user以便进行数据连接\n",
    "#users_G2.save('users_G2.csv', format='csv')                        #可提供该数据users_G2\n",
    "\n",
    "#使用graphlab重新将数据载入到内存空间中 \n",
    "users_G2=gl.SFrame.read_csv('users_G2.csv')\n",
    "users_G2.head(10)"
   ]
  },
  {
   "cell_type": "markdown",
   "metadata": {},
   "source": [
    "## 4.5 构建每一条微博传播的级联树结构"
   ]
  },
  {
   "cell_type": "markdown",
   "metadata": {},
   "source": [
    "### 4.5.1 为构建级联传播树进行数据预处理"
   ]
  },
  {
   "cell_type": "code",
   "execution_count": 161,
   "metadata": {
    "collapsed": false
   },
   "outputs": [
    {
     "data": {
      "text/plain": [
       "26992"
      ]
     },
     "execution_count": 161,
     "metadata": {},
     "output_type": "execute_result"
    }
   ],
   "source": [
    "#采用pandas框架读入数据\n",
    "trainRepost=pd.read_csv('trainRepost_sort.csv')\n",
    "\n",
    "#生成一个所有微博编号的列表\n",
    "weibo_id_list=trainRepost.weibo_id\n",
    "\n",
    "#提取列表中有效元素（重复部分数据只取一个），防止创建树时重复创建节点\n",
    "weibo_id_list=list(np.unique(weibo_id_list))\n",
    "\n",
    "#去除个别格式有问题的微博数据\n",
    "weibo_id_list.remove(3793991852126437)\n",
    "weibo_id_list.remove(3793992178990261)\n",
    "\n",
    "#这个列表的长度就是有转发级联树微博的数量\n",
    "len(weibo_id_list)"
   ]
  },
  {
   "cell_type": "code",
   "execution_count": 206,
   "metadata": {
    "collapsed": true
   },
   "outputs": [],
   "source": [
    "##将其保存为pkl文件以便今后使用\n",
    "#pickle_file=open('weibo_id_list.pkl','w')\n",
    "#pickle.dump(weibo_id_list,pickle_file)                         #可提供该数据weibo_id_list           \n",
    "#pickle_file.close() \n",
    "\n",
    "#采cpickle函数重新读入weibo_id_list数据\n",
    "pickle_file=open('weibo_id_list.pkl','r')\n",
    "weibo_id_list=pickle.load(pickle_file)\n",
    "pickle_file.close()"
   ]
  },
  {
   "cell_type": "markdown",
   "metadata": {},
   "source": [
    "## 传播树的例子\n",
    "![alt text](spreading_tree.png)"
   ]
  },
  {
   "cell_type": "markdown",
   "metadata": {},
   "source": [
    "### 4.5.2 微博传播深度计算的具体说明\n",
    "\n",
    "以源微博的用户为起点，计算转发链上其他节点到源节点的距离，最长距离就是此微博的传播深度。\n",
    "\n",
    "举个例子，假如源微博用户是a，用户b从a处转发了微博，用户c从b处转发了微博，用户d又从c处转发了微博，那么微博传播就是a->b->c->d，深度就为3。\n",
    "\n",
    "但是需要注意三点。\n",
    "\n",
    "- 第一点：一个用户可能从多个源都做转发，比如在之后的时间里，c从d处进行了转发，或者a又从c处做了转发，在这种情况下，深度并不增加；同样的，若源微博用户a再次转发了自己的微博，深度也不增加。 \n",
    "\n",
    "- 第二点：若在转发链为a->b->c->d中，出现了新的用户e，从a转发了微博，然后又从d处转发了一次：对于这种情况，我们认为转发链的深度并没有增加，因为e已经被认定为距离a只有1步，此时再从d处转发，并没有实际深度的增加。但需注意，若e先从d处转发，此时传播深度便需要加1，之后e再从a处转发，深度不会降低。 \n",
    "\n",
    "- 第三点：在数据采集过程中，由于各种原因（比如新浪自动截断、用户手动删除、采集遗漏等），转发链可能出现中断，继续采用上面的例子，假如用户e可能从a、b、c或d中做了转发，但是训练集中没有这一纪录，反倒是有用户f从e处转发了此微博，也就是说无法得知用户e的父亲节点，导致深度计算出现问题。为解决这一问题，我们在计算深度的时候，默认添加从a到e的转发关系，于是从a到e的距离就为1，到f的距离为2。\n",
    "\n",
    "需要指出的是：在数据采集过程中，由于一些原因可能会出现少量数据遗失的情形，比如 \n",
    "- (a)用户关注关系的遗失，新产生的关系不能更新 \n",
    "- (b)在微博转发过程中的用户，有小部分不在用户关注关系数据中 \n",
    "- (c)转发链可能断裂，比如源微博用户为a，转发链为b转发了a，c转发了b，d转发了c，信息走向就为a->b->c->d，此时深度应为a到d的距离3，但在采集过程中，可能会漏掉b->c这一段，从而导致转发链断裂。此时在计算传播深度的时候，会将转发链视为a->b和a->c->d，深度就计算就取节点a与其他节点的最长距离，即从a到d，深度为2.\n"
   ]
  },
  {
   "cell_type": "code",
   "execution_count": null,
   "metadata": {
    "collapsed": true
   },
   "outputs": [],
   "source": [
    "#生成每一条级联传播树的核心代码\n",
    "def spreading_tree(spread_data):\n",
    "#在生成树形结构以前，应保证原始数据已经进行了排序操作\n",
    "    parent = list(spread_data['tweet_user'])\n",
    "    child = list(spread_data['retweet_user'])\n",
    "    stime=list(spread_data['spread_time'])\n",
    "\n",
    "    #创建一棵树\n",
    "    node_tree=Tree()\n",
    "    \n",
    "    #创建根节点\n",
    "    node_tree.create_node(parent[0],parent[0],data=0)\n",
    "      \n",
    "    for i in range(len(spread_data)):\n",
    "        if node_tree.contains(parent[i]):\n",
    "            try:\n",
    "                #使用try语句，在父节点相同时，试图创建子节点，若可以创建则创建为子节点，若重复传播无法创建则直接循环下一条语句\n",
    "                node_tree.create_node(child[i],child[i],parent=parent[i],data=stime[i])\n",
    "            except:\n",
    "                pass\n",
    "        else:\n",
    "            try:\n",
    "                #如父节点不在树中，则将父节点设置为根节点，解决传播链断裂的情形\n",
    "                #(c)转发链可能断裂，比如源微博用户为a，转发链为b转发了a，c转发了b，d转发了c，信息走向就为a->b->c->d，\n",
    "                #此时深度应为a到d的距离3，但在采集过程中，可能会漏掉b->c这一段，从而导致转发链断裂。此时在计算传播深度的时候，\n",
    "                #会将转发链视为a->b和a->c->d，深度就计算就取节点a与其他节点的最长距离，即从a到d，深度为2。\n",
    "                node_tree.create_node(parent[i],parent[i],parent=parent[0],data=stime[i])\n",
    "                node_tree.create_node(child[i],child[i],parent=parent[i],data=stime[i])\n",
    "            except:\n",
    "                pass\n",
    "                \n",
    "    return node_tree"
   ]
  },
  {
   "cell_type": "code",
   "execution_count": null,
   "metadata": {
    "collapsed": true
   },
   "outputs": [],
   "source": [
    "#在遍历树的过程中求得传播特性的核心代码\n",
    "def spreading_results(tree_name):\n",
    "    #将树结构变成节点的字典形式\n",
    "    time_dict=tree_name.nodes\n",
    "    #得到一个键值列表\n",
    "    keys_list=time_dict.keys()\n",
    "    \n",
    "    spread_scale=0\n",
    "    spread_depth=0\n",
    "    scale_list=[]\n",
    "    depth_list=[]\n",
    "    spread_list=[]\n",
    "    \n",
    "    range_scale=range(1,61,1)\n",
    "    range_scale.extend(range(75,72*61+1,15))\n",
    "    for time_range in range_scale:\n",
    "        for item in keys_list:\n",
    "            spread_user_list=[]\n",
    "            if time_dict[item].data<=time_range*60:\n",
    "                spread_user_list.append(item)\n",
    "                #将此时间从key_list中移除\n",
    "                keys_list.remove(item)\n",
    "\n",
    "            if len(spread_user_list)>0:\n",
    "                for retweet_user in spread_user_list:\n",
    "                    #逐一比较得出最深的树\n",
    "                    if tree_name.depth(retweet_user)>spread_depth:\n",
    "                        spread_depth=tree_name.depth(retweet_user)\n",
    "                        \n",
    "                #规模为各个时间点的节点长度和\n",
    "                node_length=len(spread_user_list)\n",
    "                spread_scale=spread_scale+node_length                                \n",
    "\n",
    "        scale_list.append(spread_scale-1)\n",
    "        depth_list.append(spread_depth)\n",
    "\n",
    "    spread_list=scale_list                                     #返回传播的规模\n",
    "    spread_list.extend(depth_list)                             #返回传播的深度\n",
    "    return spread_list"
   ]
  },
  {
   "cell_type": "markdown",
   "metadata": {},
   "source": [
    "## 4.6 转发关系中时间特征的具体实现"
   ]
  },
  {
   "cell_type": "markdown",
   "metadata": {},
   "source": [
    "### 4.6.1 提交数据CSV文件的说明\n",
    "以下均是在60-4380分钟(72小时)内数据进行处理，一方面是作为训练的目标函数用，另一方面在线提交的时候也要有这些结果。\n",
    "\n",
    "- 提交CSV结果文件，文档中包含每一条微博在不同时刻的传播规模和传播深度。 \n",
    "- CSV每行字段说明：测试微博id,t1传播规模,t2传播规模,…,tk传播规模,t1传播深度,t2传播深度,…,tk传播深度 \n",
    "- 每一行为一个微博在某些时刻的传播规模和传播深度。 \n",
    "- 每列之间逗号分隔，每行之间回车换行。 \n",
    "- 微博ID的序号，逐行递增；同一微博ID，预测时刻逐列递增。 \n",
    "- 本次预测的时间间隔为15分钟，预测未来72小时的转发规模增长和传播深度增长。即从微博发出后的第75分钟到第4380分钟，每记录15分钟时的规模和深度，即测试集中有t1＝75，t2=90，......tk＝4380，一共288个时间点。（是4380，不是288，288只是考察的时间点的个数，从75到4380一共是288个时间点，表头也不要删掉）\n",
    "\n",
    "示例如下，包括表头（第一行），以及从第1条测试微博到第3000条测试微博：\n",
    "\n",
    "WeiboID (Time Unit: Minutes),scaleT75,scaleT90…,scaleT4380,depthT75,…,depthT4380 \n",
    "\n",
    "testWeibo1,100,110,…,400,3,…,5 \n",
    "\n",
    "testWeibo2,15,32,...,720,3,…,12 \n",
    "\n",
    "… \n",
    "\n",
    "testWeibo3000,221,332,...,3200,3,…,14 \n",
    "\n",
    "注：提交格式一定要与上述格式一致，才能正确计算得分 "
   ]
  },
  {
   "cell_type": "markdown",
   "metadata": {},
   "source": [
    "### 4.6.2 训练所需时间特征格式的说明 \n",
    "以下均是在60分钟内数据进行处理，主要是放到训练集中做特征用的。\n",
    "\n",
    "- 每行字段说明：测试微博id,t1传播规模,t2传播规模,…,tk传播规模,t1传播深度,t2传播深度,…,tk传播深度 \n",
    "- 每一行为一个微博在某些时刻的传播规模和传播深度。 \n",
    "- 每列之间逗号分隔，每行之间回车换行。\n",
    "- 1-60分钟时间内转发的规模：WeiboID,scaleT1,scaleT2…,scaleT60；\n",
    "- 1-60分钟时间内转发的深度：WeiboID,depthT1,depthT2…,depthT60；\n",
    "- 1-60分钟时间内转发的宽度：WeiboID,widthT1,widthT2…,widthT60；\n",
    "- 60分钟内的变异系数：每分钟内转发量的标准差/每分钟内转发量的均值；\n",
    "- 60分钟内的峰值比率：每分钟内的最大转发量/总转发量；\n",
    "- 60分钟内的峰值时间：从信息出现到扩散峰值之间的时间；\n",
    "- 60分钟内的衰减时间：从峰值时间到信息扩散达到扩散规模75%所需的时间；"
   ]
  },
  {
   "cell_type": "markdown",
   "metadata": {},
   "source": [
    "### 4.6.2 转发关系中时间特征的具体实现过程"
   ]
  },
  {
   "cell_type": "code",
   "execution_count": 582,
   "metadata": {
    "collapsed": false
   },
   "outputs": [
    {
     "data": {
      "text/html": [
       "<div>\n",
       "<table border=\"1\" class=\"dataframe\">\n",
       "  <thead>\n",
       "    <tr style=\"text-align: right;\">\n",
       "      <th></th>\n",
       "      <th>weibo_id</th>\n",
       "      <th>scaleT1</th>\n",
       "      <th>scaleT2</th>\n",
       "      <th>scaleT3</th>\n",
       "      <th>scaleT4</th>\n",
       "      <th>scaleT5</th>\n",
       "      <th>scaleT6</th>\n",
       "      <th>scaleT7</th>\n",
       "      <th>scaleT8</th>\n",
       "      <th>scaleT9</th>\n",
       "      <th>...</th>\n",
       "      <th>depthT4245</th>\n",
       "      <th>depthT4260</th>\n",
       "      <th>depthT4275</th>\n",
       "      <th>depthT4290</th>\n",
       "      <th>depthT4305</th>\n",
       "      <th>depthT4320</th>\n",
       "      <th>depthT4335</th>\n",
       "      <th>depthT4350</th>\n",
       "      <th>depthT4365</th>\n",
       "      <th>depthT4380</th>\n",
       "    </tr>\n",
       "  </thead>\n",
       "  <tbody>\n",
       "    <tr>\n",
       "      <th>0</th>\n",
       "      <td>3793992191673761</td>\n",
       "      <td>NaN</td>\n",
       "      <td>NaN</td>\n",
       "      <td>NaN</td>\n",
       "      <td>NaN</td>\n",
       "      <td>NaN</td>\n",
       "      <td>NaN</td>\n",
       "      <td>NaN</td>\n",
       "      <td>NaN</td>\n",
       "      <td>NaN</td>\n",
       "      <td>...</td>\n",
       "      <td>NaN</td>\n",
       "      <td>NaN</td>\n",
       "      <td>NaN</td>\n",
       "      <td>NaN</td>\n",
       "      <td>NaN</td>\n",
       "      <td>NaN</td>\n",
       "      <td>NaN</td>\n",
       "      <td>NaN</td>\n",
       "      <td>NaN</td>\n",
       "      <td>NaN</td>\n",
       "    </tr>\n",
       "    <tr>\n",
       "      <th>1</th>\n",
       "      <td>3793996868052645</td>\n",
       "      <td>NaN</td>\n",
       "      <td>NaN</td>\n",
       "      <td>NaN</td>\n",
       "      <td>NaN</td>\n",
       "      <td>NaN</td>\n",
       "      <td>NaN</td>\n",
       "      <td>NaN</td>\n",
       "      <td>NaN</td>\n",
       "      <td>NaN</td>\n",
       "      <td>...</td>\n",
       "      <td>NaN</td>\n",
       "      <td>NaN</td>\n",
       "      <td>NaN</td>\n",
       "      <td>NaN</td>\n",
       "      <td>NaN</td>\n",
       "      <td>NaN</td>\n",
       "      <td>NaN</td>\n",
       "      <td>NaN</td>\n",
       "      <td>NaN</td>\n",
       "      <td>NaN</td>\n",
       "    </tr>\n",
       "    <tr>\n",
       "      <th>2</th>\n",
       "      <td>3793997917454642</td>\n",
       "      <td>NaN</td>\n",
       "      <td>NaN</td>\n",
       "      <td>NaN</td>\n",
       "      <td>NaN</td>\n",
       "      <td>NaN</td>\n",
       "      <td>NaN</td>\n",
       "      <td>NaN</td>\n",
       "      <td>NaN</td>\n",
       "      <td>NaN</td>\n",
       "      <td>...</td>\n",
       "      <td>NaN</td>\n",
       "      <td>NaN</td>\n",
       "      <td>NaN</td>\n",
       "      <td>NaN</td>\n",
       "      <td>NaN</td>\n",
       "      <td>NaN</td>\n",
       "      <td>NaN</td>\n",
       "      <td>NaN</td>\n",
       "      <td>NaN</td>\n",
       "      <td>NaN</td>\n",
       "    </tr>\n",
       "    <tr>\n",
       "      <th>3</th>\n",
       "      <td>3793999469290835</td>\n",
       "      <td>NaN</td>\n",
       "      <td>NaN</td>\n",
       "      <td>NaN</td>\n",
       "      <td>NaN</td>\n",
       "      <td>NaN</td>\n",
       "      <td>NaN</td>\n",
       "      <td>NaN</td>\n",
       "      <td>NaN</td>\n",
       "      <td>NaN</td>\n",
       "      <td>...</td>\n",
       "      <td>NaN</td>\n",
       "      <td>NaN</td>\n",
       "      <td>NaN</td>\n",
       "      <td>NaN</td>\n",
       "      <td>NaN</td>\n",
       "      <td>NaN</td>\n",
       "      <td>NaN</td>\n",
       "      <td>NaN</td>\n",
       "      <td>NaN</td>\n",
       "      <td>NaN</td>\n",
       "    </tr>\n",
       "    <tr>\n",
       "      <th>4</th>\n",
       "      <td>3794000245281644</td>\n",
       "      <td>NaN</td>\n",
       "      <td>NaN</td>\n",
       "      <td>NaN</td>\n",
       "      <td>NaN</td>\n",
       "      <td>NaN</td>\n",
       "      <td>NaN</td>\n",
       "      <td>NaN</td>\n",
       "      <td>NaN</td>\n",
       "      <td>NaN</td>\n",
       "      <td>...</td>\n",
       "      <td>NaN</td>\n",
       "      <td>NaN</td>\n",
       "      <td>NaN</td>\n",
       "      <td>NaN</td>\n",
       "      <td>NaN</td>\n",
       "      <td>NaN</td>\n",
       "      <td>NaN</td>\n",
       "      <td>NaN</td>\n",
       "      <td>NaN</td>\n",
       "      <td>NaN</td>\n",
       "    </tr>\n",
       "  </tbody>\n",
       "</table>\n",
       "<p>5 rows × 697 columns</p>\n",
       "</div>"
      ],
      "text/plain": [
       "           weibo_id scaleT1 scaleT2 scaleT3 scaleT4 scaleT5 scaleT6 scaleT7  \\\n",
       "0  3793992191673761     NaN     NaN     NaN     NaN     NaN     NaN     NaN   \n",
       "1  3793996868052645     NaN     NaN     NaN     NaN     NaN     NaN     NaN   \n",
       "2  3793997917454642     NaN     NaN     NaN     NaN     NaN     NaN     NaN   \n",
       "3  3793999469290835     NaN     NaN     NaN     NaN     NaN     NaN     NaN   \n",
       "4  3794000245281644     NaN     NaN     NaN     NaN     NaN     NaN     NaN   \n",
       "\n",
       "  scaleT8 scaleT9    ...     depthT4245 depthT4260 depthT4275 depthT4290  \\\n",
       "0     NaN     NaN    ...            NaN        NaN        NaN        NaN   \n",
       "1     NaN     NaN    ...            NaN        NaN        NaN        NaN   \n",
       "2     NaN     NaN    ...            NaN        NaN        NaN        NaN   \n",
       "3     NaN     NaN    ...            NaN        NaN        NaN        NaN   \n",
       "4     NaN     NaN    ...            NaN        NaN        NaN        NaN   \n",
       "\n",
       "  depthT4305 depthT4320 depthT4335 depthT4350 depthT4365 depthT4380  \n",
       "0        NaN        NaN        NaN        NaN        NaN        NaN  \n",
       "1        NaN        NaN        NaN        NaN        NaN        NaN  \n",
       "2        NaN        NaN        NaN        NaN        NaN        NaN  \n",
       "3        NaN        NaN        NaN        NaN        NaN        NaN  \n",
       "4        NaN        NaN        NaN        NaN        NaN        NaN  \n",
       "\n",
       "[5 rows x 697 columns]"
      ]
     },
     "execution_count": 582,
     "metadata": {},
     "output_type": "execute_result"
    }
   ],
   "source": [
    "#做出提交文件中表头的各种字段来，具体的格式如下：\n",
    "#WeiboID,scaleT1,scaleT2…,scaleT60,scaleT75,scaleT90…,scaleT4380,depthT1,depthT2…,depthT60,depthT75,…,depthT4380 \n",
    "column_names=[]\n",
    "column_names.append('weibo_id')\n",
    "data=[]\n",
    "range_scale=range(1,61,1)\n",
    "range_scale.extend(range(75,72*61+1,15))\n",
    "\n",
    "for time_range in range_scale:\n",
    "    column_names.append('scaleT'+str(time_range))\n",
    "for time_range in range_scale:\n",
    "    column_names.append('depthT'+str(time_range))\n",
    "    \n",
    "WeiboProfile_train_spreading=pd.DataFrame(data,columns=column_names)\n",
    "WeiboProfile_train_spreading['weibo_id']=weibo_id_list\n",
    "WeiboProfile_train_spreading.head(5)"
   ]
  },
  {
   "cell_type": "code",
   "execution_count": null,
   "metadata": {
    "collapsed": true
   },
   "outputs": [],
   "source": [
    "#将数据按照weibo_id进行整合\n",
    "trainRepost_group=trainRepost.groupby(['weibo_id'])\n",
    "\n",
    "ID_index=0\n",
    "for weibo_id in weibo_id_list:\n",
    "#全部处理时间很长，所以这里面可以设置仅显示处理几条数据\n",
    "for weibo_id in weibo_id_list:\n",
    "    if ID_index%1000==0:\n",
    "        print ID_index\n",
    "    weibo_id_spread_data=trainRepost_group.get_group(weibo_id)\n",
    "    tree_name=str(weibo_id)+'_node_tree'\n",
    "    tree_name=spreading_tree(weibo_id_spread_data)\n",
    "    weibo_id_spread_results=spreading_results(tree_name)\n",
    "    weibo_id_spread_results.insert(0,weibo_id)\n",
    "    WeiboProfile_train_spreading.ix[ID_index]=weibo_id_spread_results\n",
    "    ID_index=ID_index+1\n",
    "    \n",
    "    ##将树文件保存为pkl文件以便今后使用，合计会有2万多棵传播树\n",
    "    pickle_file=open('treedata/'+'tree_'+str(weibo_id)+'.pkl','w')            #可提供26992棵传播树数据\n",
    "    pickle.dump(tree_name,pickle_file)\n",
    "    pickle_file.close()\n",
    "    \n",
    "#查看最初的几条数据来验证结果\n",
    "WeiboProfile_train_spreading.head(10)"
   ]
  },
  {
   "cell_type": "code",
   "execution_count": 62,
   "metadata": {
    "collapsed": false
   },
   "outputs": [],
   "source": [
    "#将其保存为csv文件以便今后使用\n",
    "#该文件得到了每一个weino_id下的的传播情况，在每一时刻该树的深度，根节点被转发的数量\n",
    "#WeiboProfile_train_spreading.to_csv('WeiboProfile_train_spreading.csv',index=False)\n",
    "\n",
    "#将已经保存的文件读入到内存中\n",
    "WeiboProfile_train_spreading=pd.read_csv('WeiboProfile_train_spreading.csv')\n"
   ]
  },
  {
   "cell_type": "code",
   "execution_count": 63,
   "metadata": {
    "collapsed": false
   },
   "outputs": [
    {
     "data": {
      "text/plain": [
       "[<matplotlib.lines.Line2D at 0x120bee210>]"
      ]
     },
     "execution_count": 63,
     "metadata": {},
     "output_type": "execute_result"
    },
    {
     "data": {
      "image/png": "[encoded data removed]",
      "text/plain": [
       "<matplotlib.figure.Figure at 0x11612de90>"
      ]
     },
     "metadata": {},
     "output_type": "display_data"
    }
   ],
   "source": [
    "#观察几条微博的传播情况\n",
    "fig = gcf() \n",
    "fig.set_size_inches(18, 12)\n",
    "\n",
    "subplot(2,2,1)\n",
    "range_scale1=range(1,61,1)\n",
    "weibo1_result = WeiboProfile_train_spreading.loc[3]\n",
    "plot(range_scale1,weibo1_result[1:61],'bo-')\n",
    "\n",
    "subplot(2,2,2)\n",
    "range_scale2=range(75,72*61+1,15)\n",
    "plot(range_scale2,weibo1_result[61:349],'rs-')\n",
    "\n",
    "subplot(2,2,3)\n",
    "range_scale1=range(1,61,1)\n",
    "plot(range_scale1,weibo1_result[349:409],'bo-')\n",
    "\n",
    "subplot(2,2,4)\n",
    "range_scale2=range(75,72*61+1,15)\n",
    "plot(range_scale2,weibo1_result[409:697],'rs-')\n",
    "\n",
    "savefig(\"spreading_figure1.pdf\")"
   ]
  },
  {
   "cell_type": "code",
   "execution_count": 65,
   "metadata": {
    "collapsed": false
   },
   "outputs": [
    {
     "data": {
      "text/plain": [
       "[<matplotlib.lines.Line2D at 0x121acc810>]"
      ]
     },
     "execution_count": 65,
     "metadata": {},
     "output_type": "execute_result"
    },
    {
     "data": {
      "image/png": "[encoded data removed]",
      "text/plain": [
       "<matplotlib.figure.Figure at 0x1194b6350>"
      ]
     },
     "metadata": {},
     "output_type": "display_data"
    }
   ],
   "source": [
    "#观察几条微博的传播情况\n",
    "fig = gcf() \n",
    "fig.set_size_inches(18, 12)\n",
    "\n",
    "subplot(2,2,1)\n",
    "range_scale1=range(1,61,1)\n",
    "weibo1_result = WeiboProfile_train_spreading.loc[0]\n",
    "plot(range_scale1,weibo1_result[1:61],'bo-')\n",
    "\n",
    "subplot(2,2,2)\n",
    "range_scale2=range(75,72*61+1,15)\n",
    "plot(range_scale2,weibo1_result[61:349],'rs-')\n",
    "\n",
    "subplot(2,2,3)\n",
    "range_scale1=range(1,61,1)\n",
    "plot(range_scale1,weibo1_result[349:409],'bo-')\n",
    "\n",
    "subplot(2,2,4)\n",
    "range_scale2=range(75,72*61+1,15)\n",
    "plot(range_scale2,weibo1_result[409:697],'rs-')\n",
    "\n",
    "savefig(\"spreading_figure2.pdf\")"
   ]
  },
  {
   "cell_type": "code",
   "execution_count": null,
   "metadata": {
    "collapsed": true
   },
   "outputs": [],
   "source": [
    "#读入weibo_id_list数据\n",
    "pickle_file=open('weibo_id_list.pkl','r')\n",
    "weibo_id_list=pickle.load(pickle_file)\n",
    "pickle_file.close()\n",
    "\n",
    "ID_index=0\n",
    "#读入结构树数据到内存中\n",
    "createvar = locals()\n",
    "for weibo_id in weibo_id_list:\n",
    "    if ID_index%1000==0:      #监测读入的速度\n",
    "        print ID_index\n",
    "    ID_index=ID_index+1\n",
    "    pickle_file=open('treedata/'+'tree_'+str(weibo_id)+'.pkl','r')\n",
    "    varname='tree_'+str(weibo_id)\n",
    "    createvar[varname]=pickle.load(pickle_file)\n",
    "    pickle_file.close()"
   ]
  },
  {
   "cell_type": "code",
   "execution_count": null,
   "metadata": {
    "collapsed": true
   },
   "outputs": [],
   "source": [
    "#读入weibo_id_list数据\n",
    "pickle_file=open('weibo_id_list.pkl','r')\n",
    "weibo_id_list=pickle.load(pickle_file)\n",
    "pickle_file.close()"
   ]
  },
  {
   "cell_type": "markdown",
   "metadata": {},
   "source": [
    "# 5 微博转发内容和发布时间特征的构建"
   ]
  },
  {
   "cell_type": "markdown",
   "metadata": {},
   "source": [
    "源微博内容（含微博id与内容的对应关系），文件名为WeiboProfile.train \n",
    "\n",
    "在例子中，微博的内容就会记录为   \n",
    "微博id\\001微博作者id\\001微博发布时刻\\001微博内容   \n",
    "weibo1\\001小赵id\\00107:15:10\\001早上好   \n",
    "说明：微博发布时刻为当日的时间点，隐藏了日期，并使用24小时计时法。"
   ]
  },
  {
   "cell_type": "markdown",
   "metadata": {},
   "source": [
    "## 5.1 微博发布时间特征的构建"
   ]
  },
  {
   "cell_type": "code",
   "execution_count": 73,
   "metadata": {
    "collapsed": false
   },
   "outputs": [
    {
     "data": {
      "text/html": [
       "<div>\n",
       "<table border=\"1\" class=\"dataframe\">\n",
       "  <thead>\n",
       "    <tr style=\"text-align: right;\">\n",
       "      <th></th>\n",
       "      <th>weibo_id</th>\n",
       "      <th>tweet_user</th>\n",
       "      <th>release_time</th>\n",
       "      <th>content</th>\n",
       "    </tr>\n",
       "  </thead>\n",
       "  <tbody>\n",
       "    <tr>\n",
       "      <th>0</th>\n",
       "      <td>3794305741726764</td>\n",
       "      <td>2724513</td>\n",
       "      <td>20:47:26</td>\n",
       "      <td>看到这条微博的人，羊年都会走大运！</td>\n",
       "    </tr>\n",
       "    <tr>\n",
       "      <th>1</th>\n",
       "      <td>3794545218812248</td>\n",
       "      <td>7460165</td>\n",
       "      <td>12:39:02</td>\n",
       "      <td>2015你最想获得下面那一项?</td>\n",
       "    </tr>\n",
       "    <tr>\n",
       "      <th>2</th>\n",
       "      <td>3794726233244929</td>\n",
       "      <td>7387806</td>\n",
       "      <td>00:38:19</td>\n",
       "      <td>从剧组偷了个闲出来认真的看过沙果“贱”入佳境了，幽默精彩，点赞支持👍，票房小黑马马力十足�...</td>\n",
       "    </tr>\n",
       "    <tr>\n",
       "      <th>3</th>\n",
       "      <td>3794986804085757</td>\n",
       "      <td>8091415</td>\n",
       "      <td>17:53:44</td>\n",
       "      <td>Hey,从事教师这一职业的我不甘于现状，心中总有股劲儿想要挑战自己！一次偶然的机会让我接触了...</td>\n",
       "    </tr>\n",
       "    <tr>\n",
       "      <th>4</th>\n",
       "      <td>3795261795455671</td>\n",
       "      <td>8189779</td>\n",
       "      <td>12:06:27</td>\n",
       "      <td>我操你们妈了隔壁[呵呵]</td>\n",
       "    </tr>\n",
       "    <tr>\n",
       "      <th>5</th>\n",
       "      <td>3795438593411753</td>\n",
       "      <td>7298946</td>\n",
       "      <td>23:48:59</td>\n",
       "      <td>[讨论]周杰伦的歌曲和正能量影响着几代人！当然还有现在爆红的00后组合TFBOYS的队长王俊...</td>\n",
       "    </tr>\n",
       "    <tr>\n",
       "      <th>6</th>\n",
       "      <td>3795659825938762</td>\n",
       "      <td>7900610</td>\n",
       "      <td>14:28:05</td>\n",
       "      <td>#2015我的开年心愿#圣诞已过，除夕未至。新年伊始，大家一定有新的心愿或者目标：收获一份甜...</td>\n",
       "    </tr>\n",
       "    <tr>\n",
       "      <th>7</th>\n",
       "      <td>3795746757084016</td>\n",
       "      <td>8276724</td>\n",
       "      <td>20:13:31</td>\n",
       "      <td>这个时代的基本特质，是虚假，乡愿，半真半假的文化。这是危险的。一个在低级的经济学功利主义下的...</td>\n",
       "    </tr>\n",
       "    <tr>\n",
       "      <th>8</th>\n",
       "      <td>3796681650863771</td>\n",
       "      <td>7333613</td>\n",
       "      <td>10:08:27</td>\n",
       "      <td>《启初婴儿多效倍润面 霜试用体验》我又来抛使用心得了,这次是上市一年多的新品牌“启初”，通过...</td>\n",
       "    </tr>\n",
       "    <tr>\n",
       "      <th>9</th>\n",
       "      <td>3796728916283233</td>\n",
       "      <td>8185330</td>\n",
       "      <td>13:16:16</td>\n",
       "      <td>一年了，真快啊！@刘恺威 @杨幂</td>\n",
       "    </tr>\n",
       "  </tbody>\n",
       "</table>\n",
       "</div>"
      ],
      "text/plain": [
       "           weibo_id  tweet_user release_time  \\\n",
       "0  3794305741726764     2724513     20:47:26   \n",
       "1  3794545218812248     7460165     12:39:02   \n",
       "2  3794726233244929     7387806     00:38:19   \n",
       "3  3794986804085757     8091415     17:53:44   \n",
       "4  3795261795455671     8189779     12:06:27   \n",
       "5  3795438593411753     7298946     23:48:59   \n",
       "6  3795659825938762     7900610     14:28:05   \n",
       "7  3795746757084016     8276724     20:13:31   \n",
       "8  3796681650863771     7333613     10:08:27   \n",
       "9  3796728916283233     8185330     13:16:16   \n",
       "\n",
       "                                             content  \n",
       "0                                  看到这条微博的人，羊年都会走大运！  \n",
       "1                                    2015你最想获得下面那一项?  \n",
       "2  从剧组偷了个闲出来认真的看过沙果“贱”入佳境了，幽默精彩，点赞支持👍，票房小黑马马力十足�...  \n",
       "3  Hey,从事教师这一职业的我不甘于现状，心中总有股劲儿想要挑战自己！一次偶然的机会让我接触了...  \n",
       "4                                       我操你们妈了隔壁[呵呵]  \n",
       "5  [讨论]周杰伦的歌曲和正能量影响着几代人！当然还有现在爆红的00后组合TFBOYS的队长王俊...  \n",
       "6  #2015我的开年心愿#圣诞已过，除夕未至。新年伊始，大家一定有新的心愿或者目标：收获一份甜...  \n",
       "7  这个时代的基本特质，是虚假，乡愿，半真半假的文化。这是危险的。一个在低级的经济学功利主义下的...  \n",
       "8  《启初婴儿多效倍润面 霜试用体验》我又来抛使用心得了,这次是上市一年多的新品牌“启初”，通过...  \n",
       "9                                   一年了，真快啊！@刘恺威 @杨幂  "
      ]
     },
     "execution_count": 73,
     "metadata": {},
     "output_type": "execute_result"
    }
   ],
   "source": [
    "## 将时分秒转化为小时表示，保存到WeiboProfile_train.csv中\n",
    "#为每一列起一个名字，方便今后的操作\n",
    "column_names=['weibo_id','tweet_user','release_time','content']\n",
    "\n",
    "#采用pandas框架读入数据\n",
    "WeiboProfile_train=pd.read_csv('WeiboProfile_train_origin.csv',header=0,names=column_names)\n",
    "WeiboProfile_train.head(10)"
   ]
  },
  {
   "cell_type": "code",
   "execution_count": 74,
   "metadata": {
    "collapsed": false
   },
   "outputs": [
    {
     "data": {
      "image/png": "[encoded data removed]",
      "text/plain": [
       "<matplotlib.figure.Figure at 0x119beec50>"
      ]
     },
     "metadata": {},
     "output_type": "display_data"
    }
   ],
   "source": [
    "#将发微博的时间转化为xx.xx小时的形式\n",
    "new_time=[]\n",
    "for time_item in WeiboProfile_train['release_time']:\n",
    "    time_split=time_item.split(\":\")\n",
    "    new_time.append(float(time_split[0])+float(time_split[1])/60)\n",
    "WeiboProfile_train.release_time=new_time\n",
    "\n",
    "#对发微博的时间进行一个初步的分析\n",
    "fig = gcf() \n",
    "fig.set_size_inches(15, 9)\n",
    "hist(WeiboProfile_train.release_time,np.arange(0,24,1.0))\n",
    "xlabel('Hour')\n",
    "\n",
    "#将其保存为csv文件以便今后使用\n",
    "WeiboProfile_train.to_csv('WeiboProfile_train.csv',index=False)"
   ]
  },
  {
   "cell_type": "code",
   "execution_count": 75,
   "metadata": {
    "collapsed": false
   },
   "outputs": [
    {
     "data": {
      "text/plain": [
       "26998"
      ]
     },
     "execution_count": 75,
     "metadata": {},
     "output_type": "execute_result"
    }
   ],
   "source": [
    "#这个列表的长度就是训练集样本的数量\n",
    "len(WeiboProfile_train)"
   ]
  },
  {
   "cell_type": "markdown",
   "metadata": {},
   "source": [
    "## 5.2 对训练集进行文本内容的分类"
   ]
  },
  {
   "cell_type": "code",
   "execution_count": 114,
   "metadata": {
    "collapsed": false
   },
   "outputs": [],
   "source": [
    "import re\n",
    "import jieba \n",
    "words_list= []\n",
    "\n",
    "#处理训练集\n",
    "WeiboProfile_train=pd.read_csv('WeiboProfile_train.csv')\n",
    "for item in range(len(WeiboProfile_train)):                                           \n",
    "        line = str(WeiboProfile_train.content[item]).strip().decode('utf-8', 'ignore')        \n",
    "        pipei = re.compile(ur'[^\\u4e00-\\u9fa5]')          #用正则化匹配中文               \n",
    "        words = \" \".join(pipei.split(line)).strip()                      \n",
    "        words_list.append([j for j in jieba.cut(words)]) #将所有微博的词混合在一起"
   ]
  },
  {
   "cell_type": "code",
   "execution_count": 115,
   "metadata": {
    "collapsed": true
   },
   "outputs": [],
   "source": [
    "#处理测试集\n",
    "WeiboProfile_test = pd.read_csv('WeiboProfile_test.csv')\n",
    "for item in range(len(WeiboProfile_test)):                                           \n",
    "        line = str(WeiboProfile_test.content[item]).strip().decode('utf-8', 'ignore')        \n",
    "        pipei = re.compile(ur'[^\\u4e00-\\u9fa5]')          #用正则化匹配中文               \n",
    "        words = \" \".join(pipei.split(line)).strip()                      \n",
    "        words_list.append([j for j in jieba.cut(words)]) #将所有微博的词混合在一起"
   ]
  },
  {
   "cell_type": "code",
   "execution_count": 117,
   "metadata": {
    "collapsed": false
   },
   "outputs": [],
   "source": [
    "from gensim import corpora, models, similarities  \n",
    "dic = corpora.Dictionary(words_list)\n",
    "corpus = [dic.doc2bow(text) for text in words_list]\n",
    "tfidf = models.TfidfModel(corpus)\n",
    "corpus_tfidf = tfidf[corpus]\n",
    "lda = models.LdaModel(corpus_tfidf, id2word = dic, num_topics = 10)  #将微博内容分成10类\n",
    "corpus_lda = lda[corpus_tfidf]\n",
    "sum1 = len(WeiboProfile_train)\n",
    "\n",
    "#分别生成训练集内容的标签和测试集内容的标签\n",
    "train_category_label = [str(sorted(a,key=lambda x: x[1])[-1][0]) for a in corpus_lda[:sum1]]   #训练集内容的标签\n",
    "#test_category_label = [str(sorted(a,key=lambda x: x[1])[-1][0]) for a in corpus_lda[sum1:]]    #测试集内容的标签"
   ]
  },
  {
   "cell_type": "markdown",
   "metadata": {},
   "source": [
    "## 5.3 需要构建的训练集文本特征\n",
    "\n",
    "- 微博的长度：wordlenth\n",
    "- 包含网址的数量：URL\n",
    "- 包含Hashtag的数量：Hashtag\n",
    "- @别人的数量：mention\n",
    "- 包含照片的数量：picture\n",
    "- 内容的类别：content_category"
   ]
  },
  {
   "cell_type": "markdown",
   "metadata": {},
   "source": [
    "# 5.4 训练集文本特征的构建过程"
   ]
  },
  {
   "cell_type": "code",
   "execution_count": 78,
   "metadata": {
    "collapsed": false
   },
   "outputs": [
    {
     "data": {
      "text/html": [
       "<div>\n",
       "<table border=\"1\" class=\"dataframe\">\n",
       "  <thead>\n",
       "    <tr style=\"text-align: right;\">\n",
       "      <th></th>\n",
       "      <th>weibo_id</th>\n",
       "      <th>tweet_user</th>\n",
       "      <th>release_time</th>\n",
       "      <th>content</th>\n",
       "      <th>wordlenth</th>\n",
       "      <th>URL</th>\n",
       "      <th>Hashtag</th>\n",
       "      <th>mention</th>\n",
       "      <th>picture</th>\n",
       "      <th>content_category</th>\n",
       "      <th>hongbao</th>\n",
       "      <th>guanzhu</th>\n",
       "      <th>choujiang</th>\n",
       "    </tr>\n",
       "  </thead>\n",
       "  <tbody>\n",
       "    <tr>\n",
       "      <th>0</th>\n",
       "      <td>weibo_id</td>\n",
       "      <td>tweet_user</td>\n",
       "      <td>release_time</td>\n",
       "      <td>content</td>\n",
       "      <td>NaN</td>\n",
       "      <td>NaN</td>\n",
       "      <td>NaN</td>\n",
       "      <td>NaN</td>\n",
       "      <td>NaN</td>\n",
       "      <td>NaN</td>\n",
       "      <td>NaN</td>\n",
       "      <td>NaN</td>\n",
       "      <td>NaN</td>\n",
       "    </tr>\n",
       "    <tr>\n",
       "      <th>1</th>\n",
       "      <td>3794305741726764</td>\n",
       "      <td>2724513</td>\n",
       "      <td>20.7833333333</td>\n",
       "      <td>看到这条微博的人，羊年都会走大运！</td>\n",
       "      <td>NaN</td>\n",
       "      <td>NaN</td>\n",
       "      <td>NaN</td>\n",
       "      <td>NaN</td>\n",
       "      <td>NaN</td>\n",
       "      <td>NaN</td>\n",
       "      <td>NaN</td>\n",
       "      <td>NaN</td>\n",
       "      <td>NaN</td>\n",
       "    </tr>\n",
       "    <tr>\n",
       "      <th>2</th>\n",
       "      <td>3794545218812248</td>\n",
       "      <td>7460165</td>\n",
       "      <td>12.65</td>\n",
       "      <td>2015你最想获得下面那一项?</td>\n",
       "      <td>NaN</td>\n",
       "      <td>NaN</td>\n",
       "      <td>NaN</td>\n",
       "      <td>NaN</td>\n",
       "      <td>NaN</td>\n",
       "      <td>NaN</td>\n",
       "      <td>NaN</td>\n",
       "      <td>NaN</td>\n",
       "      <td>NaN</td>\n",
       "    </tr>\n",
       "    <tr>\n",
       "      <th>3</th>\n",
       "      <td>3794726233244929</td>\n",
       "      <td>7387806</td>\n",
       "      <td>0.633333333333</td>\n",
       "      <td>从剧组偷了个闲出来认真的看过沙果“贱”入佳境了，幽默精彩，点赞支持👍，票房小黑马马力十足�...</td>\n",
       "      <td>NaN</td>\n",
       "      <td>NaN</td>\n",
       "      <td>NaN</td>\n",
       "      <td>NaN</td>\n",
       "      <td>NaN</td>\n",
       "      <td>NaN</td>\n",
       "      <td>NaN</td>\n",
       "      <td>NaN</td>\n",
       "      <td>NaN</td>\n",
       "    </tr>\n",
       "    <tr>\n",
       "      <th>4</th>\n",
       "      <td>3794986804085757</td>\n",
       "      <td>8091415</td>\n",
       "      <td>17.8833333333</td>\n",
       "      <td>Hey,从事教师这一职业的我不甘于现状，心中总有股劲儿想要挑战自己！一次偶然的机会让我接触了...</td>\n",
       "      <td>NaN</td>\n",
       "      <td>NaN</td>\n",
       "      <td>NaN</td>\n",
       "      <td>NaN</td>\n",
       "      <td>NaN</td>\n",
       "      <td>NaN</td>\n",
       "      <td>NaN</td>\n",
       "      <td>NaN</td>\n",
       "      <td>NaN</td>\n",
       "    </tr>\n",
       "    <tr>\n",
       "      <th>5</th>\n",
       "      <td>3795261795455671</td>\n",
       "      <td>8189779</td>\n",
       "      <td>12.1</td>\n",
       "      <td>我操你们妈了隔壁[呵呵]</td>\n",
       "      <td>NaN</td>\n",
       "      <td>NaN</td>\n",
       "      <td>NaN</td>\n",
       "      <td>NaN</td>\n",
       "      <td>NaN</td>\n",
       "      <td>NaN</td>\n",
       "      <td>NaN</td>\n",
       "      <td>NaN</td>\n",
       "      <td>NaN</td>\n",
       "    </tr>\n",
       "    <tr>\n",
       "      <th>6</th>\n",
       "      <td>3795438593411753</td>\n",
       "      <td>7298946</td>\n",
       "      <td>23.8</td>\n",
       "      <td>[讨论]周杰伦的歌曲和正能量影响着几代人！当然还有现在爆红的00后组合TFBOYS的队长王俊...</td>\n",
       "      <td>NaN</td>\n",
       "      <td>NaN</td>\n",
       "      <td>NaN</td>\n",
       "      <td>NaN</td>\n",
       "      <td>NaN</td>\n",
       "      <td>NaN</td>\n",
       "      <td>NaN</td>\n",
       "      <td>NaN</td>\n",
       "      <td>NaN</td>\n",
       "    </tr>\n",
       "    <tr>\n",
       "      <th>7</th>\n",
       "      <td>3795659825938762</td>\n",
       "      <td>7900610</td>\n",
       "      <td>14.4666666667</td>\n",
       "      <td>#2015我的开年心愿#圣诞已过，除夕未至。新年伊始，大家一定有新的心愿或者目标：收获一份甜...</td>\n",
       "      <td>NaN</td>\n",
       "      <td>NaN</td>\n",
       "      <td>NaN</td>\n",
       "      <td>NaN</td>\n",
       "      <td>NaN</td>\n",
       "      <td>NaN</td>\n",
       "      <td>NaN</td>\n",
       "      <td>NaN</td>\n",
       "      <td>NaN</td>\n",
       "    </tr>\n",
       "    <tr>\n",
       "      <th>8</th>\n",
       "      <td>3795746757084016</td>\n",
       "      <td>8276724</td>\n",
       "      <td>20.2166666667</td>\n",
       "      <td>这个时代的基本特质，是虚假，乡愿，半真半假的文化。这是危险的。一个在低级的经济学功利主义下的...</td>\n",
       "      <td>NaN</td>\n",
       "      <td>NaN</td>\n",
       "      <td>NaN</td>\n",
       "      <td>NaN</td>\n",
       "      <td>NaN</td>\n",
       "      <td>NaN</td>\n",
       "      <td>NaN</td>\n",
       "      <td>NaN</td>\n",
       "      <td>NaN</td>\n",
       "    </tr>\n",
       "    <tr>\n",
       "      <th>9</th>\n",
       "      <td>3796681650863771</td>\n",
       "      <td>7333613</td>\n",
       "      <td>10.1333333333</td>\n",
       "      <td>《启初婴儿多效倍润面 霜试用体验》我又来抛使用心得了,这次是上市一年多的新品牌“启初”，通过...</td>\n",
       "      <td>NaN</td>\n",
       "      <td>NaN</td>\n",
       "      <td>NaN</td>\n",
       "      <td>NaN</td>\n",
       "      <td>NaN</td>\n",
       "      <td>NaN</td>\n",
       "      <td>NaN</td>\n",
       "      <td>NaN</td>\n",
       "      <td>NaN</td>\n",
       "    </tr>\n",
       "  </tbody>\n",
       "</table>\n",
       "</div>"
      ],
      "text/plain": [
       "           weibo_id  tweet_user    release_time  \\\n",
       "0          weibo_id  tweet_user    release_time   \n",
       "1  3794305741726764     2724513   20.7833333333   \n",
       "2  3794545218812248     7460165           12.65   \n",
       "3  3794726233244929     7387806  0.633333333333   \n",
       "4  3794986804085757     8091415   17.8833333333   \n",
       "5  3795261795455671     8189779            12.1   \n",
       "6  3795438593411753     7298946            23.8   \n",
       "7  3795659825938762     7900610   14.4666666667   \n",
       "8  3795746757084016     8276724   20.2166666667   \n",
       "9  3796681650863771     7333613   10.1333333333   \n",
       "\n",
       "                                             content  wordlenth  URL  Hashtag  \\\n",
       "0                                            content        NaN  NaN      NaN   \n",
       "1                                  看到这条微博的人，羊年都会走大运！        NaN  NaN      NaN   \n",
       "2                                    2015你最想获得下面那一项?        NaN  NaN      NaN   \n",
       "3  从剧组偷了个闲出来认真的看过沙果“贱”入佳境了，幽默精彩，点赞支持👍，票房小黑马马力十足�...        NaN  NaN      NaN   \n",
       "4  Hey,从事教师这一职业的我不甘于现状，心中总有股劲儿想要挑战自己！一次偶然的机会让我接触了...        NaN  NaN      NaN   \n",
       "5                                       我操你们妈了隔壁[呵呵]        NaN  NaN      NaN   \n",
       "6  [讨论]周杰伦的歌曲和正能量影响着几代人！当然还有现在爆红的00后组合TFBOYS的队长王俊...        NaN  NaN      NaN   \n",
       "7  #2015我的开年心愿#圣诞已过，除夕未至。新年伊始，大家一定有新的心愿或者目标：收获一份甜...        NaN  NaN      NaN   \n",
       "8  这个时代的基本特质，是虚假，乡愿，半真半假的文化。这是危险的。一个在低级的经济学功利主义下的...        NaN  NaN      NaN   \n",
       "9  《启初婴儿多效倍润面 霜试用体验》我又来抛使用心得了,这次是上市一年多的新品牌“启初”，通过...        NaN  NaN      NaN   \n",
       "\n",
       "   mention  picture  content_category  hongbao  guanzhu  choujiang  \n",
       "0      NaN      NaN               NaN      NaN      NaN        NaN  \n",
       "1      NaN      NaN               NaN      NaN      NaN        NaN  \n",
       "2      NaN      NaN               NaN      NaN      NaN        NaN  \n",
       "3      NaN      NaN               NaN      NaN      NaN        NaN  \n",
       "4      NaN      NaN               NaN      NaN      NaN        NaN  \n",
       "5      NaN      NaN               NaN      NaN      NaN        NaN  \n",
       "6      NaN      NaN               NaN      NaN      NaN        NaN  \n",
       "7      NaN      NaN               NaN      NaN      NaN        NaN  \n",
       "8      NaN      NaN               NaN      NaN      NaN        NaN  \n",
       "9      NaN      NaN               NaN      NaN      NaN        NaN  "
      ]
     },
     "execution_count": 78,
     "metadata": {},
     "output_type": "execute_result"
    }
   ],
   "source": [
    "column_names=['weibo_id','tweet_user','release_time','content']\n",
    "new_column_names=['wordlenth','URL','Hashtag','mention','picture','content_category','hongbao','guanzhu','choujiang']\n",
    "column_names=column_names+new_column_names\n",
    "WeiboProfile_train = pd.read_csv('WeiboProfile_train.csv',header = None,names=column_names)  #读取文件\n",
    "WeiboProfile_train.head(10)"
   ]
  },
  {
   "cell_type": "code",
   "execution_count": 83,
   "metadata": {
    "collapsed": false
   },
   "outputs": [],
   "source": [
    "#新特征1：微博长度\n",
    "def length(weibodata):\n",
    "    wordlength = []\n",
    "    for i in range(len(weibodata)):\n",
    "        wordlength.append(len(weibodata.content[i]))\n",
    "    return wordlength\n",
    "\n",
    "#新特征2：是否包含网址\n",
    "def URL(weibodata):\n",
    "    URL = []\n",
    "    for i in range(len(weibodata)):\n",
    "        if 'http' in weibodata.content[i]:\n",
    "            URL.append(1)\n",
    "        else:\n",
    "            URL.append(0)\n",
    "    return URL\n",
    "\n",
    "#新特征3：是否包含Hashtag\n",
    "def Hashtag(weibodata):\n",
    "    Hashtag = []\n",
    "    for i in range(len(weibodata)):\n",
    "        if weibodata.content[i].count('#') > 1:\n",
    "            Hashtag.append(1)\n",
    "        else:\n",
    "            Hashtag.append(0)\n",
    "    return Hashtag\n",
    "\n",
    "#新特征4：是否包含照片\n",
    "def picture(weibodata):\n",
    "    picture = []\n",
    "    for i in range(len(weibodata)):\n",
    "        if '【' in weibodata.content[i] or '图' in weibodata.content[i]:\n",
    "            picture.append(1)\n",
    "        else:\n",
    "            picture.append(0)\n",
    "    return picture\n",
    "\n",
    "#新特征5：已经提及别人\n",
    "def mention(weibodata):\n",
    "    mention = []\n",
    "    for i in range(len(weibodata)):\n",
    "        if '@' in weibodata.content[i]:\n",
    "            mention.append(1)\n",
    "        else:\n",
    "            mention.append(0)\n",
    "    return mention   "
   ]
  },
  {
   "cell_type": "code",
   "execution_count": 84,
   "metadata": {
    "collapsed": false
   },
   "outputs": [
    {
     "data": {
      "text/html": [
       "<div>\n",
       "<table border=\"1\" class=\"dataframe\">\n",
       "  <thead>\n",
       "    <tr style=\"text-align: right;\">\n",
       "      <th></th>\n",
       "      <th>weibo_id</th>\n",
       "      <th>tweet_user</th>\n",
       "      <th>release_time</th>\n",
       "      <th>wordlenth</th>\n",
       "      <th>URL</th>\n",
       "      <th>Hashtag</th>\n",
       "      <th>mention</th>\n",
       "      <th>picture</th>\n",
       "      <th>content_category</th>\n",
       "      <th>hongbao</th>\n",
       "      <th>guanzhu</th>\n",
       "      <th>choujiang</th>\n",
       "    </tr>\n",
       "  </thead>\n",
       "  <tbody>\n",
       "    <tr>\n",
       "      <th>1</th>\n",
       "      <td>3794305741726764</td>\n",
       "      <td>2724513</td>\n",
       "      <td>20.7833333333</td>\n",
       "      <td>51</td>\n",
       "      <td>0</td>\n",
       "      <td>0</td>\n",
       "      <td>0</td>\n",
       "      <td>0</td>\n",
       "      <td>0</td>\n",
       "      <td>0</td>\n",
       "      <td>0</td>\n",
       "      <td>0</td>\n",
       "    </tr>\n",
       "    <tr>\n",
       "      <th>2</th>\n",
       "      <td>3794545218812248</td>\n",
       "      <td>7460165</td>\n",
       "      <td>12.65</td>\n",
       "      <td>35</td>\n",
       "      <td>0</td>\n",
       "      <td>0</td>\n",
       "      <td>0</td>\n",
       "      <td>0</td>\n",
       "      <td>6</td>\n",
       "      <td>0</td>\n",
       "      <td>0</td>\n",
       "      <td>0</td>\n",
       "    </tr>\n",
       "    <tr>\n",
       "      <th>3</th>\n",
       "      <td>3794726233244929</td>\n",
       "      <td>7387806</td>\n",
       "      <td>0.633333333333</td>\n",
       "      <td>226</td>\n",
       "      <td>0</td>\n",
       "      <td>0</td>\n",
       "      <td>1</td>\n",
       "      <td>0</td>\n",
       "      <td>5</td>\n",
       "      <td>0</td>\n",
       "      <td>0</td>\n",
       "      <td>0</td>\n",
       "    </tr>\n",
       "    <tr>\n",
       "      <th>4</th>\n",
       "      <td>3794986804085757</td>\n",
       "      <td>8091415</td>\n",
       "      <td>17.8833333333</td>\n",
       "      <td>333</td>\n",
       "      <td>0</td>\n",
       "      <td>0</td>\n",
       "      <td>0</td>\n",
       "      <td>0</td>\n",
       "      <td>9</td>\n",
       "      <td>0</td>\n",
       "      <td>0</td>\n",
       "      <td>0</td>\n",
       "    </tr>\n",
       "    <tr>\n",
       "      <th>5</th>\n",
       "      <td>3795261795455671</td>\n",
       "      <td>8189779</td>\n",
       "      <td>12.1</td>\n",
       "      <td>32</td>\n",
       "      <td>0</td>\n",
       "      <td>0</td>\n",
       "      <td>0</td>\n",
       "      <td>0</td>\n",
       "      <td>3</td>\n",
       "      <td>0</td>\n",
       "      <td>0</td>\n",
       "      <td>0</td>\n",
       "    </tr>\n",
       "    <tr>\n",
       "      <th>6</th>\n",
       "      <td>3795438593411753</td>\n",
       "      <td>7298946</td>\n",
       "      <td>23.8</td>\n",
       "      <td>359</td>\n",
       "      <td>1</td>\n",
       "      <td>0</td>\n",
       "      <td>1</td>\n",
       "      <td>0</td>\n",
       "      <td>6</td>\n",
       "      <td>0</td>\n",
       "      <td>0</td>\n",
       "      <td>0</td>\n",
       "    </tr>\n",
       "    <tr>\n",
       "      <th>7</th>\n",
       "      <td>3795659825938762</td>\n",
       "      <td>7900610</td>\n",
       "      <td>14.4666666667</td>\n",
       "      <td>337</td>\n",
       "      <td>0</td>\n",
       "      <td>1</td>\n",
       "      <td>1</td>\n",
       "      <td>0</td>\n",
       "      <td>6</td>\n",
       "      <td>0</td>\n",
       "      <td>0</td>\n",
       "      <td>0</td>\n",
       "    </tr>\n",
       "    <tr>\n",
       "      <th>8</th>\n",
       "      <td>3795746757084016</td>\n",
       "      <td>8276724</td>\n",
       "      <td>20.2166666667</td>\n",
       "      <td>405</td>\n",
       "      <td>0</td>\n",
       "      <td>0</td>\n",
       "      <td>0</td>\n",
       "      <td>0</td>\n",
       "      <td>2</td>\n",
       "      <td>0</td>\n",
       "      <td>0</td>\n",
       "      <td>0</td>\n",
       "    </tr>\n",
       "    <tr>\n",
       "      <th>9</th>\n",
       "      <td>3796681650863771</td>\n",
       "      <td>7333613</td>\n",
       "      <td>10.1333333333</td>\n",
       "      <td>415</td>\n",
       "      <td>0</td>\n",
       "      <td>0</td>\n",
       "      <td>0</td>\n",
       "      <td>0</td>\n",
       "      <td>3</td>\n",
       "      <td>0</td>\n",
       "      <td>0</td>\n",
       "      <td>0</td>\n",
       "    </tr>\n",
       "    <tr>\n",
       "      <th>10</th>\n",
       "      <td>3796728916283233</td>\n",
       "      <td>8185330</td>\n",
       "      <td>13.2666666667</td>\n",
       "      <td>42</td>\n",
       "      <td>0</td>\n",
       "      <td>0</td>\n",
       "      <td>1</td>\n",
       "      <td>0</td>\n",
       "      <td>0</td>\n",
       "      <td>0</td>\n",
       "      <td>0</td>\n",
       "      <td>0</td>\n",
       "    </tr>\n",
       "  </tbody>\n",
       "</table>\n",
       "</div>"
      ],
      "text/plain": [
       "            weibo_id tweet_user    release_time  wordlenth  URL  Hashtag  \\\n",
       "1   3794305741726764    2724513   20.7833333333         51    0        0   \n",
       "2   3794545218812248    7460165           12.65         35    0        0   \n",
       "3   3794726233244929    7387806  0.633333333333        226    0        0   \n",
       "4   3794986804085757    8091415   17.8833333333        333    0        0   \n",
       "5   3795261795455671    8189779            12.1         32    0        0   \n",
       "6   3795438593411753    7298946            23.8        359    1        0   \n",
       "7   3795659825938762    7900610   14.4666666667        337    0        1   \n",
       "8   3795746757084016    8276724   20.2166666667        405    0        0   \n",
       "9   3796681650863771    7333613   10.1333333333        415    0        0   \n",
       "10  3796728916283233    8185330   13.2666666667         42    0        0   \n",
       "\n",
       "    mention  picture content_category  hongbao  guanzhu  choujiang  \n",
       "1         0        0                0        0        0          0  \n",
       "2         0        0                6        0        0          0  \n",
       "3         1        0                5        0        0          0  \n",
       "4         0        0                9        0        0          0  \n",
       "5         0        0                3        0        0          0  \n",
       "6         1        0                6        0        0          0  \n",
       "7         1        0                6        0        0          0  \n",
       "8         0        0                2        0        0          0  \n",
       "9         0        0                3        0        0          0  \n",
       "10        1        0                0        0        0          0  "
      ]
     },
     "execution_count": 84,
     "metadata": {},
     "output_type": "execute_result"
    }
   ],
   "source": [
    "#获取训练集的新字段\n",
    "Weibo_train.wordlenth = Weibo_train['content'].apply(lambda x: length(x))\n",
    "Weibo_train.URL = Weibo_train['content'].apply(lambda x: URL(x))\n",
    "Weibo_train.Hashtag = Weibo_train['content'].apply(lambda x: Hashtag(x))\n",
    "Weibo_train.picture = Weibo_train['content'].apply(lambda x: picture(x))\n",
    "Weibo_train.mention = Weibo_train['content'].apply(lambda x:mention(x))\n",
    "Weibo_train=Weibo_train.drop(0)\n",
    "Weibo_train.content_category=list(train_label)\n",
    "del Weibo_train['content']\n",
    "Weibo_train.head(10)\n",
    "\n",
    "#将其保存为csv文件以便今后使用\n",
    "WeiboProfile_train.to_csv('WeiboProfile_train_processed.csv',index=False)"
   ]
  },
  {
   "cell_type": "markdown",
   "metadata": {},
   "source": [
    "# 6 线下的训练过程"
   ]
  },
  {
   "cell_type": "markdown",
   "metadata": {},
   "source": [
    "## 6.1 训练集中各种特征的拼接"
   ]
  },
  {
   "cell_type": "code",
   "execution_count": 38,
   "metadata": {
    "collapsed": false
   },
   "outputs": [
    {
     "data": {
      "text/html": [
       "<div>\n",
       "<table border=\"1\" class=\"dataframe\">\n",
       "  <thead>\n",
       "    <tr style=\"text-align: right;\">\n",
       "      <th></th>\n",
       "      <th>tweet_user</th>\n",
       "      <th>out_degree2</th>\n",
       "      <th>in_degree2</th>\n",
       "      <th>all_degree2</th>\n",
       "      <th>bi_degree2</th>\n",
       "      <th>pagerank2</th>\n",
       "      <th>weibo_id</th>\n",
       "      <th>release_time</th>\n",
       "      <th>wordlenth</th>\n",
       "      <th>URL</th>\n",
       "      <th>...</th>\n",
       "      <th>depthT4245</th>\n",
       "      <th>depthT4260</th>\n",
       "      <th>depthT4275</th>\n",
       "      <th>depthT4290</th>\n",
       "      <th>depthT4305</th>\n",
       "      <th>depthT4320</th>\n",
       "      <th>depthT4335</th>\n",
       "      <th>depthT4350</th>\n",
       "      <th>depthT4365</th>\n",
       "      <th>depthT4380</th>\n",
       "    </tr>\n",
       "  </thead>\n",
       "  <tbody>\n",
       "    <tr>\n",
       "      <th>0</th>\n",
       "      <td>114011</td>\n",
       "      <td>0</td>\n",
       "      <td>255</td>\n",
       "      <td>252</td>\n",
       "      <td>0</td>\n",
       "      <td>14.1023</td>\n",
       "      <td>3974606387442802</td>\n",
       "      <td>9.616667</td>\n",
       "      <td>392</td>\n",
       "      <td>1</td>\n",
       "      <td>...</td>\n",
       "      <td>6</td>\n",
       "      <td>6</td>\n",
       "      <td>6</td>\n",
       "      <td>6</td>\n",
       "      <td>6</td>\n",
       "      <td>6</td>\n",
       "      <td>6</td>\n",
       "      <td>6</td>\n",
       "      <td>6</td>\n",
       "      <td>6</td>\n",
       "    </tr>\n",
       "    <tr>\n",
       "      <th>1</th>\n",
       "      <td>144652</td>\n",
       "      <td>7</td>\n",
       "      <td>1009</td>\n",
       "      <td>920</td>\n",
       "      <td>1</td>\n",
       "      <td>75.5127</td>\n",
       "      <td>3957274441700193</td>\n",
       "      <td>13.766667</td>\n",
       "      <td>96</td>\n",
       "      <td>1</td>\n",
       "      <td>...</td>\n",
       "      <td>7</td>\n",
       "      <td>7</td>\n",
       "      <td>7</td>\n",
       "      <td>7</td>\n",
       "      <td>7</td>\n",
       "      <td>7</td>\n",
       "      <td>7</td>\n",
       "      <td>7</td>\n",
       "      <td>7</td>\n",
       "      <td>7</td>\n",
       "    </tr>\n",
       "    <tr>\n",
       "      <th>2</th>\n",
       "      <td>144652</td>\n",
       "      <td>7</td>\n",
       "      <td>1009</td>\n",
       "      <td>920</td>\n",
       "      <td>1</td>\n",
       "      <td>75.5127</td>\n",
       "      <td>3959404967835125</td>\n",
       "      <td>10.866667</td>\n",
       "      <td>173</td>\n",
       "      <td>0</td>\n",
       "      <td>...</td>\n",
       "      <td>8</td>\n",
       "      <td>8</td>\n",
       "      <td>8</td>\n",
       "      <td>8</td>\n",
       "      <td>8</td>\n",
       "      <td>8</td>\n",
       "      <td>8</td>\n",
       "      <td>8</td>\n",
       "      <td>8</td>\n",
       "      <td>8</td>\n",
       "    </tr>\n",
       "    <tr>\n",
       "      <th>3</th>\n",
       "      <td>152768</td>\n",
       "      <td>0</td>\n",
       "      <td>547</td>\n",
       "      <td>543</td>\n",
       "      <td>0</td>\n",
       "      <td>77.5759</td>\n",
       "      <td>3954110896652586</td>\n",
       "      <td>20.266667</td>\n",
       "      <td>249</td>\n",
       "      <td>0</td>\n",
       "      <td>...</td>\n",
       "      <td>3</td>\n",
       "      <td>3</td>\n",
       "      <td>3</td>\n",
       "      <td>3</td>\n",
       "      <td>3</td>\n",
       "      <td>3</td>\n",
       "      <td>3</td>\n",
       "      <td>3</td>\n",
       "      <td>3</td>\n",
       "      <td>3</td>\n",
       "    </tr>\n",
       "    <tr>\n",
       "      <th>4</th>\n",
       "      <td>155435</td>\n",
       "      <td>0</td>\n",
       "      <td>385</td>\n",
       "      <td>380</td>\n",
       "      <td>0</td>\n",
       "      <td>50.0258</td>\n",
       "      <td>3951263068328236</td>\n",
       "      <td>23.650000</td>\n",
       "      <td>90</td>\n",
       "      <td>1</td>\n",
       "      <td>...</td>\n",
       "      <td>10</td>\n",
       "      <td>10</td>\n",
       "      <td>10</td>\n",
       "      <td>10</td>\n",
       "      <td>10</td>\n",
       "      <td>10</td>\n",
       "      <td>10</td>\n",
       "      <td>10</td>\n",
       "      <td>10</td>\n",
       "      <td>10</td>\n",
       "    </tr>\n",
       "    <tr>\n",
       "      <th>5</th>\n",
       "      <td>157223</td>\n",
       "      <td>0</td>\n",
       "      <td>1269</td>\n",
       "      <td>1096</td>\n",
       "      <td>0</td>\n",
       "      <td>82.6330</td>\n",
       "      <td>3958367494594822</td>\n",
       "      <td>14.166667</td>\n",
       "      <td>162</td>\n",
       "      <td>0</td>\n",
       "      <td>...</td>\n",
       "      <td>1</td>\n",
       "      <td>1</td>\n",
       "      <td>1</td>\n",
       "      <td>1</td>\n",
       "      <td>1</td>\n",
       "      <td>1</td>\n",
       "      <td>1</td>\n",
       "      <td>1</td>\n",
       "      <td>1</td>\n",
       "      <td>1</td>\n",
       "    </tr>\n",
       "    <tr>\n",
       "      <th>6</th>\n",
       "      <td>157223</td>\n",
       "      <td>0</td>\n",
       "      <td>1269</td>\n",
       "      <td>1096</td>\n",
       "      <td>0</td>\n",
       "      <td>82.6330</td>\n",
       "      <td>3963034382906252</td>\n",
       "      <td>11.233333</td>\n",
       "      <td>14</td>\n",
       "      <td>0</td>\n",
       "      <td>...</td>\n",
       "      <td>1</td>\n",
       "      <td>1</td>\n",
       "      <td>1</td>\n",
       "      <td>1</td>\n",
       "      <td>1</td>\n",
       "      <td>1</td>\n",
       "      <td>1</td>\n",
       "      <td>1</td>\n",
       "      <td>1</td>\n",
       "      <td>1</td>\n",
       "    </tr>\n",
       "    <tr>\n",
       "      <th>7</th>\n",
       "      <td>157223</td>\n",
       "      <td>0</td>\n",
       "      <td>1269</td>\n",
       "      <td>1096</td>\n",
       "      <td>0</td>\n",
       "      <td>82.6330</td>\n",
       "      <td>3963022601009002</td>\n",
       "      <td>10.466667</td>\n",
       "      <td>296</td>\n",
       "      <td>0</td>\n",
       "      <td>...</td>\n",
       "      <td>1</td>\n",
       "      <td>1</td>\n",
       "      <td>1</td>\n",
       "      <td>1</td>\n",
       "      <td>1</td>\n",
       "      <td>1</td>\n",
       "      <td>1</td>\n",
       "      <td>1</td>\n",
       "      <td>1</td>\n",
       "      <td>1</td>\n",
       "    </tr>\n",
       "    <tr>\n",
       "      <th>8</th>\n",
       "      <td>157245</td>\n",
       "      <td>0</td>\n",
       "      <td>2026</td>\n",
       "      <td>1989</td>\n",
       "      <td>0</td>\n",
       "      <td>218.6380</td>\n",
       "      <td>3966639445423588</td>\n",
       "      <td>10.000000</td>\n",
       "      <td>86</td>\n",
       "      <td>0</td>\n",
       "      <td>...</td>\n",
       "      <td>2</td>\n",
       "      <td>2</td>\n",
       "      <td>2</td>\n",
       "      <td>2</td>\n",
       "      <td>2</td>\n",
       "      <td>2</td>\n",
       "      <td>2</td>\n",
       "      <td>2</td>\n",
       "      <td>2</td>\n",
       "      <td>2</td>\n",
       "    </tr>\n",
       "    <tr>\n",
       "      <th>9</th>\n",
       "      <td>157245</td>\n",
       "      <td>0</td>\n",
       "      <td>2026</td>\n",
       "      <td>1989</td>\n",
       "      <td>0</td>\n",
       "      <td>218.6380</td>\n",
       "      <td>3956326495593412</td>\n",
       "      <td>23.000000</td>\n",
       "      <td>67</td>\n",
       "      <td>0</td>\n",
       "      <td>...</td>\n",
       "      <td>4</td>\n",
       "      <td>4</td>\n",
       "      <td>4</td>\n",
       "      <td>4</td>\n",
       "      <td>4</td>\n",
       "      <td>4</td>\n",
       "      <td>4</td>\n",
       "      <td>4</td>\n",
       "      <td>4</td>\n",
       "      <td>4</td>\n",
       "    </tr>\n",
       "  </tbody>\n",
       "</table>\n",
       "<p>10 rows × 718 columns</p>\n",
       "</div>"
      ],
      "text/plain": [
       "   tweet_user  out_degree2  in_degree2  all_degree2  bi_degree2  pagerank2  \\\n",
       "0      114011            0         255          252           0    14.1023   \n",
       "1      144652            7        1009          920           1    75.5127   \n",
       "2      144652            7        1009          920           1    75.5127   \n",
       "3      152768            0         547          543           0    77.5759   \n",
       "4      155435            0         385          380           0    50.0258   \n",
       "5      157223            0        1269         1096           0    82.6330   \n",
       "6      157223            0        1269         1096           0    82.6330   \n",
       "7      157223            0        1269         1096           0    82.6330   \n",
       "8      157245            0        2026         1989           0   218.6380   \n",
       "9      157245            0        2026         1989           0   218.6380   \n",
       "\n",
       "           weibo_id  release_time  wordlenth  URL     ...      depthT4245  \\\n",
       "0  3974606387442802      9.616667        392    1     ...               6   \n",
       "1  3957274441700193     13.766667         96    1     ...               7   \n",
       "2  3959404967835125     10.866667        173    0     ...               8   \n",
       "3  3954110896652586     20.266667        249    0     ...               3   \n",
       "4  3951263068328236     23.650000         90    1     ...              10   \n",
       "5  3958367494594822     14.166667        162    0     ...               1   \n",
       "6  3963034382906252     11.233333         14    0     ...               1   \n",
       "7  3963022601009002     10.466667        296    0     ...               1   \n",
       "8  3966639445423588     10.000000         86    0     ...               2   \n",
       "9  3956326495593412     23.000000         67    0     ...               4   \n",
       "\n",
       "   depthT4260  depthT4275  depthT4290  depthT4305  depthT4320  depthT4335  \\\n",
       "0           6           6           6           6           6           6   \n",
       "1           7           7           7           7           7           7   \n",
       "2           8           8           8           8           8           8   \n",
       "3           3           3           3           3           3           3   \n",
       "4          10          10          10          10          10          10   \n",
       "5           1           1           1           1           1           1   \n",
       "6           1           1           1           1           1           1   \n",
       "7           1           1           1           1           1           1   \n",
       "8           2           2           2           2           2           2   \n",
       "9           4           4           4           4           4           4   \n",
       "\n",
       "   depthT4350  depthT4365  depthT4380  \n",
       "0           6           6           6  \n",
       "1           7           7           7  \n",
       "2           8           8           8  \n",
       "3           3           3           3  \n",
       "4          10          10          10  \n",
       "5           1           1           1  \n",
       "6           1           1           1  \n",
       "7           1           1           1  \n",
       "8           2           2           2  \n",
       "9           4           4           4  \n",
       "\n",
       "[10 rows x 718 columns]"
      ]
     },
     "execution_count": 38,
     "metadata": {},
     "output_type": "execute_result"
    }
   ],
   "source": [
    "#读入各种csv文件到内存空间\n",
    "#WeiboProfile_train_processed：每条微博对应的文本特征\n",
    "WeiboProfile_train_processed=pd.read_csv('WeiboProfile_train_processed.csv')\n",
    "\n",
    "#users_G2：每条微博首发用户对应的传播网络特征\n",
    "users_G2=pd.read_csv('users_G2.csv')\n",
    "\n",
    "#基于同一个用户作标示，将上述两个特征进行合并\n",
    "WeiboProfile_train_tmp1=pd.merge(users_G2,WeiboProfile_train_processed,on='tweet_user', how='inner')\n",
    "\n",
    "#users_G1：每条微博首发用户对应的结构网络特征\n",
    "users_G1=pd.read_csv('users_G1.csv')\n",
    "WeiboProfile_train_tmp=pd.merge(WeiboProfile_train_tmp1,users_G1,on='tweet_user', how='inner')\n",
    "\n",
    "#WeiboProfile_train_spreading：每一个weino_id下的的传播情况，在每一时刻该树的深度，根节点被转发的数量\n",
    "WeiboProfile_train_spreading=pd.read_csv('WeiboProfile_train_spreading.csv')\n",
    "\n",
    "#基于同一个微博作标示，将上述特征进行合并\n",
    "WeiboProfile_train_final=pd.merge(WeiboProfile_train_tmp,WeiboProfile_train_spreading,on='weibo_id', how='inner')\n",
    "\n",
    "#将其保存为csv文件以便今后使用\n",
    "WeiboProfile_train_final.to_csv('WeiboProfile_train_final.csv',index=False)\n",
    "WeiboProfile_train_final.head(10)"
   ]
  },
  {
   "cell_type": "code",
   "execution_count": 39,
   "metadata": {
    "collapsed": false
   },
   "outputs": [
    {
     "data": {
      "text/html": [
       "<pre>Finished parsing file /Users/xiaokeeie/all_datasets/weibojingsai/WeiboProfile_train_final.csv</pre>"
      ],
      "text/plain": [
       "Finished parsing file /Users/xiaokeeie/all_datasets/weibojingsai/WeiboProfile_train_final.csv"
      ]
     },
     "metadata": {},
     "output_type": "display_data"
    },
    {
     "data": {
      "text/html": [
       "<pre>Parsing completed. Parsed 100 lines in 0.795602 secs.</pre>"
      ],
      "text/plain": [
       "Parsing completed. Parsed 100 lines in 0.795602 secs."
      ]
     },
     "metadata": {},
     "output_type": "display_data"
    },
    {
     "data": {
      "text/html": [
       "<pre>Read 25027 lines. Lines per second: 12396</pre>"
      ],
      "text/plain": [
       "Read 25027 lines. Lines per second: 12396"
      ]
     },
     "metadata": {},
     "output_type": "display_data"
    },
    {
     "data": {
      "text/html": [
       "<pre>Finished parsing file /Users/xiaokeeie/all_datasets/weibojingsai/WeiboProfile_train_final.csv</pre>"
      ],
      "text/plain": [
       "Finished parsing file /Users/xiaokeeie/all_datasets/weibojingsai/WeiboProfile_train_final.csv"
      ]
     },
     "metadata": {},
     "output_type": "display_data"
    },
    {
     "data": {
      "text/html": [
       "<pre>Parsing completed. Parsed 26955 lines in 2.11722 secs.</pre>"
      ],
      "text/plain": [
       "Parsing completed. Parsed 26955 lines in 2.11722 secs."
      ]
     },
     "metadata": {},
     "output_type": "display_data"
    },
    {
     "name": "stdout",
     "output_type": "stream",
     "text": [
      "------------------------------------------------------\n",
      "Inferred types from first 100 line(s) of file as \n",
      "column_type_hints=[int,int,int,int,int,float,int,float,int,int,int,int,int,int,int,int,int,float,int,int,int,int,int,int,int,int,int,int,int,int,int,int,int,int,int,int,int,int,int,int,int,int,int,int,int,int,int,int,int,int,int,int,int,int,int,int,int,int,int,int,int,int,int,int,int,int,int,int,int,int,int,int,int,int,int,int,int,int,int,int,int,int,int,int,int,int,int,int,int,int,int,int,int,int,int,int,int,int,int,int,int,int,int,int,int,int,int,int,int,int,int,int,int,int,int,int,int,int,int,int,int,int,int,int,int,int,int,int,int,int,int,int,int,int,int,int,int,int,int,int,int,int,int,int,int,int,int,int,int,int,int,int,int,int,int,int,int,int,int,int,int,int,int,int,int,int,int,int,int,int,int,int,int,int,int,int,int,int,int,int,int,int,int,int,int,int,int,int,int,int,int,int,int,int,int,int,int,int,int,int,int,int,int,int,int,int,int,int,int,int,int,int,int,int,int,int,int,int,int,int,int,int,int,int,int,int,int,int,int,int,int,int,int,int,int,int,int,int,int,int,int,int,int,int,int,int,int,int,int,int,int,int,int,int,int,int,int,int,int,int,int,int,int,int,int,int,int,int,int,int,int,int,int,int,int,int,int,int,int,int,int,int,int,int,int,int,int,int,int,int,int,int,int,int,int,int,int,int,int,int,int,int,int,int,int,int,int,int,int,int,int,int,int,int,int,int,int,int,int,int,int,int,int,int,int,int,int,int,int,int,int,int,int,int,int,int,int,int,int,int,int,int,int,int,int,int,int,int,int,int,int,int,int,int,int,int,int,int,int,int,int,int,int,int,int,int,int,int,int,int,int,int,int,int,int,int,int,int,int,int,int,int,int,int,int,int,int,int,int,int,int,int,int,int,int,int,int,int,int,int,int,int,int,int,int,int,int,int,int,int,int,int,int,int,int,int,int,int,int,int,int,int,int,int,int,int,int,int,int,int,int,int,int,int,int,int,int,int,int,int,int,int,int,int,int,int,int,int,int,int,int,int,int,int,int,int,int,int,int,int,int,int,int,int,int,int,int,int,int,int,int,int,int,int,int,int,int,int,int,int,int,int,int,int,int,int,int,int,int,int,int,int,int,int,int,int,int,int,int,int,int,int,int,int,int,int,int,int,int,int,int,int,int,int,int,int,int,int,int,int,int,int,int,int,int,int,int,int,int,int,int,int,int,int,int,int,int,int,int,int,int,int,int,int,int,int,int,int,int,int,int,int,int,int,int,int,int,int,int,int,int,int,int,int,int,int,int,int,int,int,int,int,int,int,int,int,int,int,int,int,int,int,int,int,int,int,int,int,int,int,int,int,int,int,int,int,int,int,int,int,int,int,int,int,int,int,int,int,int,int,int,int,int,int,int,int,int,int,int,int,int,int,int,int,int,int,int,int,int,int,int,int,int,int,int,int,int,int,int,int,int,int,int,int,int,int,int,int,int,int,int,int,int,int,int,int,int,int,int,int,int,int,int,int,int,int,int,int,int,int,int,int,int,int,int,int,int,int,int,int,int,int,int,int,int,int,int,int,int,int,int,int,int,int,int,int,int,int,int,int,int,int,int,int,int,int,int,int,int,int,int,int,int,int,int,int,int,int]\n",
      "If parsing fails due to incorrect types, you can correct\n",
      "the inferred type list above and pass it to read_csv in\n",
      "the column_type_hints argument\n",
      "------------------------------------------------------\n"
     ]
    },
    {
     "data": {
      "text/html": [
       "<div style=\"max-height:1000px;max-width:1500px;overflow:auto;\"><table frame=\"box\" rules=\"cols\">\n",
       "    <tr>\n",
       "        <th style=\"padding-left: 1em; padding-right: 1em; text-align: center\">tweet_user</th>\n",
       "        <th style=\"padding-left: 1em; padding-right: 1em; text-align: center\">out_degree2</th>\n",
       "        <th style=\"padding-left: 1em; padding-right: 1em; text-align: center\">in_degree2</th>\n",
       "        <th style=\"padding-left: 1em; padding-right: 1em; text-align: center\">all_degree2</th>\n",
       "        <th style=\"padding-left: 1em; padding-right: 1em; text-align: center\">bi_degree2</th>\n",
       "        <th style=\"padding-left: 1em; padding-right: 1em; text-align: center\">pagerank2</th>\n",
       "        <th style=\"padding-left: 1em; padding-right: 1em; text-align: center\">weibo_id</th>\n",
       "        <th style=\"padding-left: 1em; padding-right: 1em; text-align: center\">release_time</th>\n",
       "        <th style=\"padding-left: 1em; padding-right: 1em; text-align: center\">wordlenth</th>\n",
       "    </tr>\n",
       "    <tr>\n",
       "        <td style=\"padding-left: 1em; padding-right: 1em; text-align: center; vertical-align: top\">114011</td>\n",
       "        <td style=\"padding-left: 1em; padding-right: 1em; text-align: center; vertical-align: top\">0</td>\n",
       "        <td style=\"padding-left: 1em; padding-right: 1em; text-align: center; vertical-align: top\">255</td>\n",
       "        <td style=\"padding-left: 1em; padding-right: 1em; text-align: center; vertical-align: top\">252</td>\n",
       "        <td style=\"padding-left: 1em; padding-right: 1em; text-align: center; vertical-align: top\">0</td>\n",
       "        <td style=\"padding-left: 1em; padding-right: 1em; text-align: center; vertical-align: top\">14.1023</td>\n",
       "        <td style=\"padding-left: 1em; padding-right: 1em; text-align: center; vertical-align: top\">3974606387442802</td>\n",
       "        <td style=\"padding-left: 1em; padding-right: 1em; text-align: center; vertical-align: top\">9.61666666667</td>\n",
       "        <td style=\"padding-left: 1em; padding-right: 1em; text-align: center; vertical-align: top\">392</td>\n",
       "    </tr>\n",
       "    <tr>\n",
       "        <td style=\"padding-left: 1em; padding-right: 1em; text-align: center; vertical-align: top\">144652</td>\n",
       "        <td style=\"padding-left: 1em; padding-right: 1em; text-align: center; vertical-align: top\">7</td>\n",
       "        <td style=\"padding-left: 1em; padding-right: 1em; text-align: center; vertical-align: top\">1009</td>\n",
       "        <td style=\"padding-left: 1em; padding-right: 1em; text-align: center; vertical-align: top\">920</td>\n",
       "        <td style=\"padding-left: 1em; padding-right: 1em; text-align: center; vertical-align: top\">1</td>\n",
       "        <td style=\"padding-left: 1em; padding-right: 1em; text-align: center; vertical-align: top\">75.5127</td>\n",
       "        <td style=\"padding-left: 1em; padding-right: 1em; text-align: center; vertical-align: top\">3957274441700193</td>\n",
       "        <td style=\"padding-left: 1em; padding-right: 1em; text-align: center; vertical-align: top\">13.7666666667</td>\n",
       "        <td style=\"padding-left: 1em; padding-right: 1em; text-align: center; vertical-align: top\">96</td>\n",
       "    </tr>\n",
       "    <tr>\n",
       "        <td style=\"padding-left: 1em; padding-right: 1em; text-align: center; vertical-align: top\">144652</td>\n",
       "        <td style=\"padding-left: 1em; padding-right: 1em; text-align: center; vertical-align: top\">7</td>\n",
       "        <td style=\"padding-left: 1em; padding-right: 1em; text-align: center; vertical-align: top\">1009</td>\n",
       "        <td style=\"padding-left: 1em; padding-right: 1em; text-align: center; vertical-align: top\">920</td>\n",
       "        <td style=\"padding-left: 1em; padding-right: 1em; text-align: center; vertical-align: top\">1</td>\n",
       "        <td style=\"padding-left: 1em; padding-right: 1em; text-align: center; vertical-align: top\">75.5127</td>\n",
       "        <td style=\"padding-left: 1em; padding-right: 1em; text-align: center; vertical-align: top\">3959404967835125</td>\n",
       "        <td style=\"padding-left: 1em; padding-right: 1em; text-align: center; vertical-align: top\">10.8666666667</td>\n",
       "        <td style=\"padding-left: 1em; padding-right: 1em; text-align: center; vertical-align: top\">173</td>\n",
       "    </tr>\n",
       "    <tr>\n",
       "        <td style=\"padding-left: 1em; padding-right: 1em; text-align: center; vertical-align: top\">152768</td>\n",
       "        <td style=\"padding-left: 1em; padding-right: 1em; text-align: center; vertical-align: top\">0</td>\n",
       "        <td style=\"padding-left: 1em; padding-right: 1em; text-align: center; vertical-align: top\">547</td>\n",
       "        <td style=\"padding-left: 1em; padding-right: 1em; text-align: center; vertical-align: top\">543</td>\n",
       "        <td style=\"padding-left: 1em; padding-right: 1em; text-align: center; vertical-align: top\">0</td>\n",
       "        <td style=\"padding-left: 1em; padding-right: 1em; text-align: center; vertical-align: top\">77.5759</td>\n",
       "        <td style=\"padding-left: 1em; padding-right: 1em; text-align: center; vertical-align: top\">3954110896652586</td>\n",
       "        <td style=\"padding-left: 1em; padding-right: 1em; text-align: center; vertical-align: top\">20.2666666667</td>\n",
       "        <td style=\"padding-left: 1em; padding-right: 1em; text-align: center; vertical-align: top\">249</td>\n",
       "    </tr>\n",
       "    <tr>\n",
       "        <td style=\"padding-left: 1em; padding-right: 1em; text-align: center; vertical-align: top\">155435</td>\n",
       "        <td style=\"padding-left: 1em; padding-right: 1em; text-align: center; vertical-align: top\">0</td>\n",
       "        <td style=\"padding-left: 1em; padding-right: 1em; text-align: center; vertical-align: top\">385</td>\n",
       "        <td style=\"padding-left: 1em; padding-right: 1em; text-align: center; vertical-align: top\">380</td>\n",
       "        <td style=\"padding-left: 1em; padding-right: 1em; text-align: center; vertical-align: top\">0</td>\n",
       "        <td style=\"padding-left: 1em; padding-right: 1em; text-align: center; vertical-align: top\">50.0258</td>\n",
       "        <td style=\"padding-left: 1em; padding-right: 1em; text-align: center; vertical-align: top\">3951263068328236</td>\n",
       "        <td style=\"padding-left: 1em; padding-right: 1em; text-align: center; vertical-align: top\">23.65</td>\n",
       "        <td style=\"padding-left: 1em; padding-right: 1em; text-align: center; vertical-align: top\">90</td>\n",
       "    </tr>\n",
       "    <tr>\n",
       "        <td style=\"padding-left: 1em; padding-right: 1em; text-align: center; vertical-align: top\">157223</td>\n",
       "        <td style=\"padding-left: 1em; padding-right: 1em; text-align: center; vertical-align: top\">0</td>\n",
       "        <td style=\"padding-left: 1em; padding-right: 1em; text-align: center; vertical-align: top\">1269</td>\n",
       "        <td style=\"padding-left: 1em; padding-right: 1em; text-align: center; vertical-align: top\">1096</td>\n",
       "        <td style=\"padding-left: 1em; padding-right: 1em; text-align: center; vertical-align: top\">0</td>\n",
       "        <td style=\"padding-left: 1em; padding-right: 1em; text-align: center; vertical-align: top\">82.633</td>\n",
       "        <td style=\"padding-left: 1em; padding-right: 1em; text-align: center; vertical-align: top\">3958367494594822</td>\n",
       "        <td style=\"padding-left: 1em; padding-right: 1em; text-align: center; vertical-align: top\">14.1666666667</td>\n",
       "        <td style=\"padding-left: 1em; padding-right: 1em; text-align: center; vertical-align: top\">162</td>\n",
       "    </tr>\n",
       "    <tr>\n",
       "        <td style=\"padding-left: 1em; padding-right: 1em; text-align: center; vertical-align: top\">157223</td>\n",
       "        <td style=\"padding-left: 1em; padding-right: 1em; text-align: center; vertical-align: top\">0</td>\n",
       "        <td style=\"padding-left: 1em; padding-right: 1em; text-align: center; vertical-align: top\">1269</td>\n",
       "        <td style=\"padding-left: 1em; padding-right: 1em; text-align: center; vertical-align: top\">1096</td>\n",
       "        <td style=\"padding-left: 1em; padding-right: 1em; text-align: center; vertical-align: top\">0</td>\n",
       "        <td style=\"padding-left: 1em; padding-right: 1em; text-align: center; vertical-align: top\">82.633</td>\n",
       "        <td style=\"padding-left: 1em; padding-right: 1em; text-align: center; vertical-align: top\">3963034382906252</td>\n",
       "        <td style=\"padding-left: 1em; padding-right: 1em; text-align: center; vertical-align: top\">11.2333333333</td>\n",
       "        <td style=\"padding-left: 1em; padding-right: 1em; text-align: center; vertical-align: top\">14</td>\n",
       "    </tr>\n",
       "    <tr>\n",
       "        <td style=\"padding-left: 1em; padding-right: 1em; text-align: center; vertical-align: top\">157223</td>\n",
       "        <td style=\"padding-left: 1em; padding-right: 1em; text-align: center; vertical-align: top\">0</td>\n",
       "        <td style=\"padding-left: 1em; padding-right: 1em; text-align: center; vertical-align: top\">1269</td>\n",
       "        <td style=\"padding-left: 1em; padding-right: 1em; text-align: center; vertical-align: top\">1096</td>\n",
       "        <td style=\"padding-left: 1em; padding-right: 1em; text-align: center; vertical-align: top\">0</td>\n",
       "        <td style=\"padding-left: 1em; padding-right: 1em; text-align: center; vertical-align: top\">82.633</td>\n",
       "        <td style=\"padding-left: 1em; padding-right: 1em; text-align: center; vertical-align: top\">3963022601009002</td>\n",
       "        <td style=\"padding-left: 1em; padding-right: 1em; text-align: center; vertical-align: top\">10.4666666667</td>\n",
       "        <td style=\"padding-left: 1em; padding-right: 1em; text-align: center; vertical-align: top\">296</td>\n",
       "    </tr>\n",
       "    <tr>\n",
       "        <td style=\"padding-left: 1em; padding-right: 1em; text-align: center; vertical-align: top\">157245</td>\n",
       "        <td style=\"padding-left: 1em; padding-right: 1em; text-align: center; vertical-align: top\">0</td>\n",
       "        <td style=\"padding-left: 1em; padding-right: 1em; text-align: center; vertical-align: top\">2026</td>\n",
       "        <td style=\"padding-left: 1em; padding-right: 1em; text-align: center; vertical-align: top\">1989</td>\n",
       "        <td style=\"padding-left: 1em; padding-right: 1em; text-align: center; vertical-align: top\">0</td>\n",
       "        <td style=\"padding-left: 1em; padding-right: 1em; text-align: center; vertical-align: top\">218.638</td>\n",
       "        <td style=\"padding-left: 1em; padding-right: 1em; text-align: center; vertical-align: top\">3966639445423588</td>\n",
       "        <td style=\"padding-left: 1em; padding-right: 1em; text-align: center; vertical-align: top\">10.0</td>\n",
       "        <td style=\"padding-left: 1em; padding-right: 1em; text-align: center; vertical-align: top\">86</td>\n",
       "    </tr>\n",
       "    <tr>\n",
       "        <td style=\"padding-left: 1em; padding-right: 1em; text-align: center; vertical-align: top\">157245</td>\n",
       "        <td style=\"padding-left: 1em; padding-right: 1em; text-align: center; vertical-align: top\">0</td>\n",
       "        <td style=\"padding-left: 1em; padding-right: 1em; text-align: center; vertical-align: top\">2026</td>\n",
       "        <td style=\"padding-left: 1em; padding-right: 1em; text-align: center; vertical-align: top\">1989</td>\n",
       "        <td style=\"padding-left: 1em; padding-right: 1em; text-align: center; vertical-align: top\">0</td>\n",
       "        <td style=\"padding-left: 1em; padding-right: 1em; text-align: center; vertical-align: top\">218.638</td>\n",
       "        <td style=\"padding-left: 1em; padding-right: 1em; text-align: center; vertical-align: top\">3956326495593412</td>\n",
       "        <td style=\"padding-left: 1em; padding-right: 1em; text-align: center; vertical-align: top\">23.0</td>\n",
       "        <td style=\"padding-left: 1em; padding-right: 1em; text-align: center; vertical-align: top\">67</td>\n",
       "    </tr>\n",
       "</table>\n",
       "<table frame=\"box\" rules=\"cols\">\n",
       "    <tr>\n",
       "        <th style=\"padding-left: 1em; padding-right: 1em; text-align: center\">URL</th>\n",
       "        <th style=\"padding-left: 1em; padding-right: 1em; text-align: center\">Hashtag</th>\n",
       "        <th style=\"padding-left: 1em; padding-right: 1em; text-align: center\">mention</th>\n",
       "        <th style=\"padding-left: 1em; padding-right: 1em; text-align: center\">picture</th>\n",
       "        <th style=\"padding-left: 1em; padding-right: 1em; text-align: center\">content_category</th>\n",
       "        <th style=\"padding-left: 1em; padding-right: 1em; text-align: center\">hongbao</th>\n",
       "        <th style=\"padding-left: 1em; padding-right: 1em; text-align: center\">guanzhu</th>\n",
       "        <th style=\"padding-left: 1em; padding-right: 1em; text-align: center\">choujiang</th>\n",
       "        <th style=\"padding-left: 1em; padding-right: 1em; text-align: center\">pagerank1</th>\n",
       "        <th style=\"padding-left: 1em; padding-right: 1em; text-align: center\">out_degree1</th>\n",
       "        <th style=\"padding-left: 1em; padding-right: 1em; text-align: center\">in_degree1</th>\n",
       "    </tr>\n",
       "    <tr>\n",
       "        <td style=\"padding-left: 1em; padding-right: 1em; text-align: center; vertical-align: top\">1</td>\n",
       "        <td style=\"padding-left: 1em; padding-right: 1em; text-align: center; vertical-align: top\">1</td>\n",
       "        <td style=\"padding-left: 1em; padding-right: 1em; text-align: center; vertical-align: top\">0</td>\n",
       "        <td style=\"padding-left: 1em; padding-right: 1em; text-align: center; vertical-align: top\">1</td>\n",
       "        <td style=\"padding-left: 1em; padding-right: 1em; text-align: center; vertical-align: top\">6</td>\n",
       "        <td style=\"padding-left: 1em; padding-right: 1em; text-align: center; vertical-align: top\">0</td>\n",
       "        <td style=\"padding-left: 1em; padding-right: 1em; text-align: center; vertical-align: top\">0</td>\n",
       "        <td style=\"padding-left: 1em; padding-right: 1em; text-align: center; vertical-align: top\">0</td>\n",
       "        <td style=\"padding-left: 1em; padding-right: 1em; text-align: center; vertical-align: top\">1.97947</td>\n",
       "        <td style=\"padding-left: 1em; padding-right: 1em; text-align: center; vertical-align: top\">0</td>\n",
       "        <td style=\"padding-left: 1em; padding-right: 1em; text-align: center; vertical-align: top\">64</td>\n",
       "    </tr>\n",
       "    <tr>\n",
       "        <td style=\"padding-left: 1em; padding-right: 1em; text-align: center; vertical-align: top\">1</td>\n",
       "        <td style=\"padding-left: 1em; padding-right: 1em; text-align: center; vertical-align: top\">1</td>\n",
       "        <td style=\"padding-left: 1em; padding-right: 1em; text-align: center; vertical-align: top\">1</td>\n",
       "        <td style=\"padding-left: 1em; padding-right: 1em; text-align: center; vertical-align: top\">0</td>\n",
       "        <td style=\"padding-left: 1em; padding-right: 1em; text-align: center; vertical-align: top\">6</td>\n",
       "        <td style=\"padding-left: 1em; padding-right: 1em; text-align: center; vertical-align: top\">0</td>\n",
       "        <td style=\"padding-left: 1em; padding-right: 1em; text-align: center; vertical-align: top\">0</td>\n",
       "        <td style=\"padding-left: 1em; padding-right: 1em; text-align: center; vertical-align: top\">0</td>\n",
       "        <td style=\"padding-left: 1em; padding-right: 1em; text-align: center; vertical-align: top\">1.32334</td>\n",
       "        <td style=\"padding-left: 1em; padding-right: 1em; text-align: center; vertical-align: top\">141</td>\n",
       "        <td style=\"padding-left: 1em; padding-right: 1em; text-align: center; vertical-align: top\">279</td>\n",
       "    </tr>\n",
       "    <tr>\n",
       "        <td style=\"padding-left: 1em; padding-right: 1em; text-align: center; vertical-align: top\">0</td>\n",
       "        <td style=\"padding-left: 1em; padding-right: 1em; text-align: center; vertical-align: top\">1</td>\n",
       "        <td style=\"padding-left: 1em; padding-right: 1em; text-align: center; vertical-align: top\">0</td>\n",
       "        <td style=\"padding-left: 1em; padding-right: 1em; text-align: center; vertical-align: top\">0</td>\n",
       "        <td style=\"padding-left: 1em; padding-right: 1em; text-align: center; vertical-align: top\">4</td>\n",
       "        <td style=\"padding-left: 1em; padding-right: 1em; text-align: center; vertical-align: top\">0</td>\n",
       "        <td style=\"padding-left: 1em; padding-right: 1em; text-align: center; vertical-align: top\">0</td>\n",
       "        <td style=\"padding-left: 1em; padding-right: 1em; text-align: center; vertical-align: top\">0</td>\n",
       "        <td style=\"padding-left: 1em; padding-right: 1em; text-align: center; vertical-align: top\">1.32334</td>\n",
       "        <td style=\"padding-left: 1em; padding-right: 1em; text-align: center; vertical-align: top\">141</td>\n",
       "        <td style=\"padding-left: 1em; padding-right: 1em; text-align: center; vertical-align: top\">279</td>\n",
       "    </tr>\n",
       "    <tr>\n",
       "        <td style=\"padding-left: 1em; padding-right: 1em; text-align: center; vertical-align: top\">0</td>\n",
       "        <td style=\"padding-left: 1em; padding-right: 1em; text-align: center; vertical-align: top\">0</td>\n",
       "        <td style=\"padding-left: 1em; padding-right: 1em; text-align: center; vertical-align: top\">0</td>\n",
       "        <td style=\"padding-left: 1em; padding-right: 1em; text-align: center; vertical-align: top\">0</td>\n",
       "        <td style=\"padding-left: 1em; padding-right: 1em; text-align: center; vertical-align: top\">7</td>\n",
       "        <td style=\"padding-left: 1em; padding-right: 1em; text-align: center; vertical-align: top\">0</td>\n",
       "        <td style=\"padding-left: 1em; padding-right: 1em; text-align: center; vertical-align: top\">0</td>\n",
       "        <td style=\"padding-left: 1em; padding-right: 1em; text-align: center; vertical-align: top\">0</td>\n",
       "        <td style=\"padding-left: 1em; padding-right: 1em; text-align: center; vertical-align: top\">197.497</td>\n",
       "        <td style=\"padding-left: 1em; padding-right: 1em; text-align: center; vertical-align: top\">0</td>\n",
       "        <td style=\"padding-left: 1em; padding-right: 1em; text-align: center; vertical-align: top\">2036</td>\n",
       "    </tr>\n",
       "    <tr>\n",
       "        <td style=\"padding-left: 1em; padding-right: 1em; text-align: center; vertical-align: top\">1</td>\n",
       "        <td style=\"padding-left: 1em; padding-right: 1em; text-align: center; vertical-align: top\">1</td>\n",
       "        <td style=\"padding-left: 1em; padding-right: 1em; text-align: center; vertical-align: top\">0</td>\n",
       "        <td style=\"padding-left: 1em; padding-right: 1em; text-align: center; vertical-align: top\">0</td>\n",
       "        <td style=\"padding-left: 1em; padding-right: 1em; text-align: center; vertical-align: top\">9</td>\n",
       "        <td style=\"padding-left: 1em; padding-right: 1em; text-align: center; vertical-align: top\">0</td>\n",
       "        <td style=\"padding-left: 1em; padding-right: 1em; text-align: center; vertical-align: top\">0</td>\n",
       "        <td style=\"padding-left: 1em; padding-right: 1em; text-align: center; vertical-align: top\">0</td>\n",
       "        <td style=\"padding-left: 1em; padding-right: 1em; text-align: center; vertical-align: top\">10.1682</td>\n",
       "        <td style=\"padding-left: 1em; padding-right: 1em; text-align: center; vertical-align: top\">13</td>\n",
       "        <td style=\"padding-left: 1em; padding-right: 1em; text-align: center; vertical-align: top\">1358</td>\n",
       "    </tr>\n",
       "    <tr>\n",
       "        <td style=\"padding-left: 1em; padding-right: 1em; text-align: center; vertical-align: top\">0</td>\n",
       "        <td style=\"padding-left: 1em; padding-right: 1em; text-align: center; vertical-align: top\">0</td>\n",
       "        <td style=\"padding-left: 1em; padding-right: 1em; text-align: center; vertical-align: top\">0</td>\n",
       "        <td style=\"padding-left: 1em; padding-right: 1em; text-align: center; vertical-align: top\">0</td>\n",
       "        <td style=\"padding-left: 1em; padding-right: 1em; text-align: center; vertical-align: top\">6</td>\n",
       "        <td style=\"padding-left: 1em; padding-right: 1em; text-align: center; vertical-align: top\">0</td>\n",
       "        <td style=\"padding-left: 1em; padding-right: 1em; text-align: center; vertical-align: top\">0</td>\n",
       "        <td style=\"padding-left: 1em; padding-right: 1em; text-align: center; vertical-align: top\">0</td>\n",
       "        <td style=\"padding-left: 1em; padding-right: 1em; text-align: center; vertical-align: top\">0.176108</td>\n",
       "        <td style=\"padding-left: 1em; padding-right: 1em; text-align: center; vertical-align: top\">11</td>\n",
       "        <td style=\"padding-left: 1em; padding-right: 1em; text-align: center; vertical-align: top\">8</td>\n",
       "    </tr>\n",
       "    <tr>\n",
       "        <td style=\"padding-left: 1em; padding-right: 1em; text-align: center; vertical-align: top\">0</td>\n",
       "        <td style=\"padding-left: 1em; padding-right: 1em; text-align: center; vertical-align: top\">1</td>\n",
       "        <td style=\"padding-left: 1em; padding-right: 1em; text-align: center; vertical-align: top\">0</td>\n",
       "        <td style=\"padding-left: 1em; padding-right: 1em; text-align: center; vertical-align: top\">0</td>\n",
       "        <td style=\"padding-left: 1em; padding-right: 1em; text-align: center; vertical-align: top\">1</td>\n",
       "        <td style=\"padding-left: 1em; padding-right: 1em; text-align: center; vertical-align: top\">0</td>\n",
       "        <td style=\"padding-left: 1em; padding-right: 1em; text-align: center; vertical-align: top\">0</td>\n",
       "        <td style=\"padding-left: 1em; padding-right: 1em; text-align: center; vertical-align: top\">0</td>\n",
       "        <td style=\"padding-left: 1em; padding-right: 1em; text-align: center; vertical-align: top\">0.176108</td>\n",
       "        <td style=\"padding-left: 1em; padding-right: 1em; text-align: center; vertical-align: top\">11</td>\n",
       "        <td style=\"padding-left: 1em; padding-right: 1em; text-align: center; vertical-align: top\">8</td>\n",
       "    </tr>\n",
       "    <tr>\n",
       "        <td style=\"padding-left: 1em; padding-right: 1em; text-align: center; vertical-align: top\">0</td>\n",
       "        <td style=\"padding-left: 1em; padding-right: 1em; text-align: center; vertical-align: top\">1</td>\n",
       "        <td style=\"padding-left: 1em; padding-right: 1em; text-align: center; vertical-align: top\">0</td>\n",
       "        <td style=\"padding-left: 1em; padding-right: 1em; text-align: center; vertical-align: top\">0</td>\n",
       "        <td style=\"padding-left: 1em; padding-right: 1em; text-align: center; vertical-align: top\">6</td>\n",
       "        <td style=\"padding-left: 1em; padding-right: 1em; text-align: center; vertical-align: top\">0</td>\n",
       "        <td style=\"padding-left: 1em; padding-right: 1em; text-align: center; vertical-align: top\">0</td>\n",
       "        <td style=\"padding-left: 1em; padding-right: 1em; text-align: center; vertical-align: top\">0</td>\n",
       "        <td style=\"padding-left: 1em; padding-right: 1em; text-align: center; vertical-align: top\">0.176108</td>\n",
       "        <td style=\"padding-left: 1em; padding-right: 1em; text-align: center; vertical-align: top\">11</td>\n",
       "        <td style=\"padding-left: 1em; padding-right: 1em; text-align: center; vertical-align: top\">8</td>\n",
       "    </tr>\n",
       "    <tr>\n",
       "        <td style=\"padding-left: 1em; padding-right: 1em; text-align: center; vertical-align: top\">0</td>\n",
       "        <td style=\"padding-left: 1em; padding-right: 1em; text-align: center; vertical-align: top\">0</td>\n",
       "        <td style=\"padding-left: 1em; padding-right: 1em; text-align: center; vertical-align: top\">1</td>\n",
       "        <td style=\"padding-left: 1em; padding-right: 1em; text-align: center; vertical-align: top\">0</td>\n",
       "        <td style=\"padding-left: 1em; padding-right: 1em; text-align: center; vertical-align: top\">7</td>\n",
       "        <td style=\"padding-left: 1em; padding-right: 1em; text-align: center; vertical-align: top\">0</td>\n",
       "        <td style=\"padding-left: 1em; padding-right: 1em; text-align: center; vertical-align: top\">1</td>\n",
       "        <td style=\"padding-left: 1em; padding-right: 1em; text-align: center; vertical-align: top\">0</td>\n",
       "        <td style=\"padding-left: 1em; padding-right: 1em; text-align: center; vertical-align: top\">36.1523</td>\n",
       "        <td style=\"padding-left: 1em; padding-right: 1em; text-align: center; vertical-align: top\">33</td>\n",
       "        <td style=\"padding-left: 1em; padding-right: 1em; text-align: center; vertical-align: top\">9385</td>\n",
       "    </tr>\n",
       "    <tr>\n",
       "        <td style=\"padding-left: 1em; padding-right: 1em; text-align: center; vertical-align: top\">0</td>\n",
       "        <td style=\"padding-left: 1em; padding-right: 1em; text-align: center; vertical-align: top\">0</td>\n",
       "        <td style=\"padding-left: 1em; padding-right: 1em; text-align: center; vertical-align: top\">0</td>\n",
       "        <td style=\"padding-left: 1em; padding-right: 1em; text-align: center; vertical-align: top\">0</td>\n",
       "        <td style=\"padding-left: 1em; padding-right: 1em; text-align: center; vertical-align: top\">0</td>\n",
       "        <td style=\"padding-left: 1em; padding-right: 1em; text-align: center; vertical-align: top\">0</td>\n",
       "        <td style=\"padding-left: 1em; padding-right: 1em; text-align: center; vertical-align: top\">0</td>\n",
       "        <td style=\"padding-left: 1em; padding-right: 1em; text-align: center; vertical-align: top\">0</td>\n",
       "        <td style=\"padding-left: 1em; padding-right: 1em; text-align: center; vertical-align: top\">36.1523</td>\n",
       "        <td style=\"padding-left: 1em; padding-right: 1em; text-align: center; vertical-align: top\">33</td>\n",
       "        <td style=\"padding-left: 1em; padding-right: 1em; text-align: center; vertical-align: top\">9385</td>\n",
       "    </tr>\n",
       "</table>\n",
       "<table frame=\"box\" rules=\"cols\">\n",
       "    <tr>\n",
       "        <th style=\"padding-left: 1em; padding-right: 1em; text-align: center\">all_degree1</th>\n",
       "        <th style=\"padding-left: 1em; padding-right: 1em; text-align: center\">bi_degree1</th>\n",
       "        <th style=\"padding-left: 1em; padding-right: 1em; text-align: center\">scaleT1</th>\n",
       "        <th style=\"padding-left: 1em; padding-right: 1em; text-align: center\">scaleT2</th>\n",
       "        <th style=\"padding-left: 1em; padding-right: 1em; text-align: center\">scaleT3</th>\n",
       "        <th style=\"padding-left: 1em; padding-right: 1em; text-align: center\">scaleT4</th>\n",
       "        <th style=\"padding-left: 1em; padding-right: 1em; text-align: center\">scaleT5</th>\n",
       "        <th style=\"padding-left: 1em; padding-right: 1em; text-align: center\">scaleT6</th>\n",
       "        <th style=\"padding-left: 1em; padding-right: 1em; text-align: center\">scaleT7</th>\n",
       "        <th style=\"padding-left: 1em; padding-right: 1em; text-align: center\">scaleT8</th>\n",
       "        <th style=\"padding-left: 1em; padding-right: 1em; text-align: center\">scaleT9</th>\n",
       "    </tr>\n",
       "    <tr>\n",
       "        <td style=\"padding-left: 1em; padding-right: 1em; text-align: center; vertical-align: top\">64</td>\n",
       "        <td style=\"padding-left: 1em; padding-right: 1em; text-align: center; vertical-align: top\">0</td>\n",
       "        <td style=\"padding-left: 1em; padding-right: 1em; text-align: center; vertical-align: top\">0</td>\n",
       "        <td style=\"padding-left: 1em; padding-right: 1em; text-align: center; vertical-align: top\">0</td>\n",
       "        <td style=\"padding-left: 1em; padding-right: 1em; text-align: center; vertical-align: top\">3</td>\n",
       "        <td style=\"padding-left: 1em; padding-right: 1em; text-align: center; vertical-align: top\">4</td>\n",
       "        <td style=\"padding-left: 1em; padding-right: 1em; text-align: center; vertical-align: top\">5</td>\n",
       "        <td style=\"padding-left: 1em; padding-right: 1em; text-align: center; vertical-align: top\">8</td>\n",
       "        <td style=\"padding-left: 1em; padding-right: 1em; text-align: center; vertical-align: top\">10</td>\n",
       "        <td style=\"padding-left: 1em; padding-right: 1em; text-align: center; vertical-align: top\">12</td>\n",
       "        <td style=\"padding-left: 1em; padding-right: 1em; text-align: center; vertical-align: top\">14</td>\n",
       "    </tr>\n",
       "    <tr>\n",
       "        <td style=\"padding-left: 1em; padding-right: 1em; text-align: center; vertical-align: top\">330</td>\n",
       "        <td style=\"padding-left: 1em; padding-right: 1em; text-align: center; vertical-align: top\">90</td>\n",
       "        <td style=\"padding-left: 1em; padding-right: 1em; text-align: center; vertical-align: top\">1</td>\n",
       "        <td style=\"padding-left: 1em; padding-right: 1em; text-align: center; vertical-align: top\">2</td>\n",
       "        <td style=\"padding-left: 1em; padding-right: 1em; text-align: center; vertical-align: top\">5</td>\n",
       "        <td style=\"padding-left: 1em; padding-right: 1em; text-align: center; vertical-align: top\">6</td>\n",
       "        <td style=\"padding-left: 1em; padding-right: 1em; text-align: center; vertical-align: top\">14</td>\n",
       "        <td style=\"padding-left: 1em; padding-right: 1em; text-align: center; vertical-align: top\">28</td>\n",
       "        <td style=\"padding-left: 1em; padding-right: 1em; text-align: center; vertical-align: top\">42</td>\n",
       "        <td style=\"padding-left: 1em; padding-right: 1em; text-align: center; vertical-align: top\">56</td>\n",
       "        <td style=\"padding-left: 1em; padding-right: 1em; text-align: center; vertical-align: top\">69</td>\n",
       "    </tr>\n",
       "    <tr>\n",
       "        <td style=\"padding-left: 1em; padding-right: 1em; text-align: center; vertical-align: top\">330</td>\n",
       "        <td style=\"padding-left: 1em; padding-right: 1em; text-align: center; vertical-align: top\">90</td>\n",
       "        <td style=\"padding-left: 1em; padding-right: 1em; text-align: center; vertical-align: top\">1</td>\n",
       "        <td style=\"padding-left: 1em; padding-right: 1em; text-align: center; vertical-align: top\">2</td>\n",
       "        <td style=\"padding-left: 1em; padding-right: 1em; text-align: center; vertical-align: top\">3</td>\n",
       "        <td style=\"padding-left: 1em; padding-right: 1em; text-align: center; vertical-align: top\">3</td>\n",
       "        <td style=\"padding-left: 1em; padding-right: 1em; text-align: center; vertical-align: top\">6</td>\n",
       "        <td style=\"padding-left: 1em; padding-right: 1em; text-align: center; vertical-align: top\">6</td>\n",
       "        <td style=\"padding-left: 1em; padding-right: 1em; text-align: center; vertical-align: top\">6</td>\n",
       "        <td style=\"padding-left: 1em; padding-right: 1em; text-align: center; vertical-align: top\">7</td>\n",
       "        <td style=\"padding-left: 1em; padding-right: 1em; text-align: center; vertical-align: top\">7</td>\n",
       "    </tr>\n",
       "    <tr>\n",
       "        <td style=\"padding-left: 1em; padding-right: 1em; text-align: center; vertical-align: top\">2036</td>\n",
       "        <td style=\"padding-left: 1em; padding-right: 1em; text-align: center; vertical-align: top\">0</td>\n",
       "        <td style=\"padding-left: 1em; padding-right: 1em; text-align: center; vertical-align: top\">0</td>\n",
       "        <td style=\"padding-left: 1em; padding-right: 1em; text-align: center; vertical-align: top\">0</td>\n",
       "        <td style=\"padding-left: 1em; padding-right: 1em; text-align: center; vertical-align: top\">0</td>\n",
       "        <td style=\"padding-left: 1em; padding-right: 1em; text-align: center; vertical-align: top\">0</td>\n",
       "        <td style=\"padding-left: 1em; padding-right: 1em; text-align: center; vertical-align: top\">0</td>\n",
       "        <td style=\"padding-left: 1em; padding-right: 1em; text-align: center; vertical-align: top\">0</td>\n",
       "        <td style=\"padding-left: 1em; padding-right: 1em; text-align: center; vertical-align: top\">0</td>\n",
       "        <td style=\"padding-left: 1em; padding-right: 1em; text-align: center; vertical-align: top\">0</td>\n",
       "        <td style=\"padding-left: 1em; padding-right: 1em; text-align: center; vertical-align: top\">0</td>\n",
       "    </tr>\n",
       "    <tr>\n",
       "        <td style=\"padding-left: 1em; padding-right: 1em; text-align: center; vertical-align: top\">1365</td>\n",
       "        <td style=\"padding-left: 1em; padding-right: 1em; text-align: center; vertical-align: top\">6</td>\n",
       "        <td style=\"padding-left: 1em; padding-right: 1em; text-align: center; vertical-align: top\">0</td>\n",
       "        <td style=\"padding-left: 1em; padding-right: 1em; text-align: center; vertical-align: top\">0</td>\n",
       "        <td style=\"padding-left: 1em; padding-right: 1em; text-align: center; vertical-align: top\">0</td>\n",
       "        <td style=\"padding-left: 1em; padding-right: 1em; text-align: center; vertical-align: top\">0</td>\n",
       "        <td style=\"padding-left: 1em; padding-right: 1em; text-align: center; vertical-align: top\">0</td>\n",
       "        <td style=\"padding-left: 1em; padding-right: 1em; text-align: center; vertical-align: top\">0</td>\n",
       "        <td style=\"padding-left: 1em; padding-right: 1em; text-align: center; vertical-align: top\">0</td>\n",
       "        <td style=\"padding-left: 1em; padding-right: 1em; text-align: center; vertical-align: top\">2</td>\n",
       "        <td style=\"padding-left: 1em; padding-right: 1em; text-align: center; vertical-align: top\">2</td>\n",
       "    </tr>\n",
       "    <tr>\n",
       "        <td style=\"padding-left: 1em; padding-right: 1em; text-align: center; vertical-align: top\">11</td>\n",
       "        <td style=\"padding-left: 1em; padding-right: 1em; text-align: center; vertical-align: top\">8</td>\n",
       "        <td style=\"padding-left: 1em; padding-right: 1em; text-align: center; vertical-align: top\">0</td>\n",
       "        <td style=\"padding-left: 1em; padding-right: 1em; text-align: center; vertical-align: top\">0</td>\n",
       "        <td style=\"padding-left: 1em; padding-right: 1em; text-align: center; vertical-align: top\">0</td>\n",
       "        <td style=\"padding-left: 1em; padding-right: 1em; text-align: center; vertical-align: top\">0</td>\n",
       "        <td style=\"padding-left: 1em; padding-right: 1em; text-align: center; vertical-align: top\">0</td>\n",
       "        <td style=\"padding-left: 1em; padding-right: 1em; text-align: center; vertical-align: top\">0</td>\n",
       "        <td style=\"padding-left: 1em; padding-right: 1em; text-align: center; vertical-align: top\">0</td>\n",
       "        <td style=\"padding-left: 1em; padding-right: 1em; text-align: center; vertical-align: top\">0</td>\n",
       "        <td style=\"padding-left: 1em; padding-right: 1em; text-align: center; vertical-align: top\">0</td>\n",
       "    </tr>\n",
       "    <tr>\n",
       "        <td style=\"padding-left: 1em; padding-right: 1em; text-align: center; vertical-align: top\">11</td>\n",
       "        <td style=\"padding-left: 1em; padding-right: 1em; text-align: center; vertical-align: top\">8</td>\n",
       "        <td style=\"padding-left: 1em; padding-right: 1em; text-align: center; vertical-align: top\">0</td>\n",
       "        <td style=\"padding-left: 1em; padding-right: 1em; text-align: center; vertical-align: top\">0</td>\n",
       "        <td style=\"padding-left: 1em; padding-right: 1em; text-align: center; vertical-align: top\">0</td>\n",
       "        <td style=\"padding-left: 1em; padding-right: 1em; text-align: center; vertical-align: top\">0</td>\n",
       "        <td style=\"padding-left: 1em; padding-right: 1em; text-align: center; vertical-align: top\">0</td>\n",
       "        <td style=\"padding-left: 1em; padding-right: 1em; text-align: center; vertical-align: top\">0</td>\n",
       "        <td style=\"padding-left: 1em; padding-right: 1em; text-align: center; vertical-align: top\">0</td>\n",
       "        <td style=\"padding-left: 1em; padding-right: 1em; text-align: center; vertical-align: top\">0</td>\n",
       "        <td style=\"padding-left: 1em; padding-right: 1em; text-align: center; vertical-align: top\">0</td>\n",
       "    </tr>\n",
       "    <tr>\n",
       "        <td style=\"padding-left: 1em; padding-right: 1em; text-align: center; vertical-align: top\">11</td>\n",
       "        <td style=\"padding-left: 1em; padding-right: 1em; text-align: center; vertical-align: top\">8</td>\n",
       "        <td style=\"padding-left: 1em; padding-right: 1em; text-align: center; vertical-align: top\">0</td>\n",
       "        <td style=\"padding-left: 1em; padding-right: 1em; text-align: center; vertical-align: top\">0</td>\n",
       "        <td style=\"padding-left: 1em; padding-right: 1em; text-align: center; vertical-align: top\">0</td>\n",
       "        <td style=\"padding-left: 1em; padding-right: 1em; text-align: center; vertical-align: top\">0</td>\n",
       "        <td style=\"padding-left: 1em; padding-right: 1em; text-align: center; vertical-align: top\">0</td>\n",
       "        <td style=\"padding-left: 1em; padding-right: 1em; text-align: center; vertical-align: top\">0</td>\n",
       "        <td style=\"padding-left: 1em; padding-right: 1em; text-align: center; vertical-align: top\">0</td>\n",
       "        <td style=\"padding-left: 1em; padding-right: 1em; text-align: center; vertical-align: top\">0</td>\n",
       "        <td style=\"padding-left: 1em; padding-right: 1em; text-align: center; vertical-align: top\">0</td>\n",
       "    </tr>\n",
       "    <tr>\n",
       "        <td style=\"padding-left: 1em; padding-right: 1em; text-align: center; vertical-align: top\">9414</td>\n",
       "        <td style=\"padding-left: 1em; padding-right: 1em; text-align: center; vertical-align: top\">4</td>\n",
       "        <td style=\"padding-left: 1em; padding-right: 1em; text-align: center; vertical-align: top\">0</td>\n",
       "        <td style=\"padding-left: 1em; padding-right: 1em; text-align: center; vertical-align: top\">0</td>\n",
       "        <td style=\"padding-left: 1em; padding-right: 1em; text-align: center; vertical-align: top\">0</td>\n",
       "        <td style=\"padding-left: 1em; padding-right: 1em; text-align: center; vertical-align: top\">0</td>\n",
       "        <td style=\"padding-left: 1em; padding-right: 1em; text-align: center; vertical-align: top\">0</td>\n",
       "        <td style=\"padding-left: 1em; padding-right: 1em; text-align: center; vertical-align: top\">0</td>\n",
       "        <td style=\"padding-left: 1em; padding-right: 1em; text-align: center; vertical-align: top\">0</td>\n",
       "        <td style=\"padding-left: 1em; padding-right: 1em; text-align: center; vertical-align: top\">0</td>\n",
       "        <td style=\"padding-left: 1em; padding-right: 1em; text-align: center; vertical-align: top\">0</td>\n",
       "    </tr>\n",
       "    <tr>\n",
       "        <td style=\"padding-left: 1em; padding-right: 1em; text-align: center; vertical-align: top\">9414</td>\n",
       "        <td style=\"padding-left: 1em; padding-right: 1em; text-align: center; vertical-align: top\">4</td>\n",
       "        <td style=\"padding-left: 1em; padding-right: 1em; text-align: center; vertical-align: top\">0</td>\n",
       "        <td style=\"padding-left: 1em; padding-right: 1em; text-align: center; vertical-align: top\">1</td>\n",
       "        <td style=\"padding-left: 1em; padding-right: 1em; text-align: center; vertical-align: top\">2</td>\n",
       "        <td style=\"padding-left: 1em; padding-right: 1em; text-align: center; vertical-align: top\">2</td>\n",
       "        <td style=\"padding-left: 1em; padding-right: 1em; text-align: center; vertical-align: top\">3</td>\n",
       "        <td style=\"padding-left: 1em; padding-right: 1em; text-align: center; vertical-align: top\">3</td>\n",
       "        <td style=\"padding-left: 1em; padding-right: 1em; text-align: center; vertical-align: top\">3</td>\n",
       "        <td style=\"padding-left: 1em; padding-right: 1em; text-align: center; vertical-align: top\">3</td>\n",
       "        <td style=\"padding-left: 1em; padding-right: 1em; text-align: center; vertical-align: top\">5</td>\n",
       "    </tr>\n",
       "</table>\n",
       "<table frame=\"box\" rules=\"cols\">\n",
       "    <tr>\n",
       "        <th style=\"padding-left: 1em; padding-right: 1em; text-align: center\">scaleT10</th>\n",
       "        <th style=\"padding-left: 1em; padding-right: 1em; text-align: center\">scaleT11</th>\n",
       "        <th style=\"padding-left: 1em; padding-right: 1em; text-align: center\">scaleT12</th>\n",
       "        <th style=\"padding-left: 1em; padding-right: 1em; text-align: center\">scaleT13</th>\n",
       "        <th style=\"padding-left: 1em; padding-right: 1em; text-align: center\">scaleT14</th>\n",
       "        <th style=\"padding-left: 1em; padding-right: 1em; text-align: center\">scaleT15</th>\n",
       "        <th style=\"padding-left: 1em; padding-right: 1em; text-align: center\">scaleT16</th>\n",
       "        <th style=\"padding-left: 1em; padding-right: 1em; text-align: center\">scaleT17</th>\n",
       "        <th style=\"padding-left: 1em; padding-right: 1em; text-align: center\">scaleT18</th>\n",
       "        <th style=\"padding-left: 1em; padding-right: 1em; text-align: center\">...</th>\n",
       "    </tr>\n",
       "    <tr>\n",
       "        <td style=\"padding-left: 1em; padding-right: 1em; text-align: center; vertical-align: top\">15</td>\n",
       "        <td style=\"padding-left: 1em; padding-right: 1em; text-align: center; vertical-align: top\">15</td>\n",
       "        <td style=\"padding-left: 1em; padding-right: 1em; text-align: center; vertical-align: top\">16</td>\n",
       "        <td style=\"padding-left: 1em; padding-right: 1em; text-align: center; vertical-align: top\">19</td>\n",
       "        <td style=\"padding-left: 1em; padding-right: 1em; text-align: center; vertical-align: top\">35</td>\n",
       "        <td style=\"padding-left: 1em; padding-right: 1em; text-align: center; vertical-align: top\">51</td>\n",
       "        <td style=\"padding-left: 1em; padding-right: 1em; text-align: center; vertical-align: top\">74</td>\n",
       "        <td style=\"padding-left: 1em; padding-right: 1em; text-align: center; vertical-align: top\">99</td>\n",
       "        <td style=\"padding-left: 1em; padding-right: 1em; text-align: center; vertical-align: top\">124</td>\n",
       "        <td style=\"padding-left: 1em; padding-right: 1em; text-align: center; vertical-align: top\">...</td>\n",
       "    </tr>\n",
       "    <tr>\n",
       "        <td style=\"padding-left: 1em; padding-right: 1em; text-align: center; vertical-align: top\">83</td>\n",
       "        <td style=\"padding-left: 1em; padding-right: 1em; text-align: center; vertical-align: top\">97</td>\n",
       "        <td style=\"padding-left: 1em; padding-right: 1em; text-align: center; vertical-align: top\">111</td>\n",
       "        <td style=\"padding-left: 1em; padding-right: 1em; text-align: center; vertical-align: top\">116</td>\n",
       "        <td style=\"padding-left: 1em; padding-right: 1em; text-align: center; vertical-align: top\">125</td>\n",
       "        <td style=\"padding-left: 1em; padding-right: 1em; text-align: center; vertical-align: top\">138</td>\n",
       "        <td style=\"padding-left: 1em; padding-right: 1em; text-align: center; vertical-align: top\">146</td>\n",
       "        <td style=\"padding-left: 1em; padding-right: 1em; text-align: center; vertical-align: top\">154</td>\n",
       "        <td style=\"padding-left: 1em; padding-right: 1em; text-align: center; vertical-align: top\">161</td>\n",
       "        <td style=\"padding-left: 1em; padding-right: 1em; text-align: center; vertical-align: top\">...</td>\n",
       "    </tr>\n",
       "    <tr>\n",
       "        <td style=\"padding-left: 1em; padding-right: 1em; text-align: center; vertical-align: top\">10</td>\n",
       "        <td style=\"padding-left: 1em; padding-right: 1em; text-align: center; vertical-align: top\">12</td>\n",
       "        <td style=\"padding-left: 1em; padding-right: 1em; text-align: center; vertical-align: top\">13</td>\n",
       "        <td style=\"padding-left: 1em; padding-right: 1em; text-align: center; vertical-align: top\">13</td>\n",
       "        <td style=\"padding-left: 1em; padding-right: 1em; text-align: center; vertical-align: top\">14</td>\n",
       "        <td style=\"padding-left: 1em; padding-right: 1em; text-align: center; vertical-align: top\">17</td>\n",
       "        <td style=\"padding-left: 1em; padding-right: 1em; text-align: center; vertical-align: top\">18</td>\n",
       "        <td style=\"padding-left: 1em; padding-right: 1em; text-align: center; vertical-align: top\">19</td>\n",
       "        <td style=\"padding-left: 1em; padding-right: 1em; text-align: center; vertical-align: top\">23</td>\n",
       "        <td style=\"padding-left: 1em; padding-right: 1em; text-align: center; vertical-align: top\">...</td>\n",
       "    </tr>\n",
       "    <tr>\n",
       "        <td style=\"padding-left: 1em; padding-right: 1em; text-align: center; vertical-align: top\">0</td>\n",
       "        <td style=\"padding-left: 1em; padding-right: 1em; text-align: center; vertical-align: top\">0</td>\n",
       "        <td style=\"padding-left: 1em; padding-right: 1em; text-align: center; vertical-align: top\">0</td>\n",
       "        <td style=\"padding-left: 1em; padding-right: 1em; text-align: center; vertical-align: top\">0</td>\n",
       "        <td style=\"padding-left: 1em; padding-right: 1em; text-align: center; vertical-align: top\">0</td>\n",
       "        <td style=\"padding-left: 1em; padding-right: 1em; text-align: center; vertical-align: top\">0</td>\n",
       "        <td style=\"padding-left: 1em; padding-right: 1em; text-align: center; vertical-align: top\">0</td>\n",
       "        <td style=\"padding-left: 1em; padding-right: 1em; text-align: center; vertical-align: top\">0</td>\n",
       "        <td style=\"padding-left: 1em; padding-right: 1em; text-align: center; vertical-align: top\">0</td>\n",
       "        <td style=\"padding-left: 1em; padding-right: 1em; text-align: center; vertical-align: top\">...</td>\n",
       "    </tr>\n",
       "    <tr>\n",
       "        <td style=\"padding-left: 1em; padding-right: 1em; text-align: center; vertical-align: top\">2</td>\n",
       "        <td style=\"padding-left: 1em; padding-right: 1em; text-align: center; vertical-align: top\">2</td>\n",
       "        <td style=\"padding-left: 1em; padding-right: 1em; text-align: center; vertical-align: top\">2</td>\n",
       "        <td style=\"padding-left: 1em; padding-right: 1em; text-align: center; vertical-align: top\">2</td>\n",
       "        <td style=\"padding-left: 1em; padding-right: 1em; text-align: center; vertical-align: top\">2</td>\n",
       "        <td style=\"padding-left: 1em; padding-right: 1em; text-align: center; vertical-align: top\">3</td>\n",
       "        <td style=\"padding-left: 1em; padding-right: 1em; text-align: center; vertical-align: top\">3</td>\n",
       "        <td style=\"padding-left: 1em; padding-right: 1em; text-align: center; vertical-align: top\">3</td>\n",
       "        <td style=\"padding-left: 1em; padding-right: 1em; text-align: center; vertical-align: top\">4</td>\n",
       "        <td style=\"padding-left: 1em; padding-right: 1em; text-align: center; vertical-align: top\">...</td>\n",
       "    </tr>\n",
       "    <tr>\n",
       "        <td style=\"padding-left: 1em; padding-right: 1em; text-align: center; vertical-align: top\">0</td>\n",
       "        <td style=\"padding-left: 1em; padding-right: 1em; text-align: center; vertical-align: top\">0</td>\n",
       "        <td style=\"padding-left: 1em; padding-right: 1em; text-align: center; vertical-align: top\">0</td>\n",
       "        <td style=\"padding-left: 1em; padding-right: 1em; text-align: center; vertical-align: top\">0</td>\n",
       "        <td style=\"padding-left: 1em; padding-right: 1em; text-align: center; vertical-align: top\">0</td>\n",
       "        <td style=\"padding-left: 1em; padding-right: 1em; text-align: center; vertical-align: top\">0</td>\n",
       "        <td style=\"padding-left: 1em; padding-right: 1em; text-align: center; vertical-align: top\">0</td>\n",
       "        <td style=\"padding-left: 1em; padding-right: 1em; text-align: center; vertical-align: top\">0</td>\n",
       "        <td style=\"padding-left: 1em; padding-right: 1em; text-align: center; vertical-align: top\">0</td>\n",
       "        <td style=\"padding-left: 1em; padding-right: 1em; text-align: center; vertical-align: top\">...</td>\n",
       "    </tr>\n",
       "    <tr>\n",
       "        <td style=\"padding-left: 1em; padding-right: 1em; text-align: center; vertical-align: top\">0</td>\n",
       "        <td style=\"padding-left: 1em; padding-right: 1em; text-align: center; vertical-align: top\">0</td>\n",
       "        <td style=\"padding-left: 1em; padding-right: 1em; text-align: center; vertical-align: top\">0</td>\n",
       "        <td style=\"padding-left: 1em; padding-right: 1em; text-align: center; vertical-align: top\">0</td>\n",
       "        <td style=\"padding-left: 1em; padding-right: 1em; text-align: center; vertical-align: top\">0</td>\n",
       "        <td style=\"padding-left: 1em; padding-right: 1em; text-align: center; vertical-align: top\">0</td>\n",
       "        <td style=\"padding-left: 1em; padding-right: 1em; text-align: center; vertical-align: top\">0</td>\n",
       "        <td style=\"padding-left: 1em; padding-right: 1em; text-align: center; vertical-align: top\">0</td>\n",
       "        <td style=\"padding-left: 1em; padding-right: 1em; text-align: center; vertical-align: top\">0</td>\n",
       "        <td style=\"padding-left: 1em; padding-right: 1em; text-align: center; vertical-align: top\">...</td>\n",
       "    </tr>\n",
       "    <tr>\n",
       "        <td style=\"padding-left: 1em; padding-right: 1em; text-align: center; vertical-align: top\">0</td>\n",
       "        <td style=\"padding-left: 1em; padding-right: 1em; text-align: center; vertical-align: top\">0</td>\n",
       "        <td style=\"padding-left: 1em; padding-right: 1em; text-align: center; vertical-align: top\">0</td>\n",
       "        <td style=\"padding-left: 1em; padding-right: 1em; text-align: center; vertical-align: top\">0</td>\n",
       "        <td style=\"padding-left: 1em; padding-right: 1em; text-align: center; vertical-align: top\">0</td>\n",
       "        <td style=\"padding-left: 1em; padding-right: 1em; text-align: center; vertical-align: top\">0</td>\n",
       "        <td style=\"padding-left: 1em; padding-right: 1em; text-align: center; vertical-align: top\">0</td>\n",
       "        <td style=\"padding-left: 1em; padding-right: 1em; text-align: center; vertical-align: top\">0</td>\n",
       "        <td style=\"padding-left: 1em; padding-right: 1em; text-align: center; vertical-align: top\">0</td>\n",
       "        <td style=\"padding-left: 1em; padding-right: 1em; text-align: center; vertical-align: top\">...</td>\n",
       "    </tr>\n",
       "    <tr>\n",
       "        <td style=\"padding-left: 1em; padding-right: 1em; text-align: center; vertical-align: top\">0</td>\n",
       "        <td style=\"padding-left: 1em; padding-right: 1em; text-align: center; vertical-align: top\">0</td>\n",
       "        <td style=\"padding-left: 1em; padding-right: 1em; text-align: center; vertical-align: top\">0</td>\n",
       "        <td style=\"padding-left: 1em; padding-right: 1em; text-align: center; vertical-align: top\">0</td>\n",
       "        <td style=\"padding-left: 1em; padding-right: 1em; text-align: center; vertical-align: top\">0</td>\n",
       "        <td style=\"padding-left: 1em; padding-right: 1em; text-align: center; vertical-align: top\">0</td>\n",
       "        <td style=\"padding-left: 1em; padding-right: 1em; text-align: center; vertical-align: top\">0</td>\n",
       "        <td style=\"padding-left: 1em; padding-right: 1em; text-align: center; vertical-align: top\">0</td>\n",
       "        <td style=\"padding-left: 1em; padding-right: 1em; text-align: center; vertical-align: top\">0</td>\n",
       "        <td style=\"padding-left: 1em; padding-right: 1em; text-align: center; vertical-align: top\">...</td>\n",
       "    </tr>\n",
       "    <tr>\n",
       "        <td style=\"padding-left: 1em; padding-right: 1em; text-align: center; vertical-align: top\">7</td>\n",
       "        <td style=\"padding-left: 1em; padding-right: 1em; text-align: center; vertical-align: top\">9</td>\n",
       "        <td style=\"padding-left: 1em; padding-right: 1em; text-align: center; vertical-align: top\">10</td>\n",
       "        <td style=\"padding-left: 1em; padding-right: 1em; text-align: center; vertical-align: top\">12</td>\n",
       "        <td style=\"padding-left: 1em; padding-right: 1em; text-align: center; vertical-align: top\">13</td>\n",
       "        <td style=\"padding-left: 1em; padding-right: 1em; text-align: center; vertical-align: top\">18</td>\n",
       "        <td style=\"padding-left: 1em; padding-right: 1em; text-align: center; vertical-align: top\">20</td>\n",
       "        <td style=\"padding-left: 1em; padding-right: 1em; text-align: center; vertical-align: top\">21</td>\n",
       "        <td style=\"padding-left: 1em; padding-right: 1em; text-align: center; vertical-align: top\">22</td>\n",
       "        <td style=\"padding-left: 1em; padding-right: 1em; text-align: center; vertical-align: top\">...</td>\n",
       "    </tr>\n",
       "</table>\n",
       "[10 rows x 718 columns]<br/>\n",
       "</div>"
      ],
      "text/plain": [
       "Columns:\n",
       "\ttweet_user\tint\n",
       "\tout_degree2\tint\n",
       "\tin_degree2\tint\n",
       "\tall_degree2\tint\n",
       "\tbi_degree2\tint\n",
       "\tpagerank2\tfloat\n",
       "\tweibo_id\tint\n",
       "\trelease_time\tfloat\n",
       "\twordlenth\tint\n",
       "\tURL\tint\n",
       "\tHashtag\tint\n",
       "\tmention\tint\n",
       "\tpicture\tint\n",
       "\tcontent_category\tint\n",
       "\thongbao\tint\n",
       "\tguanzhu\tint\n",
       "\tchoujiang\tint\n",
       "\tpagerank1\tfloat\n",
       "\tout_degree1\tint\n",
       "\tin_degree1\tint\n",
       "\tall_degree1\tint\n",
       "\tbi_degree1\tint\n",
       "\tscaleT1\tint\n",
       "\tscaleT2\tint\n",
       "\tscaleT3\tint\n",
       "\tscaleT4\tint\n",
       "\tscaleT5\tint\n",
       "\tscaleT6\tint\n",
       "\tscaleT7\tint\n",
       "\tscaleT8\tint\n",
       "\tscaleT9\tint\n",
       "\tscaleT10\tint\n",
       "\tscaleT11\tint\n",
       "\tscaleT12\tint\n",
       "\tscaleT13\tint\n",
       "\tscaleT14\tint\n",
       "\tscaleT15\tint\n",
       "\tscaleT16\tint\n",
       "\tscaleT17\tint\n",
       "\tscaleT18\tint\n",
       "\tscaleT19\tint\n",
       "\tscaleT20\tint\n",
       "\tscaleT21\tint\n",
       "\tscaleT22\tint\n",
       "\tscaleT23\tint\n",
       "\tscaleT24\tint\n",
       "\tscaleT25\tint\n",
       "\tscaleT26\tint\n",
       "\tscaleT27\tint\n",
       "\tscaleT28\tint\n",
       "\tscaleT29\tint\n",
       "\tscaleT30\tint\n",
       "\tscaleT31\tint\n",
       "\tscaleT32\tint\n",
       "\tscaleT33\tint\n",
       "\tscaleT34\tint\n",
       "\tscaleT35\tint\n",
       "\tscaleT36\tint\n",
       "\tscaleT37\tint\n",
       "\tscaleT38\tint\n",
       "\tscaleT39\tint\n",
       "\tscaleT40\tint\n",
       "\tscaleT41\tint\n",
       "\tscaleT42\tint\n",
       "\tscaleT43\tint\n",
       "\tscaleT44\tint\n",
       "\tscaleT45\tint\n",
       "\tscaleT46\tint\n",
       "\tscaleT47\tint\n",
       "\tscaleT48\tint\n",
       "\tscaleT49\tint\n",
       "\tscaleT50\tint\n",
       "\tscaleT51\tint\n",
       "\tscaleT52\tint\n",
       "\tscaleT53\tint\n",
       "\tscaleT54\tint\n",
       "\tscaleT55\tint\n",
       "\tscaleT56\tint\n",
       "\tscaleT57\tint\n",
       "\tscaleT58\tint\n",
       "\tscaleT59\tint\n",
       "\tscaleT60\tint\n",
       "\tscaleT75\tint\n",
       "\tscaleT90\tint\n",
       "\tscaleT105\tint\n",
       "\tscaleT120\tint\n",
       "\tscaleT135\tint\n",
       "\tscaleT150\tint\n",
       "\tscaleT165\tint\n",
       "\tscaleT180\tint\n",
       "\tscaleT195\tint\n",
       "\tscaleT210\tint\n",
       "\tscaleT225\tint\n",
       "\tscaleT240\tint\n",
       "\tscaleT255\tint\n",
       "\tscaleT270\tint\n",
       "\tscaleT285\tint\n",
       "\tscaleT300\tint\n",
       "\tscaleT315\tint\n",
       "\tscaleT330\tint\n",
       "\tscaleT345\tint\n",
       "\tscaleT360\tint\n",
       "\tscaleT375\tint\n",
       "\tscaleT390\tint\n",
       "\tscaleT405\tint\n",
       "\tscaleT420\tint\n",
       "\tscaleT435\tint\n",
       "\tscaleT450\tint\n",
       "\tscaleT465\tint\n",
       "\tscaleT480\tint\n",
       "\tscaleT495\tint\n",
       "\tscaleT510\tint\n",
       "\tscaleT525\tint\n",
       "\tscaleT540\tint\n",
       "\tscaleT555\tint\n",
       "\tscaleT570\tint\n",
       "\tscaleT585\tint\n",
       "\tscaleT600\tint\n",
       "\tscaleT615\tint\n",
       "\tscaleT630\tint\n",
       "\tscaleT645\tint\n",
       "\tscaleT660\tint\n",
       "\tscaleT675\tint\n",
       "\tscaleT690\tint\n",
       "\tscaleT705\tint\n",
       "\tscaleT720\tint\n",
       "\tscaleT735\tint\n",
       "\tscaleT750\tint\n",
       "\tscaleT765\tint\n",
       "\tscaleT780\tint\n",
       "\tscaleT795\tint\n",
       "\tscaleT810\tint\n",
       "\tscaleT825\tint\n",
       "\tscaleT840\tint\n",
       "\tscaleT855\tint\n",
       "\tscaleT870\tint\n",
       "\tscaleT885\tint\n",
       "\tscaleT900\tint\n",
       "\tscaleT915\tint\n",
       "\tscaleT930\tint\n",
       "\tscaleT945\tint\n",
       "\tscaleT960\tint\n",
       "\tscaleT975\tint\n",
       "\tscaleT990\tint\n",
       "\tscaleT1005\tint\n",
       "\tscaleT1020\tint\n",
       "\tscaleT1035\tint\n",
       "\tscaleT1050\tint\n",
       "\tscaleT1065\tint\n",
       "\tscaleT1080\tint\n",
       "\tscaleT1095\tint\n",
       "\tscaleT1110\tint\n",
       "\tscaleT1125\tint\n",
       "\tscaleT1140\tint\n",
       "\tscaleT1155\tint\n",
       "\tscaleT1170\tint\n",
       "\tscaleT1185\tint\n",
       "\tscaleT1200\tint\n",
       "\tscaleT1215\tint\n",
       "\tscaleT1230\tint\n",
       "\tscaleT1245\tint\n",
       "\tscaleT1260\tint\n",
       "\tscaleT1275\tint\n",
       "\tscaleT1290\tint\n",
       "\tscaleT1305\tint\n",
       "\tscaleT1320\tint\n",
       "\tscaleT1335\tint\n",
       "\tscaleT1350\tint\n",
       "\tscaleT1365\tint\n",
       "\tscaleT1380\tint\n",
       "\tscaleT1395\tint\n",
       "\tscaleT1410\tint\n",
       "\tscaleT1425\tint\n",
       "\tscaleT1440\tint\n",
       "\tscaleT1455\tint\n",
       "\tscaleT1470\tint\n",
       "\tscaleT1485\tint\n",
       "\tscaleT1500\tint\n",
       "\tscaleT1515\tint\n",
       "\tscaleT1530\tint\n",
       "\tscaleT1545\tint\n",
       "\tscaleT1560\tint\n",
       "\tscaleT1575\tint\n",
       "\tscaleT1590\tint\n",
       "\tscaleT1605\tint\n",
       "\tscaleT1620\tint\n",
       "\tscaleT1635\tint\n",
       "\tscaleT1650\tint\n",
       "\tscaleT1665\tint\n",
       "\tscaleT1680\tint\n",
       "\tscaleT1695\tint\n",
       "\tscaleT1710\tint\n",
       "\tscaleT1725\tint\n",
       "\tscaleT1740\tint\n",
       "\tscaleT1755\tint\n",
       "\tscaleT1770\tint\n",
       "\tscaleT1785\tint\n",
       "\tscaleT1800\tint\n",
       "\tscaleT1815\tint\n",
       "\tscaleT1830\tint\n",
       "\tscaleT1845\tint\n",
       "\tscaleT1860\tint\n",
       "\tscaleT1875\tint\n",
       "\tscaleT1890\tint\n",
       "\tscaleT1905\tint\n",
       "\tscaleT1920\tint\n",
       "\tscaleT1935\tint\n",
       "\tscaleT1950\tint\n",
       "\tscaleT1965\tint\n",
       "\tscaleT1980\tint\n",
       "\tscaleT1995\tint\n",
       "\tscaleT2010\tint\n",
       "\tscaleT2025\tint\n",
       "\tscaleT2040\tint\n",
       "\tscaleT2055\tint\n",
       "\tscaleT2070\tint\n",
       "\tscaleT2085\tint\n",
       "\tscaleT2100\tint\n",
       "\tscaleT2115\tint\n",
       "\tscaleT2130\tint\n",
       "\tscaleT2145\tint\n",
       "\tscaleT2160\tint\n",
       "\tscaleT2175\tint\n",
       "\tscaleT2190\tint\n",
       "\tscaleT2205\tint\n",
       "\tscaleT2220\tint\n",
       "\tscaleT2235\tint\n",
       "\tscaleT2250\tint\n",
       "\tscaleT2265\tint\n",
       "\tscaleT2280\tint\n",
       "\tscaleT2295\tint\n",
       "\tscaleT2310\tint\n",
       "\tscaleT2325\tint\n",
       "\tscaleT2340\tint\n",
       "\tscaleT2355\tint\n",
       "\tscaleT2370\tint\n",
       "\tscaleT2385\tint\n",
       "\tscaleT2400\tint\n",
       "\tscaleT2415\tint\n",
       "\tscaleT2430\tint\n",
       "\tscaleT2445\tint\n",
       "\tscaleT2460\tint\n",
       "\tscaleT2475\tint\n",
       "\tscaleT2490\tint\n",
       "\tscaleT2505\tint\n",
       "\tscaleT2520\tint\n",
       "\tscaleT2535\tint\n",
       "\tscaleT2550\tint\n",
       "\tscaleT2565\tint\n",
       "\tscaleT2580\tint\n",
       "\tscaleT2595\tint\n",
       "\tscaleT2610\tint\n",
       "\tscaleT2625\tint\n",
       "\tscaleT2640\tint\n",
       "\tscaleT2655\tint\n",
       "\tscaleT2670\tint\n",
       "\tscaleT2685\tint\n",
       "\tscaleT2700\tint\n",
       "\tscaleT2715\tint\n",
       "\tscaleT2730\tint\n",
       "\tscaleT2745\tint\n",
       "\tscaleT2760\tint\n",
       "\tscaleT2775\tint\n",
       "\tscaleT2790\tint\n",
       "\tscaleT2805\tint\n",
       "\tscaleT2820\tint\n",
       "\tscaleT2835\tint\n",
       "\tscaleT2850\tint\n",
       "\tscaleT2865\tint\n",
       "\tscaleT2880\tint\n",
       "\tscaleT2895\tint\n",
       "\tscaleT2910\tint\n",
       "\tscaleT2925\tint\n",
       "\tscaleT2940\tint\n",
       "\tscaleT2955\tint\n",
       "\tscaleT2970\tint\n",
       "\tscaleT2985\tint\n",
       "\tscaleT3000\tint\n",
       "\tscaleT3015\tint\n",
       "\tscaleT3030\tint\n",
       "\tscaleT3045\tint\n",
       "\tscaleT3060\tint\n",
       "\tscaleT3075\tint\n",
       "\tscaleT3090\tint\n",
       "\tscaleT3105\tint\n",
       "\tscaleT3120\tint\n",
       "\tscaleT3135\tint\n",
       "\tscaleT3150\tint\n",
       "\tscaleT3165\tint\n",
       "\tscaleT3180\tint\n",
       "\tscaleT3195\tint\n",
       "\tscaleT3210\tint\n",
       "\tscaleT3225\tint\n",
       "\tscaleT3240\tint\n",
       "\tscaleT3255\tint\n",
       "\tscaleT3270\tint\n",
       "\tscaleT3285\tint\n",
       "\tscaleT3300\tint\n",
       "\tscaleT3315\tint\n",
       "\tscaleT3330\tint\n",
       "\tscaleT3345\tint\n",
       "\tscaleT3360\tint\n",
       "\tscaleT3375\tint\n",
       "\tscaleT3390\tint\n",
       "\tscaleT3405\tint\n",
       "\tscaleT3420\tint\n",
       "\tscaleT3435\tint\n",
       "\tscaleT3450\tint\n",
       "\tscaleT3465\tint\n",
       "\tscaleT3480\tint\n",
       "\tscaleT3495\tint\n",
       "\tscaleT3510\tint\n",
       "\tscaleT3525\tint\n",
       "\tscaleT3540\tint\n",
       "\tscaleT3555\tint\n",
       "\tscaleT3570\tint\n",
       "\tscaleT3585\tint\n",
       "\tscaleT3600\tint\n",
       "\tscaleT3615\tint\n",
       "\tscaleT3630\tint\n",
       "\tscaleT3645\tint\n",
       "\tscaleT3660\tint\n",
       "\tscaleT3675\tint\n",
       "\tscaleT3690\tint\n",
       "\tscaleT3705\tint\n",
       "\tscaleT3720\tint\n",
       "\tscaleT3735\tint\n",
       "\tscaleT3750\tint\n",
       "\tscaleT3765\tint\n",
       "\tscaleT3780\tint\n",
       "\tscaleT3795\tint\n",
       "\tscaleT3810\tint\n",
       "\tscaleT3825\tint\n",
       "\tscaleT3840\tint\n",
       "\tscaleT3855\tint\n",
       "\tscaleT3870\tint\n",
       "\tscaleT3885\tint\n",
       "\tscaleT3900\tint\n",
       "\tscaleT3915\tint\n",
       "\tscaleT3930\tint\n",
       "\tscaleT3945\tint\n",
       "\tscaleT3960\tint\n",
       "\tscaleT3975\tint\n",
       "\tscaleT3990\tint\n",
       "\tscaleT4005\tint\n",
       "\tscaleT4020\tint\n",
       "\tscaleT4035\tint\n",
       "\tscaleT4050\tint\n",
       "\tscaleT4065\tint\n",
       "\tscaleT4080\tint\n",
       "\tscaleT4095\tint\n",
       "\tscaleT4110\tint\n",
       "\tscaleT4125\tint\n",
       "\tscaleT4140\tint\n",
       "\tscaleT4155\tint\n",
       "\tscaleT4170\tint\n",
       "\tscaleT4185\tint\n",
       "\tscaleT4200\tint\n",
       "\tscaleT4215\tint\n",
       "\tscaleT4230\tint\n",
       "\tscaleT4245\tint\n",
       "\tscaleT4260\tint\n",
       "\tscaleT4275\tint\n",
       "\tscaleT4290\tint\n",
       "\tscaleT4305\tint\n",
       "\tscaleT4320\tint\n",
       "\tscaleT4335\tint\n",
       "\tscaleT4350\tint\n",
       "\tscaleT4365\tint\n",
       "\tscaleT4380\tint\n",
       "\tdepthT1\tint\n",
       "\tdepthT2\tint\n",
       "\tdepthT3\tint\n",
       "\tdepthT4\tint\n",
       "\tdepthT5\tint\n",
       "\tdepthT6\tint\n",
       "\tdepthT7\tint\n",
       "\tdepthT8\tint\n",
       "\tdepthT9\tint\n",
       "\tdepthT10\tint\n",
       "\tdepthT11\tint\n",
       "\tdepthT12\tint\n",
       "\tdepthT13\tint\n",
       "\tdepthT14\tint\n",
       "\tdepthT15\tint\n",
       "\tdepthT16\tint\n",
       "\tdepthT17\tint\n",
       "\tdepthT18\tint\n",
       "\tdepthT19\tint\n",
       "\tdepthT20\tint\n",
       "\tdepthT21\tint\n",
       "\tdepthT22\tint\n",
       "\tdepthT23\tint\n",
       "\tdepthT24\tint\n",
       "\tdepthT25\tint\n",
       "\tdepthT26\tint\n",
       "\tdepthT27\tint\n",
       "\tdepthT28\tint\n",
       "\tdepthT29\tint\n",
       "\tdepthT30\tint\n",
       "\tdepthT31\tint\n",
       "\tdepthT32\tint\n",
       "\tdepthT33\tint\n",
       "\tdepthT34\tint\n",
       "\tdepthT35\tint\n",
       "\tdepthT36\tint\n",
       "\tdepthT37\tint\n",
       "\tdepthT38\tint\n",
       "\tdepthT39\tint\n",
       "\tdepthT40\tint\n",
       "\tdepthT41\tint\n",
       "\tdepthT42\tint\n",
       "\tdepthT43\tint\n",
       "\tdepthT44\tint\n",
       "\tdepthT45\tint\n",
       "\tdepthT46\tint\n",
       "\tdepthT47\tint\n",
       "\tdepthT48\tint\n",
       "\tdepthT49\tint\n",
       "\tdepthT50\tint\n",
       "\tdepthT51\tint\n",
       "\tdepthT52\tint\n",
       "\tdepthT53\tint\n",
       "\tdepthT54\tint\n",
       "\tdepthT55\tint\n",
       "\tdepthT56\tint\n",
       "\tdepthT57\tint\n",
       "\tdepthT58\tint\n",
       "\tdepthT59\tint\n",
       "\tdepthT60\tint\n",
       "\tdepthT75\tint\n",
       "\tdepthT90\tint\n",
       "\tdepthT105\tint\n",
       "\tdepthT120\tint\n",
       "\tdepthT135\tint\n",
       "\tdepthT150\tint\n",
       "\tdepthT165\tint\n",
       "\tdepthT180\tint\n",
       "\tdepthT195\tint\n",
       "\tdepthT210\tint\n",
       "\tdepthT225\tint\n",
       "\tdepthT240\tint\n",
       "\tdepthT255\tint\n",
       "\tdepthT270\tint\n",
       "\tdepthT285\tint\n",
       "\tdepthT300\tint\n",
       "\tdepthT315\tint\n",
       "\tdepthT330\tint\n",
       "\tdepthT345\tint\n",
       "\tdepthT360\tint\n",
       "\tdepthT375\tint\n",
       "\tdepthT390\tint\n",
       "\tdepthT405\tint\n",
       "\tdepthT420\tint\n",
       "\tdepthT435\tint\n",
       "\tdepthT450\tint\n",
       "\tdepthT465\tint\n",
       "\tdepthT480\tint\n",
       "\tdepthT495\tint\n",
       "\tdepthT510\tint\n",
       "\tdepthT525\tint\n",
       "\tdepthT540\tint\n",
       "\tdepthT555\tint\n",
       "\tdepthT570\tint\n",
       "\tdepthT585\tint\n",
       "\tdepthT600\tint\n",
       "\tdepthT615\tint\n",
       "\tdepthT630\tint\n",
       "\tdepthT645\tint\n",
       "\tdepthT660\tint\n",
       "\tdepthT675\tint\n",
       "\tdepthT690\tint\n",
       "\tdepthT705\tint\n",
       "\tdepthT720\tint\n",
       "\tdepthT735\tint\n",
       "\tdepthT750\tint\n",
       "\tdepthT765\tint\n",
       "\tdepthT780\tint\n",
       "\tdepthT795\tint\n",
       "\tdepthT810\tint\n",
       "\tdepthT825\tint\n",
       "\tdepthT840\tint\n",
       "\tdepthT855\tint\n",
       "\tdepthT870\tint\n",
       "\tdepthT885\tint\n",
       "\tdepthT900\tint\n",
       "\tdepthT915\tint\n",
       "\tdepthT930\tint\n",
       "\tdepthT945\tint\n",
       "\tdepthT960\tint\n",
       "\tdepthT975\tint\n",
       "\tdepthT990\tint\n",
       "\tdepthT1005\tint\n",
       "\tdepthT1020\tint\n",
       "\tdepthT1035\tint\n",
       "\tdepthT1050\tint\n",
       "\tdepthT1065\tint\n",
       "\tdepthT1080\tint\n",
       "\tdepthT1095\tint\n",
       "\tdepthT1110\tint\n",
       "\tdepthT1125\tint\n",
       "\tdepthT1140\tint\n",
       "\tdepthT1155\tint\n",
       "\tdepthT1170\tint\n",
       "\tdepthT1185\tint\n",
       "\tdepthT1200\tint\n",
       "\tdepthT1215\tint\n",
       "\tdepthT1230\tint\n",
       "\tdepthT1245\tint\n",
       "\tdepthT1260\tint\n",
       "\tdepthT1275\tint\n",
       "\tdepthT1290\tint\n",
       "\tdepthT1305\tint\n",
       "\tdepthT1320\tint\n",
       "\tdepthT1335\tint\n",
       "\tdepthT1350\tint\n",
       "\tdepthT1365\tint\n",
       "\tdepthT1380\tint\n",
       "\tdepthT1395\tint\n",
       "\tdepthT1410\tint\n",
       "\tdepthT1425\tint\n",
       "\tdepthT1440\tint\n",
       "\tdepthT1455\tint\n",
       "\tdepthT1470\tint\n",
       "\tdepthT1485\tint\n",
       "\tdepthT1500\tint\n",
       "\tdepthT1515\tint\n",
       "\tdepthT1530\tint\n",
       "\tdepthT1545\tint\n",
       "\tdepthT1560\tint\n",
       "\tdepthT1575\tint\n",
       "\tdepthT1590\tint\n",
       "\tdepthT1605\tint\n",
       "\tdepthT1620\tint\n",
       "\tdepthT1635\tint\n",
       "\tdepthT1650\tint\n",
       "\tdepthT1665\tint\n",
       "\tdepthT1680\tint\n",
       "\tdepthT1695\tint\n",
       "\tdepthT1710\tint\n",
       "\tdepthT1725\tint\n",
       "\tdepthT1740\tint\n",
       "\tdepthT1755\tint\n",
       "\tdepthT1770\tint\n",
       "\tdepthT1785\tint\n",
       "\tdepthT1800\tint\n",
       "\tdepthT1815\tint\n",
       "\tdepthT1830\tint\n",
       "\tdepthT1845\tint\n",
       "\tdepthT1860\tint\n",
       "\tdepthT1875\tint\n",
       "\tdepthT1890\tint\n",
       "\tdepthT1905\tint\n",
       "\tdepthT1920\tint\n",
       "\tdepthT1935\tint\n",
       "\tdepthT1950\tint\n",
       "\tdepthT1965\tint\n",
       "\tdepthT1980\tint\n",
       "\tdepthT1995\tint\n",
       "\tdepthT2010\tint\n",
       "\tdepthT2025\tint\n",
       "\tdepthT2040\tint\n",
       "\tdepthT2055\tint\n",
       "\tdepthT2070\tint\n",
       "\tdepthT2085\tint\n",
       "\tdepthT2100\tint\n",
       "\tdepthT2115\tint\n",
       "\tdepthT2130\tint\n",
       "\tdepthT2145\tint\n",
       "\tdepthT2160\tint\n",
       "\tdepthT2175\tint\n",
       "\tdepthT2190\tint\n",
       "\tdepthT2205\tint\n",
       "\tdepthT2220\tint\n",
       "\tdepthT2235\tint\n",
       "\tdepthT2250\tint\n",
       "\tdepthT2265\tint\n",
       "\tdepthT2280\tint\n",
       "\tdepthT2295\tint\n",
       "\tdepthT2310\tint\n",
       "\tdepthT2325\tint\n",
       "\tdepthT2340\tint\n",
       "\tdepthT2355\tint\n",
       "\tdepthT2370\tint\n",
       "\tdepthT2385\tint\n",
       "\tdepthT2400\tint\n",
       "\tdepthT2415\tint\n",
       "\tdepthT2430\tint\n",
       "\tdepthT2445\tint\n",
       "\tdepthT2460\tint\n",
       "\tdepthT2475\tint\n",
       "\tdepthT2490\tint\n",
       "\tdepthT2505\tint\n",
       "\tdepthT2520\tint\n",
       "\tdepthT2535\tint\n",
       "\tdepthT2550\tint\n",
       "\tdepthT2565\tint\n",
       "\tdepthT2580\tint\n",
       "\tdepthT2595\tint\n",
       "\tdepthT2610\tint\n",
       "\tdepthT2625\tint\n",
       "\tdepthT2640\tint\n",
       "\tdepthT2655\tint\n",
       "\tdepthT2670\tint\n",
       "\tdepthT2685\tint\n",
       "\tdepthT2700\tint\n",
       "\tdepthT2715\tint\n",
       "\tdepthT2730\tint\n",
       "\tdepthT2745\tint\n",
       "\tdepthT2760\tint\n",
       "\tdepthT2775\tint\n",
       "\tdepthT2790\tint\n",
       "\tdepthT2805\tint\n",
       "\tdepthT2820\tint\n",
       "\tdepthT2835\tint\n",
       "\tdepthT2850\tint\n",
       "\tdepthT2865\tint\n",
       "\tdepthT2880\tint\n",
       "\tdepthT2895\tint\n",
       "\tdepthT2910\tint\n",
       "\tdepthT2925\tint\n",
       "\tdepthT2940\tint\n",
       "\tdepthT2955\tint\n",
       "\tdepthT2970\tint\n",
       "\tdepthT2985\tint\n",
       "\tdepthT3000\tint\n",
       "\tdepthT3015\tint\n",
       "\tdepthT3030\tint\n",
       "\tdepthT3045\tint\n",
       "\tdepthT3060\tint\n",
       "\tdepthT3075\tint\n",
       "\tdepthT3090\tint\n",
       "\tdepthT3105\tint\n",
       "\tdepthT3120\tint\n",
       "\tdepthT3135\tint\n",
       "\tdepthT3150\tint\n",
       "\tdepthT3165\tint\n",
       "\tdepthT3180\tint\n",
       "\tdepthT3195\tint\n",
       "\tdepthT3210\tint\n",
       "\tdepthT3225\tint\n",
       "\tdepthT3240\tint\n",
       "\tdepthT3255\tint\n",
       "\tdepthT3270\tint\n",
       "\tdepthT3285\tint\n",
       "\tdepthT3300\tint\n",
       "\tdepthT3315\tint\n",
       "\tdepthT3330\tint\n",
       "\tdepthT3345\tint\n",
       "\tdepthT3360\tint\n",
       "\tdepthT3375\tint\n",
       "\tdepthT3390\tint\n",
       "\tdepthT3405\tint\n",
       "\tdepthT3420\tint\n",
       "\tdepthT3435\tint\n",
       "\tdepthT3450\tint\n",
       "\tdepthT3465\tint\n",
       "\tdepthT3480\tint\n",
       "\tdepthT3495\tint\n",
       "\tdepthT3510\tint\n",
       "\tdepthT3525\tint\n",
       "\tdepthT3540\tint\n",
       "\tdepthT3555\tint\n",
       "\tdepthT3570\tint\n",
       "\tdepthT3585\tint\n",
       "\tdepthT3600\tint\n",
       "\tdepthT3615\tint\n",
       "\tdepthT3630\tint\n",
       "\tdepthT3645\tint\n",
       "\tdepthT3660\tint\n",
       "\tdepthT3675\tint\n",
       "\tdepthT3690\tint\n",
       "\tdepthT3705\tint\n",
       "\tdepthT3720\tint\n",
       "\tdepthT3735\tint\n",
       "\tdepthT3750\tint\n",
       "\tdepthT3765\tint\n",
       "\tdepthT3780\tint\n",
       "\tdepthT3795\tint\n",
       "\tdepthT3810\tint\n",
       "\tdepthT3825\tint\n",
       "\tdepthT3840\tint\n",
       "\tdepthT3855\tint\n",
       "\tdepthT3870\tint\n",
       "\tdepthT3885\tint\n",
       "\tdepthT3900\tint\n",
       "\tdepthT3915\tint\n",
       "\tdepthT3930\tint\n",
       "\tdepthT3945\tint\n",
       "\tdepthT3960\tint\n",
       "\tdepthT3975\tint\n",
       "\tdepthT3990\tint\n",
       "\tdepthT4005\tint\n",
       "\tdepthT4020\tint\n",
       "\tdepthT4035\tint\n",
       "\tdepthT4050\tint\n",
       "\tdepthT4065\tint\n",
       "\tdepthT4080\tint\n",
       "\tdepthT4095\tint\n",
       "\tdepthT4110\tint\n",
       "\tdepthT4125\tint\n",
       "\tdepthT4140\tint\n",
       "\tdepthT4155\tint\n",
       "\tdepthT4170\tint\n",
       "\tdepthT4185\tint\n",
       "\tdepthT4200\tint\n",
       "\tdepthT4215\tint\n",
       "\tdepthT4230\tint\n",
       "\tdepthT4245\tint\n",
       "\tdepthT4260\tint\n",
       "\tdepthT4275\tint\n",
       "\tdepthT4290\tint\n",
       "\tdepthT4305\tint\n",
       "\tdepthT4320\tint\n",
       "\tdepthT4335\tint\n",
       "\tdepthT4350\tint\n",
       "\tdepthT4365\tint\n",
       "\tdepthT4380\tint\n",
       "\n",
       "Rows: 10\n",
       "\n",
       "Data:\n",
       "+------------+-------------+------------+-------------+------------+-----------+\n",
       "| tweet_user | out_degree2 | in_degree2 | all_degree2 | bi_degree2 | pagerank2 |\n",
       "+------------+-------------+------------+-------------+------------+-----------+\n",
       "|   114011   |      0      |    255     |     252     |     0      |  14.1023  |\n",
       "|   144652   |      7      |    1009    |     920     |     1      |  75.5127  |\n",
       "|   144652   |      7      |    1009    |     920     |     1      |  75.5127  |\n",
       "|   152768   |      0      |    547     |     543     |     0      |  77.5759  |\n",
       "|   155435   |      0      |    385     |     380     |     0      |  50.0258  |\n",
       "|   157223   |      0      |    1269    |     1096    |     0      |   82.633  |\n",
       "|   157223   |      0      |    1269    |     1096    |     0      |   82.633  |\n",
       "|   157223   |      0      |    1269    |     1096    |     0      |   82.633  |\n",
       "|   157245   |      0      |    2026    |     1989    |     0      |  218.638  |\n",
       "|   157245   |      0      |    2026    |     1989    |     0      |  218.638  |\n",
       "+------------+-------------+------------+-------------+------------+-----------+\n",
       "+------------------+---------------+-----------+-----+---------+---------+---------+\n",
       "|     weibo_id     |  release_time | wordlenth | URL | Hashtag | mention | picture |\n",
       "+------------------+---------------+-----------+-----+---------+---------+---------+\n",
       "| 3974606387442802 | 9.61666666667 |    392    |  1  |    1    |    0    |    1    |\n",
       "| 3957274441700193 | 13.7666666667 |     96    |  1  |    1    |    1    |    0    |\n",
       "| 3959404967835125 | 10.8666666667 |    173    |  0  |    1    |    0    |    0    |\n",
       "| 3954110896652586 | 20.2666666667 |    249    |  0  |    0    |    0    |    0    |\n",
       "| 3951263068328236 |     23.65     |     90    |  1  |    1    |    0    |    0    |\n",
       "| 3958367494594822 | 14.1666666667 |    162    |  0  |    0    |    0    |    0    |\n",
       "| 3963034382906252 | 11.2333333333 |     14    |  0  |    1    |    0    |    0    |\n",
       "| 3963022601009002 | 10.4666666667 |    296    |  0  |    1    |    0    |    0    |\n",
       "| 3966639445423588 |      10.0     |     86    |  0  |    0    |    1    |    0    |\n",
       "| 3956326495593412 |      23.0     |     67    |  0  |    0    |    0    |    0    |\n",
       "+------------------+---------------+-----------+-----+---------+---------+---------+\n",
       "+------------------+---------+---------+-----------+-----------+-------------+\n",
       "| content_category | hongbao | guanzhu | choujiang | pagerank1 | out_degree1 |\n",
       "+------------------+---------+---------+-----------+-----------+-------------+\n",
       "|        6         |    0    |    0    |     0     |  1.97947  |      0      |\n",
       "|        6         |    0    |    0    |     0     |  1.32334  |     141     |\n",
       "|        4         |    0    |    0    |     0     |  1.32334  |     141     |\n",
       "|        7         |    0    |    0    |     0     |  197.497  |      0      |\n",
       "|        9         |    0    |    0    |     0     |  10.1682  |      13     |\n",
       "|        6         |    0    |    0    |     0     |  0.176108 |      11     |\n",
       "|        1         |    0    |    0    |     0     |  0.176108 |      11     |\n",
       "|        6         |    0    |    0    |     0     |  0.176108 |      11     |\n",
       "|        7         |    0    |    1    |     0     |  36.1523  |      33     |\n",
       "|        0         |    0    |    0    |     0     |  36.1523  |      33     |\n",
       "+------------------+---------+---------+-----------+-----------+-------------+\n",
       "+------------+-----+\n",
       "| in_degree1 | ... |\n",
       "+------------+-----+\n",
       "|     64     | ... |\n",
       "|    279     | ... |\n",
       "|    279     | ... |\n",
       "|    2036    | ... |\n",
       "|    1358    | ... |\n",
       "|     8      | ... |\n",
       "|     8      | ... |\n",
       "|     8      | ... |\n",
       "|    9385    | ... |\n",
       "|    9385    | ... |\n",
       "+------------+-----+\n",
       "[10 rows x 718 columns]"
      ]
     },
     "execution_count": 39,
     "metadata": {},
     "output_type": "execute_result"
    }
   ],
   "source": [
    "WeiboProfile_train_final=gl.SFrame.read_csv('WeiboProfile_train_final.csv')\n",
    "WeiboProfile_train_final.head(10)"
   ]
  },
  {
   "cell_type": "code",
   "execution_count": 5,
   "metadata": {
    "collapsed": false
   },
   "outputs": [
    {
     "data": {
      "text/html": [
       "<pre>Finished parsing file /Users/xiaokeeie/all_datasets/weibojingsai/weibo_train_dataset/WeiboProfile_train_final.csv</pre>"
      ],
      "text/plain": [
       "Finished parsing file /Users/xiaokeeie/all_datasets/weibojingsai/weibo_train_dataset/WeiboProfile_train_final.csv"
      ]
     },
     "metadata": {},
     "output_type": "display_data"
    },
    {
     "data": {
      "text/html": [
       "<pre>Parsing completed. Parsed 100 lines in 0.861929 secs.</pre>"
      ],
      "text/plain": [
       "Parsing completed. Parsed 100 lines in 0.861929 secs."
      ]
     },
     "metadata": {},
     "output_type": "display_data"
    },
    {
     "data": {
      "text/html": [
       "<pre>Read 25027 lines. Lines per second: 14776.3</pre>"
      ],
      "text/plain": [
       "Read 25027 lines. Lines per second: 14776.3"
      ]
     },
     "metadata": {},
     "output_type": "display_data"
    },
    {
     "data": {
      "text/html": [
       "<pre>Finished parsing file /Users/xiaokeeie/all_datasets/weibojingsai/weibo_train_dataset/WeiboProfile_train_final.csv</pre>"
      ],
      "text/plain": [
       "Finished parsing file /Users/xiaokeeie/all_datasets/weibojingsai/weibo_train_dataset/WeiboProfile_train_final.csv"
      ]
     },
     "metadata": {},
     "output_type": "display_data"
    },
    {
     "data": {
      "text/html": [
       "<pre>Parsing completed. Parsed 26955 lines in 1.7602 secs.</pre>"
      ],
      "text/plain": [
       "Parsing completed. Parsed 26955 lines in 1.7602 secs."
      ]
     },
     "metadata": {},
     "output_type": "display_data"
    },
    {
     "name": "stdout",
     "output_type": "stream",
     "text": [
      "------------------------------------------------------\n",
      "Inferred types from first 100 line(s) of file as \n",
      "column_type_hints=[int,int,int,int,int,float,int,float,int,int,int,int,int,int,int,int,int,float,int,int,int,int,int,int,int,int,int,int,int,int,int,int,int,int,int,int,int,int,int,int,int,int,int,int,int,int,int,int,int,int,int,int,int,int,int,int,int,int,int,int,int,int,int,int,int,int,int,int,int,int,int,int,int,int,int,int,int,int,int,int,int,int,int,int,int,int,int,int,int,int,int,int,int,int,int,int,int,int,int,int,int,int,int,int,int,int,int,int,int,int,int,int,int,int,int,int,int,int,int,int,int,int,int,int,int,int,int,int,int,int,int,int,int,int,int,int,int,int,int,int,int,int,int,int,int,int,int,int,int,int,int,int,int,int,int,int,int,int,int,int,int,int,int,int,int,int,int,int,int,int,int,int,int,int,int,int,int,int,int,int,int,int,int,int,int,int,int,int,int,int,int,int,int,int,int,int,int,int,int,int,int,int,int,int,int,int,int,int,int,int,int,int,int,int,int,int,int,int,int,int,int,int,int,int,int,int,int,int,int,int,int,int,int,int,int,int,int,int,int,int,int,int,int,int,int,int,int,int,int,int,int,int,int,int,int,int,int,int,int,int,int,int,int,int,int,int,int,int,int,int,int,int,int,int,int,int,int,int,int,int,int,int,int,int,int,int,int,int,int,int,int,int,int,int,int,int,int,int,int,int,int,int,int,int,int,int,int,int,int,int,int,int,int,int,int,int,int,int,int,int,int,int,int,int,int,int,int,int,int,int,int,int,int,int,int,int,int,int,int,int,int,int,int,int,int,int,int,int,int,int,int,int,int,int,int,int,int,int,int,int,int,int,int,int,int,int,int,int,int,int,int,int,int,int,int,int,int,int,int,int,int,int,int,int,int,int,int,int,int,int,int,int,int,int,int,int,int,int,int,int,int,int,int,int,int,int,int,int,int,int,int,int,int,int,int,int,int,int,int,int,int,int,int,int,int,int,int,int,int,int,int,int,int,int,int,int,int,int,int,int,int,int,int,int,int,int,int,int,int,int,int,int,int,int,int,int,int,int,int,int,int,int,int,int,int,int,int,int,int,int,int,int,int,int,int,int,int,int,int,int,int,int,int,int,int,int,int,int,int,int,int,int,int,int,int,int,int,int,int,int,int,int,int,int,int,int,int,int,int,int,int,int,int,int,int,int,int,int,int,int,int,int,int,int,int,int,int,int,int,int,int,int,int,int,int,int,int,int,int,int,int,int,int,int,int,int,int,int,int,int,int,int,int,int,int,int,int,int,int,int,int,int,int,int,int,int,int,int,int,int,int,int,int,int,int,int,int,int,int,int,int,int,int,int,int,int,int,int,int,int,int,int,int,int,int,int,int,int,int,int,int,int,int,int,int,int,int,int,int,int,int,int,int,int,int,int,int,int,int,int,int,int,int,int,int,int,int,int,int,int,int,int,int,int,int,int,int,int,int,int,int,int,int,int,int,int,int,int,int,int,int,int,int,int,int,int,int,int,int,int,int,int,int,int,int,int,int,int,int,int,int,int,int,int,int,int,int,int,int,int,int,int,int,int,int,int,int,int,int,int,int,int,int,int,int,int,int,int,int,int,int,int,int,int,int,int,int,int,int,int,int,int,int,int,int,int,int,int]\n",
      "If parsing fails due to incorrect types, you can correct\n",
      "the inferred type list above and pass it to read_csv in\n",
      "the column_type_hints argument\n",
      "------------------------------------------------------\n"
     ]
    }
   ],
   "source": [
    "#使用graphlab重新将数据载入到内存空间中\n",
    "WeiboProfile_train_final=gl.SFrame.read_csv('WeiboProfile_train_final.csv')\n",
    "\n",
    "column_names=[]\n",
    "range_scale= []\n",
    "range_scale.extend(range(75,72*61+1,15))\n",
    "\n",
    "for time_range in range_scale:\n",
    "    column_names.append('scaleT'+str(time_range))\n",
    "\n",
    "for item in column_names:\n",
    "    WeiboProfile_train_final[item]=WeiboProfile_train_final[item]-WeiboProfile_train_final['scaleT60']\n",
    "\n",
    "\n",
    "train_names=[]\n",
    "\n",
    "train_names1=[]\n",
    "train_scale=range(1,61,1)\n",
    "for time_range in train_scale:\n",
    "    train_names1.append('scaleT'+str(time_range))\n",
    "for time_range in train_scale:\n",
    "    train_names1.append('depthT'+str(time_range))\n",
    "train_names.extend(train_names1)\n",
    "\n",
    "#all_degree1-10\n",
    "\n",
    "train_names2=['out_degree1','in_degree1','all_degree1','bi_degree1','pagerank1']\n",
    "train_names.extend(train_names2)\n",
    "\n",
    "\n",
    "train_names3=['out_degree2','in_degree2','all_degree2','bi_degree2','pagerank2']\n",
    "train_names.extend(train_names3)\n",
    "\n",
    "train_names4=['release_time','wordlenth','URL','Hashtag','mention','picture','content_category','hongbao','guanzhu','choujiang']\n",
    "train_names.extend(train_names4)\n",
    "\n",
    "\n",
    "train_data, test_data = WeiboProfile_train_final.random_split(0.85)"
   ]
  },
  {
   "cell_type": "code",
   "execution_count": 41,
   "metadata": {
    "collapsed": false
   },
   "outputs": [
    {
     "name": "stdout",
     "output_type": "stream",
     "text": [
      "the train and test process for  scaleT75\n",
      "the train and test process for  scaleT135\n",
      "the train and test process for  scaleT195\n",
      "the train and test process for  scaleT255\n",
      "the train and test process for  scaleT315\n",
      "the train and test process for  scaleT375\n",
      "the train and test process for  scaleT435\n",
      "the train and test process for  scaleT495\n",
      "the train and test process for  scaleT555\n",
      "the train and test process for  scaleT615\n",
      "the train and test process for  scaleT675\n",
      "the train and test process for  scaleT735\n",
      "the train and test process for  scaleT795\n",
      "the train and test process for  scaleT855\n",
      "the train and test process for  scaleT915\n",
      "the train and test process for  scaleT975\n",
      "the train and test process for  scaleT1035\n",
      "the train and test process for  scaleT1095\n",
      "the train and test process for  scaleT1155\n",
      "the train and test process for  scaleT1215\n",
      "the train and test process for  scaleT1275\n",
      "the train and test process for  scaleT1335\n",
      "the train and test process for  scaleT1395\n",
      "the train and test process for  scaleT1455\n",
      "the train and test process for  scaleT1515\n",
      "the train and test process for  scaleT1575\n",
      "the train and test process for  scaleT1635\n",
      "the train and test process for  scaleT1695\n",
      "the train and test process for  scaleT1755\n",
      "the train and test process for  scaleT1815\n",
      "the train and test process for  scaleT1875\n",
      "the train and test process for  scaleT1935\n",
      "the train and test process for  scaleT1995\n",
      "the train and test process for  scaleT2055\n",
      "the train and test process for  scaleT2115\n",
      "the train and test process for  scaleT2175\n",
      "the train and test process for  scaleT2235\n",
      "the train and test process for  scaleT2295\n",
      "the train and test process for  scaleT2355\n",
      "the train and test process for  scaleT2415\n",
      "the train and test process for  scaleT2475\n",
      "the train and test process for  scaleT2535\n",
      "the train and test process for  scaleT2595\n",
      "the train and test process for  scaleT2655\n",
      "the train and test process for  scaleT2715\n",
      "the train and test process for  scaleT2775\n",
      "the train and test process for  scaleT2835\n",
      "the train and test process for  scaleT2895\n",
      "the train and test process for  scaleT2955\n",
      "the train and test process for  scaleT3015\n",
      "the train and test process for  scaleT3075\n",
      "the train and test process for  scaleT3135\n",
      "the train and test process for  scaleT3195\n",
      "the train and test process for  scaleT3255\n",
      "the train and test process for  scaleT3315\n",
      "the train and test process for  scaleT3375\n",
      "the train and test process for  scaleT3435\n",
      "the train and test process for  scaleT3495\n",
      "the train and test process for  scaleT3555\n",
      "the train and test process for  scaleT3615\n",
      "the train and test process for  scaleT3675\n",
      "the train and test process for  scaleT3735\n",
      "the train and test process for  scaleT3795\n",
      "the train and test process for  scaleT3855\n",
      "the train and test process for  scaleT3915\n",
      "the train and test process for  scaleT3975\n",
      "the train and test process for  scaleT4035\n",
      "the train and test process for  scaleT4095\n",
      "the train and test process for  scaleT4155\n",
      "the train and test process for  scaleT4215\n",
      "the train and test process for  scaleT4275\n",
      "the train and test process for  scaleT4335\n",
      "the value of rmse for scale preidction is  211.754380397\n"
     ]
    },
    {
     "data": {
      "image/png": "[encoded data removed]",
      "text/plain": [
       "<matplotlib.figure.Figure at 0x116930f50>"
      ]
     },
     "metadata": {},
     "output_type": "display_data"
    }
   ],
   "source": [
    "#test_data=WeiboProfile_train_final\n",
    "test_names=[]\n",
    "\n",
    "#验证全部时间范围内的结果\n",
    "result_tmp=[]\n",
    "test_scale=range(75,72*61+1,60)\n",
    "\n",
    "#test_scale=range(75,91,15)\n",
    "for time_range in test_scale:\n",
    "    test_names.append('scaleT'+str(time_range))\n",
    "rmse_scale_results=[]\n",
    "for test_column in test_names:\n",
    "    regression_model = gl.random_forest_regression.create(train_data, target=test_column, features = train_names1, verbose=False)\n",
    "    print \"the train and test process for \",test_column\n",
    "    predictions = regression_model.predict(test_data)\n",
    "    result_tmp.append(predictions)\n",
    "    results = regression_model.evaluate(test_data)\n",
    "    rmse_scale_results.append(results['rmse'])\n",
    "\n",
    "print \"the value of rmse for scale preidction is \",np.mean(rmse_scale_results)\n",
    "\n",
    "fig = gcf() \n",
    "fig.set_size_inches(15, 9)\n",
    "\n",
    "plot(test_scale,rmse_scale_results,'ro-')\n",
    "xlabel('Spreading time (minutes)')\n",
    "ylabel('RMSE')\n",
    "\n",
    "savefig(\"testset_scale_result.pdf\")"
   ]
  },
  {
   "cell_type": "code",
   "execution_count": 42,
   "metadata": {
    "collapsed": false
   },
   "outputs": [
    {
     "name": "stdout",
     "output_type": "stream",
     "text": [
      "the train and test process for  depthT75\n",
      "the train and test process for  depthT135\n",
      "the train and test process for  depthT195\n",
      "the train and test process for  depthT255\n",
      "the train and test process for  depthT315\n",
      "the train and test process for  depthT375\n",
      "the train and test process for  depthT435\n",
      "the train and test process for  depthT495\n",
      "the train and test process for  depthT555\n",
      "the train and test process for  depthT615\n",
      "the train and test process for  depthT675\n",
      "the train and test process for  depthT735\n",
      "the train and test process for  depthT795\n",
      "the train and test process for  depthT855\n",
      "the train and test process for  depthT915\n",
      "the train and test process for  depthT975\n",
      "the train and test process for  depthT1035\n",
      "the train and test process for  depthT1095\n",
      "the train and test process for  depthT1155\n",
      "the train and test process for  depthT1215\n",
      "the train and test process for  depthT1275\n",
      "the train and test process for  depthT1335\n",
      "the train and test process for  depthT1395\n",
      "the train and test process for  depthT1455\n",
      "the train and test process for  depthT1515\n",
      "the train and test process for  depthT1575\n",
      "the train and test process for  depthT1635\n",
      "the train and test process for  depthT1695\n",
      "the train and test process for  depthT1755\n",
      "the train and test process for  depthT1815\n",
      "the train and test process for  depthT1875\n",
      "the train and test process for  depthT1935\n",
      "the train and test process for  depthT1995\n",
      "the train and test process for  depthT2055\n",
      "the train and test process for  depthT2115\n",
      "the train and test process for  depthT2175\n",
      "the train and test process for  depthT2235\n",
      "the train and test process for  depthT2295\n",
      "the train and test process for  depthT2355\n",
      "the train and test process for  depthT2415\n",
      "the train and test process for  depthT2475\n",
      "the train and test process for  depthT2535\n",
      "the train and test process for  depthT2595\n",
      "the train and test process for  depthT2655\n",
      "the train and test process for  depthT2715\n",
      "the train and test process for  depthT2775\n",
      "the train and test process for  depthT2835\n",
      "the train and test process for  depthT2895\n",
      "the train and test process for  depthT2955\n",
      "the train and test process for  depthT3015\n",
      "the train and test process for  depthT3075\n",
      "the train and test process for  depthT3135\n",
      "the train and test process for  depthT3195\n",
      "the train and test process for  depthT3255\n",
      "the train and test process for  depthT3315\n",
      "the train and test process for  depthT3375\n",
      "the train and test process for  depthT3435\n",
      "the train and test process for  depthT3495\n",
      "the train and test process for  depthT3555\n",
      "the train and test process for  depthT3615\n",
      "the train and test process for  depthT3675\n",
      "the train and test process for  depthT3735\n",
      "the train and test process for  depthT3795\n",
      "the train and test process for  depthT3855\n",
      "the train and test process for  depthT3915\n",
      "the train and test process for  depthT3975\n",
      "the train and test process for  depthT4035\n",
      "the train and test process for  depthT4095\n",
      "the train and test process for  depthT4155\n",
      "the train and test process for  depthT4215\n",
      "the train and test process for  depthT4275\n",
      "the train and test process for  depthT4335\n",
      "the value of rmse for scale preidction is  [0.396796314897023, 0.7733150886026379, 0.9746725414627491, 1.09906945962153, 1.180973962362181, 1.2448057660187504, 1.2815792724791506, 1.3246351395510307, 1.3625018315281736, 1.4004196691018487, 1.4355520847560561, 1.4584315901076252, 1.4863493904480256, 1.5143889561544306, 1.5226791316220154, 1.5337018021152478, 1.5534417632997566, 1.5806222981005464, 1.5945323714281943, 1.608474011065226, 1.6193448720808492, 1.6270004364098343, 1.6319911518341563, 1.6384052676238774, 1.645722974965286, 1.6492652631354519, 1.6569553330579985, 1.6631335569281003, 1.6611322956164722, 1.666237141200782, 1.6699839515975459, 1.6683337367708428, 1.6755251369317445, 1.6748517863026995, 1.6809515966309179, 1.6824189100141147, 1.685404468375076, 1.6859338472357583, 1.6838691062018767, 1.6925261921765862, 1.697072016894738, 1.7012775054983584, 1.7038212612950479, 1.7060859874618441, 1.7055363019490957, 1.7059829635380088, 1.707939621555197, 1.707871373004585, 1.7082242516689863, 1.7096967000300658, 1.712684075060528, 1.7063366266135755, 1.707154877968815, 1.70749227212617, 1.7075486708318115, 1.7101110627501799, 1.7123695442651465, 1.7072307995533575, 1.71146006717022, 1.7119294650282006, 1.7110515449264736, 1.7110352927366446, 1.7157540969074296, 1.7215511960134118, 1.7193095874903588, 1.722260524721766, 1.7272183850465725, 1.7232597485108352, 1.7275404966505574, 1.7286548137194988, 1.727775499490926, 1.729750705785529]\n"
     ]
    },
    {
     "data": {
      "image/png": "[encoded data removed]",
      "text/plain": [
       "<matplotlib.figure.Figure at 0x115302110>"
      ]
     },
     "metadata": {},
     "output_type": "display_data"
    }
   ],
   "source": [
    "test_names=[]\n",
    "\n",
    "#验证全部时间范围内的结果\n",
    "result_tmp=[]\n",
    "\n",
    "test_scale=range(75,72*61+1,60)\n",
    "#test_scale=range(75,72*61+1,300)\n",
    "for time_range in test_scale:\n",
    "    test_names.append('depthT'+str(time_range))\n",
    "    \n",
    "rmse_depth_results=[]\n",
    "for test_column in test_names:\n",
    "    regression_model = gl.random_forest_regression.create(train_data, target=test_column, features = train_names1, verbose=False)\n",
    "    print \"the train and test process for \",test_column\n",
    "    predictions = regression_model.predict(test_data)\n",
    "    results = regression_model.evaluate(test_data)\n",
    "    rmse_depth_results.append(results['rmse'])\n",
    "\n",
    "print \"the value of rmse for scale preidction is \",rmse_depth_results\n",
    "\n",
    "\n",
    "fig = gcf() \n",
    "fig.set_size_inches(15, 9)\n",
    "plot(test_scale,rmse_depth_results,'bs-')\n",
    "xlabel('Spreading time (minutes)')\n",
    "ylabel('RMSE')\n",
    "savefig(\"testset_depth_result.pdf\")\n"
   ]
  },
  {
   "cell_type": "markdown",
   "metadata": {
    "collapsed": true
   },
   "source": [
    "# 基于Xgboost的机器学习框架"
   ]
  },
  {
   "cell_type": "code",
   "execution_count": 7,
   "metadata": {
    "collapsed": false
   },
   "outputs": [
    {
     "name": "stderr",
     "output_type": "stream",
     "text": [
      "//anaconda/lib/python2.7/site-packages/sklearn/preprocessing/label.py:112: DataConversionWarning: A column-vector y was passed when a 1d array was expected. Please change the shape of y to (n_samples, ), for example using ravel().\n",
      "  y = column_or_1d(y, warn=True)\n",
      "//anaconda/lib/python2.7/site-packages/sklearn/preprocessing/label.py:147: DataConversionWarning: A column-vector y was passed when a 1d array was expected. Please change the shape of y to (n_samples, ), for example using ravel().\n",
      "  y = column_or_1d(y, warn=True)\n"
     ]
    },
    {
     "data": {
      "text/plain": [
       "<matplotlib.axes._subplots.AxesSubplot at 0x12204d550>"
      ]
     },
     "execution_count": 7,
     "metadata": {},
     "output_type": "execute_result"
    },
    {
     "data": {
      "image/png": "[encoded data removed]",
      "text/plain": [
       "<matplotlib.figure.Figure at 0x118194c90>"
      ]
     },
     "metadata": {},
     "output_type": "display_data"
    }
   ],
   "source": [
    "# plot feature importance using built-in function\n",
    "from xgboost import XGBClassifier\n",
    "from xgboost import plot_importance\n",
    "from sklearn.model_selection import train_test_split\n",
    "\n",
    "#使用pandas重新将数据载入到内存空间中\n",
    "dataset1=pd.read_csv('WeiboProfile_train_final.csv')\n",
    "\n",
    "train_names=['out_degree1','in_degree1','all_degree1','bi_degree1','pagerank1']\n",
    "\n",
    "X = pd.DataFrame(dataset,columns=train_names)\n",
    "y = pd.DataFrame(dataset,columns=[\"scaleT75\"])\n",
    "\n",
    "# split data into train and test sets\n",
    "#seed = 7\n",
    "#test_size = 0.2\n",
    "#X_train, X_test, y_train, y_test = train_test_split(X, y, test_size=test_size, random_state=seed)\n",
    "\n",
    "# fit model on training data\n",
    "model = XGBClassifier()\n",
    "model.fit(X, y)\n",
    "\n",
    "# plot feature importance\n",
    "plot_importance(model)"
   ]
  },
  {
   "cell_type": "code",
   "execution_count": null,
   "metadata": {
    "collapsed": true
   },
   "outputs": [],
   "source": []
  }
 ],
 "metadata": {
  "kernelspec": {
   "display_name": "Python 2",
   "language": "python",
   "name": "python2"
  },
  "language_info": {
   "codemirror_mode": {
    "name": "ipython",
    "version": 2
   },
   "file_extension": ".py",
   "mimetype": "text/x-python",
   "name": "python",
   "nbconvert_exporter": "python",
   "pygments_lexer": "ipython2",
   "version": "2.7.13"
  }
 },
 "nbformat": 4,
 "nbformat_minor": 0
}
